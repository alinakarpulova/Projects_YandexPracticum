{
 "cells": [
  {
   "cell_type": "markdown",
   "metadata": {
    "toc": true
   },
   "source": [
    "<h1>Содержание<span class=\"tocSkip\"></span></h1>\n",
    "<div class=\"toc\"><ul class=\"toc-item\"><li><span><a href=\"#Отток-клиентов\" data-toc-modified-id=\"Отток-клиентов-1\"><span class=\"toc-item-num\">1&nbsp;&nbsp;</span>Отток клиентов</a></span></li><li><span><a href=\"#Подготовка-данных\" data-toc-modified-id=\"Подготовка-данных-2\"><span class=\"toc-item-num\">2&nbsp;&nbsp;</span>Подготовка данных</a></span><ul class=\"toc-item\"><li><span><a href=\"#Проверим-данные-на--дубликаты\" data-toc-modified-id=\"Проверим-данные-на--дубликаты-2.1\"><span class=\"toc-item-num\">2.1&nbsp;&nbsp;</span>Проверим данные на  дубликаты</a></span></li><li><span><a href=\"#Обработка-пропусков\" data-toc-modified-id=\"Обработка-пропусков-2.2\"><span class=\"toc-item-num\">2.2&nbsp;&nbsp;</span>Обработка пропусков</a></span></li></ul></li><li><span><a href=\"#Исследование-задачи\" data-toc-modified-id=\"Исследование-задачи-3\"><span class=\"toc-item-num\">3&nbsp;&nbsp;</span>Исследование задачи</a></span></li><li><span><a href=\"#Борьба-с-дисбалансом\" data-toc-modified-id=\"Борьба-с-дисбалансом-4\"><span class=\"toc-item-num\">4&nbsp;&nbsp;</span>Борьба с дисбалансом</a></span><ul class=\"toc-item\"><li><span><a href=\"#Upsampling\" data-toc-modified-id=\"Upsampling-4.1\"><span class=\"toc-item-num\">4.1&nbsp;&nbsp;</span>Upsampling</a></span></li><li><span><a href=\"#Downsampling\" data-toc-modified-id=\"Downsampling-4.2\"><span class=\"toc-item-num\">4.2&nbsp;&nbsp;</span>Downsampling</a></span></li><li><span><a href=\"#Новое-представление-данных\" data-toc-modified-id=\"Новое-представление-данных-4.3\"><span class=\"toc-item-num\">4.3&nbsp;&nbsp;</span>Новое представление данных</a></span></li></ul></li><li><span><a href=\"#Тестирование-модели\" data-toc-modified-id=\"Тестирование-модели-5\"><span class=\"toc-item-num\">5&nbsp;&nbsp;</span>Тестирование модели</a></span><ul class=\"toc-item\"><li><span><a href=\"#Инициализируем-функцию-оптимизации-классификатора\" data-toc-modified-id=\"Инициализируем-функцию-оптимизации-классификатора-5.1\"><span class=\"toc-item-num\">5.1&nbsp;&nbsp;</span>Инициализируем функцию оптимизации классификатора</a></span></li><li><span><a href=\"#RandomForest\" data-toc-modified-id=\"RandomForest-5.2\"><span class=\"toc-item-num\">5.2&nbsp;&nbsp;</span>RandomForest</a></span><ul class=\"toc-item\"><li><span><a href=\"#Результаты\" data-toc-modified-id=\"Результаты-5.2.1\"><span class=\"toc-item-num\">5.2.1&nbsp;&nbsp;</span>Результаты</a></span></li></ul></li><li><span><a href=\"#LogisticRegression\" data-toc-modified-id=\"LogisticRegression-5.3\"><span class=\"toc-item-num\">5.3&nbsp;&nbsp;</span>LogisticRegression</a></span><ul class=\"toc-item\"><li><span><a href=\"#Результаты\" data-toc-modified-id=\"Результаты-5.3.1\"><span class=\"toc-item-num\">5.3.1&nbsp;&nbsp;</span>Результаты</a></span></li><li><span><a href=\"#DecisionTree\" data-toc-modified-id=\"DecisionTree-5.3.2\"><span class=\"toc-item-num\">5.3.2&nbsp;&nbsp;</span>DecisionTree</a></span></li><li><span><a href=\"#Результаты\" data-toc-modified-id=\"Результаты-5.3.3\"><span class=\"toc-item-num\">5.3.3&nbsp;&nbsp;</span>Результаты</a></span></li></ul></li></ul></li><li><span><a href=\"#Вывод\" data-toc-modified-id=\"Вывод-6\"><span class=\"toc-item-num\">6&nbsp;&nbsp;</span>Вывод</a></span></li></ul></div>"
   ]
  },
  {
   "cell_type": "markdown",
   "metadata": {
    "id": "xPdvf0IamfPl"
   },
   "source": [
    "# Отток клиентов"
   ]
  },
  {
   "cell_type": "markdown",
   "metadata": {
    "id": "zgqDatLimfPp"
   },
   "source": [
    "Из «Бета-Банка» стали уходить клиенты. Каждый месяц. Немного, но заметно. Банковские маркетологи посчитали: сохранять текущих клиентов дешевле, чем привлекать новых.\n",
    "\n",
    "Нужно спрогнозировать, уйдёт клиент из банка в ближайшее время или нет. Вам предоставлены исторические данные о поведении клиентов и расторжении договоров с банком. \n",
    "\n",
    "Постройте модель с предельно большим значением *F1*-меры. Чтобы сдать проект успешно, нужно довести метрику до 0.59. Проверьте *F1*-меру на тестовой выборке самостоятельно.\n",
    "\n",
    "Дополнительно измеряйте *AUC-ROC*, сравнивайте её значение с *F1*-мерой.\n",
    "\n",
    "Источник данных: [https://www.kaggle.com/barelydedicated/bank-customer-churn-modeling](https://www.kaggle.com/barelydedicated/bank-customer-churn-modeling)"
   ]
  },
  {
   "cell_type": "code",
   "execution_count": 1,
   "metadata": {
    "id": "EGoAu6BcmfPs"
   },
   "outputs": [],
   "source": [
    "import pandas as pd\n",
    "import numpy as np\n",
    "from sklearn.metrics import f1_score\n",
    "from sklearn.metrics import auc\n",
    "from sklearn.metrics import roc_curve\n",
    "from sklearn.metrics import accuracy_score\n",
    "import matplotlib.pyplot as plt\n",
    "from sklearn.linear_model import LogisticRegression\n",
    "from sklearn.ensemble import RandomForestClassifier\n",
    "from sklearn.tree import DecisionTreeClassifier\n",
    "from sklearn.model_selection import train_test_split\n",
    "from tqdm import tqdm\n",
    "from sklearn.utils import shuffle\n",
    "from sklearn.preprocessing import StandardScaler\n",
    "from sklearn.model_selection import GridSearchCV\n",
    "\n",
    "RANDOM = 42\n",
    "from warnings import simplefilter\n",
    "simplefilter(action='ignore', category=FutureWarning)"
   ]
  },
  {
   "cell_type": "markdown",
   "metadata": {
    "id": "rudpfgxDmfP8"
   },
   "source": [
    "#  Подготовка данных"
   ]
  },
  {
   "cell_type": "code",
   "execution_count": 2,
   "metadata": {
    "id": "_Uiq6IURmfP-"
   },
   "outputs": [],
   "source": [
    "frame = pd.read_csv(\"/datasets/Churn.csv\")\n"
   ]
  },
  {
   "cell_type": "code",
   "execution_count": 3,
   "metadata": {
    "id": "triDNxzOgJrh"
   },
   "outputs": [],
   "source": [
    "frame = frame.drop([\"RowNumber\",\"CustomerId\",\"Surname\"], axis = 1)"
   ]
  },
  {
   "cell_type": "code",
   "execution_count": 4,
   "metadata": {
    "colab": {
     "base_uri": "https://localhost:8080/",
     "height": 197
    },
    "id": "OutmsghemfQK",
    "outputId": "36e0143e-4138-43c4-fc79-dc9281d7d33e"
   },
   "outputs": [
    {
     "data": {
      "text/html": [
       "<div>\n",
       "<style scoped>\n",
       "    .dataframe tbody tr th:only-of-type {\n",
       "        vertical-align: middle;\n",
       "    }\n",
       "\n",
       "    .dataframe tbody tr th {\n",
       "        vertical-align: top;\n",
       "    }\n",
       "\n",
       "    .dataframe thead th {\n",
       "        text-align: right;\n",
       "    }\n",
       "</style>\n",
       "<table border=\"1\" class=\"dataframe\">\n",
       "  <thead>\n",
       "    <tr style=\"text-align: right;\">\n",
       "      <th></th>\n",
       "      <th>CreditScore</th>\n",
       "      <th>Geography</th>\n",
       "      <th>Gender</th>\n",
       "      <th>Age</th>\n",
       "      <th>Tenure</th>\n",
       "      <th>Balance</th>\n",
       "      <th>NumOfProducts</th>\n",
       "      <th>HasCrCard</th>\n",
       "      <th>IsActiveMember</th>\n",
       "      <th>EstimatedSalary</th>\n",
       "      <th>Exited</th>\n",
       "    </tr>\n",
       "  </thead>\n",
       "  <tbody>\n",
       "    <tr>\n",
       "      <td>0</td>\n",
       "      <td>619</td>\n",
       "      <td>France</td>\n",
       "      <td>Female</td>\n",
       "      <td>42</td>\n",
       "      <td>2.0</td>\n",
       "      <td>0.00</td>\n",
       "      <td>1</td>\n",
       "      <td>1</td>\n",
       "      <td>1</td>\n",
       "      <td>101348.88</td>\n",
       "      <td>1</td>\n",
       "    </tr>\n",
       "    <tr>\n",
       "      <td>1</td>\n",
       "      <td>608</td>\n",
       "      <td>Spain</td>\n",
       "      <td>Female</td>\n",
       "      <td>41</td>\n",
       "      <td>1.0</td>\n",
       "      <td>83807.86</td>\n",
       "      <td>1</td>\n",
       "      <td>0</td>\n",
       "      <td>1</td>\n",
       "      <td>112542.58</td>\n",
       "      <td>0</td>\n",
       "    </tr>\n",
       "    <tr>\n",
       "      <td>2</td>\n",
       "      <td>502</td>\n",
       "      <td>France</td>\n",
       "      <td>Female</td>\n",
       "      <td>42</td>\n",
       "      <td>8.0</td>\n",
       "      <td>159660.80</td>\n",
       "      <td>3</td>\n",
       "      <td>1</td>\n",
       "      <td>0</td>\n",
       "      <td>113931.57</td>\n",
       "      <td>1</td>\n",
       "    </tr>\n",
       "    <tr>\n",
       "      <td>3</td>\n",
       "      <td>699</td>\n",
       "      <td>France</td>\n",
       "      <td>Female</td>\n",
       "      <td>39</td>\n",
       "      <td>1.0</td>\n",
       "      <td>0.00</td>\n",
       "      <td>2</td>\n",
       "      <td>0</td>\n",
       "      <td>0</td>\n",
       "      <td>93826.63</td>\n",
       "      <td>0</td>\n",
       "    </tr>\n",
       "    <tr>\n",
       "      <td>4</td>\n",
       "      <td>850</td>\n",
       "      <td>Spain</td>\n",
       "      <td>Female</td>\n",
       "      <td>43</td>\n",
       "      <td>2.0</td>\n",
       "      <td>125510.82</td>\n",
       "      <td>1</td>\n",
       "      <td>1</td>\n",
       "      <td>1</td>\n",
       "      <td>79084.10</td>\n",
       "      <td>0</td>\n",
       "    </tr>\n",
       "  </tbody>\n",
       "</table>\n",
       "</div>"
      ],
      "text/plain": [
       "   CreditScore Geography  Gender  Age  Tenure    Balance  NumOfProducts  \\\n",
       "0          619    France  Female   42     2.0       0.00              1   \n",
       "1          608     Spain  Female   41     1.0   83807.86              1   \n",
       "2          502    France  Female   42     8.0  159660.80              3   \n",
       "3          699    France  Female   39     1.0       0.00              2   \n",
       "4          850     Spain  Female   43     2.0  125510.82              1   \n",
       "\n",
       "   HasCrCard  IsActiveMember  EstimatedSalary  Exited  \n",
       "0          1               1        101348.88       1  \n",
       "1          0               1        112542.58       0  \n",
       "2          1               0        113931.57       1  \n",
       "3          0               0         93826.63       0  \n",
       "4          1               1         79084.10       0  "
      ]
     },
     "execution_count": 4,
     "metadata": {},
     "output_type": "execute_result"
    }
   ],
   "source": [
    "frame.head()"
   ]
  },
  {
   "cell_type": "code",
   "execution_count": 5,
   "metadata": {
    "colab": {
     "base_uri": "https://localhost:8080/",
     "height": 317
    },
    "id": "6sjB70vemfQc",
    "outputId": "e93df8f7-4395-417c-e3ac-2000fb4b4b63"
   },
   "outputs": [
    {
     "name": "stdout",
     "output_type": "stream",
     "text": [
      "<class 'pandas.core.frame.DataFrame'>\n",
      "RangeIndex: 10000 entries, 0 to 9999\n",
      "Data columns (total 11 columns):\n",
      "CreditScore        10000 non-null int64\n",
      "Geography          10000 non-null object\n",
      "Gender             10000 non-null object\n",
      "Age                10000 non-null int64\n",
      "Tenure             9091 non-null float64\n",
      "Balance            10000 non-null float64\n",
      "NumOfProducts      10000 non-null int64\n",
      "HasCrCard          10000 non-null int64\n",
      "IsActiveMember     10000 non-null int64\n",
      "EstimatedSalary    10000 non-null float64\n",
      "Exited             10000 non-null int64\n",
      "dtypes: float64(3), int64(6), object(2)\n",
      "memory usage: 859.5+ KB\n"
     ]
    }
   ],
   "source": [
    "frame.info()"
   ]
  },
  {
   "cell_type": "code",
   "execution_count": 6,
   "metadata": {
    "colab": {
     "base_uri": "https://localhost:8080/",
     "height": 287
    },
    "id": "JXkOaOtMmfQo",
    "outputId": "dcbea907-750f-45e7-c0f9-b6bfcd5e4d12",
    "scrolled": true
   },
   "outputs": [
    {
     "data": {
      "text/html": [
       "<div>\n",
       "<style scoped>\n",
       "    .dataframe tbody tr th:only-of-type {\n",
       "        vertical-align: middle;\n",
       "    }\n",
       "\n",
       "    .dataframe tbody tr th {\n",
       "        vertical-align: top;\n",
       "    }\n",
       "\n",
       "    .dataframe thead th {\n",
       "        text-align: right;\n",
       "    }\n",
       "</style>\n",
       "<table border=\"1\" class=\"dataframe\">\n",
       "  <thead>\n",
       "    <tr style=\"text-align: right;\">\n",
       "      <th></th>\n",
       "      <th>CreditScore</th>\n",
       "      <th>Age</th>\n",
       "      <th>Tenure</th>\n",
       "      <th>Balance</th>\n",
       "      <th>NumOfProducts</th>\n",
       "      <th>HasCrCard</th>\n",
       "      <th>IsActiveMember</th>\n",
       "      <th>EstimatedSalary</th>\n",
       "      <th>Exited</th>\n",
       "    </tr>\n",
       "  </thead>\n",
       "  <tbody>\n",
       "    <tr>\n",
       "      <td>count</td>\n",
       "      <td>10000.000000</td>\n",
       "      <td>10000.000000</td>\n",
       "      <td>9091.000000</td>\n",
       "      <td>10000.000000</td>\n",
       "      <td>10000.000000</td>\n",
       "      <td>10000.00000</td>\n",
       "      <td>10000.000000</td>\n",
       "      <td>10000.000000</td>\n",
       "      <td>10000.000000</td>\n",
       "    </tr>\n",
       "    <tr>\n",
       "      <td>mean</td>\n",
       "      <td>650.528800</td>\n",
       "      <td>38.921800</td>\n",
       "      <td>4.997690</td>\n",
       "      <td>76485.889288</td>\n",
       "      <td>1.530200</td>\n",
       "      <td>0.70550</td>\n",
       "      <td>0.515100</td>\n",
       "      <td>100090.239881</td>\n",
       "      <td>0.203700</td>\n",
       "    </tr>\n",
       "    <tr>\n",
       "      <td>std</td>\n",
       "      <td>96.653299</td>\n",
       "      <td>10.487806</td>\n",
       "      <td>2.894723</td>\n",
       "      <td>62397.405202</td>\n",
       "      <td>0.581654</td>\n",
       "      <td>0.45584</td>\n",
       "      <td>0.499797</td>\n",
       "      <td>57510.492818</td>\n",
       "      <td>0.402769</td>\n",
       "    </tr>\n",
       "    <tr>\n",
       "      <td>min</td>\n",
       "      <td>350.000000</td>\n",
       "      <td>18.000000</td>\n",
       "      <td>0.000000</td>\n",
       "      <td>0.000000</td>\n",
       "      <td>1.000000</td>\n",
       "      <td>0.00000</td>\n",
       "      <td>0.000000</td>\n",
       "      <td>11.580000</td>\n",
       "      <td>0.000000</td>\n",
       "    </tr>\n",
       "    <tr>\n",
       "      <td>25%</td>\n",
       "      <td>584.000000</td>\n",
       "      <td>32.000000</td>\n",
       "      <td>2.000000</td>\n",
       "      <td>0.000000</td>\n",
       "      <td>1.000000</td>\n",
       "      <td>0.00000</td>\n",
       "      <td>0.000000</td>\n",
       "      <td>51002.110000</td>\n",
       "      <td>0.000000</td>\n",
       "    </tr>\n",
       "    <tr>\n",
       "      <td>50%</td>\n",
       "      <td>652.000000</td>\n",
       "      <td>37.000000</td>\n",
       "      <td>5.000000</td>\n",
       "      <td>97198.540000</td>\n",
       "      <td>1.000000</td>\n",
       "      <td>1.00000</td>\n",
       "      <td>1.000000</td>\n",
       "      <td>100193.915000</td>\n",
       "      <td>0.000000</td>\n",
       "    </tr>\n",
       "    <tr>\n",
       "      <td>75%</td>\n",
       "      <td>718.000000</td>\n",
       "      <td>44.000000</td>\n",
       "      <td>7.000000</td>\n",
       "      <td>127644.240000</td>\n",
       "      <td>2.000000</td>\n",
       "      <td>1.00000</td>\n",
       "      <td>1.000000</td>\n",
       "      <td>149388.247500</td>\n",
       "      <td>0.000000</td>\n",
       "    </tr>\n",
       "    <tr>\n",
       "      <td>max</td>\n",
       "      <td>850.000000</td>\n",
       "      <td>92.000000</td>\n",
       "      <td>10.000000</td>\n",
       "      <td>250898.090000</td>\n",
       "      <td>4.000000</td>\n",
       "      <td>1.00000</td>\n",
       "      <td>1.000000</td>\n",
       "      <td>199992.480000</td>\n",
       "      <td>1.000000</td>\n",
       "    </tr>\n",
       "  </tbody>\n",
       "</table>\n",
       "</div>"
      ],
      "text/plain": [
       "        CreditScore           Age       Tenure        Balance  NumOfProducts  \\\n",
       "count  10000.000000  10000.000000  9091.000000   10000.000000   10000.000000   \n",
       "mean     650.528800     38.921800     4.997690   76485.889288       1.530200   \n",
       "std       96.653299     10.487806     2.894723   62397.405202       0.581654   \n",
       "min      350.000000     18.000000     0.000000       0.000000       1.000000   \n",
       "25%      584.000000     32.000000     2.000000       0.000000       1.000000   \n",
       "50%      652.000000     37.000000     5.000000   97198.540000       1.000000   \n",
       "75%      718.000000     44.000000     7.000000  127644.240000       2.000000   \n",
       "max      850.000000     92.000000    10.000000  250898.090000       4.000000   \n",
       "\n",
       "         HasCrCard  IsActiveMember  EstimatedSalary        Exited  \n",
       "count  10000.00000    10000.000000     10000.000000  10000.000000  \n",
       "mean       0.70550        0.515100    100090.239881      0.203700  \n",
       "std        0.45584        0.499797     57510.492818      0.402769  \n",
       "min        0.00000        0.000000        11.580000      0.000000  \n",
       "25%        0.00000        0.000000     51002.110000      0.000000  \n",
       "50%        1.00000        1.000000    100193.915000      0.000000  \n",
       "75%        1.00000        1.000000    149388.247500      0.000000  \n",
       "max        1.00000        1.000000    199992.480000      1.000000  "
      ]
     },
     "execution_count": 6,
     "metadata": {},
     "output_type": "execute_result"
    }
   ],
   "source": [
    "frame.describe()"
   ]
  },
  {
   "cell_type": "markdown",
   "metadata": {
    "id": "Ft_uHqk7mfQ1"
   },
   "source": [
    "## Проверим данные на  дубликаты"
   ]
  },
  {
   "cell_type": "code",
   "execution_count": 7,
   "metadata": {
    "colab": {
     "base_uri": "https://localhost:8080/",
     "height": 33
    },
    "id": "AT3P8KcYmfQ3",
    "outputId": "35ba51e5-ebc5-4e78-d80b-b6cbc2f3a313",
    "scrolled": true
   },
   "outputs": [
    {
     "name": "stdout",
     "output_type": "stream",
     "text": [
      "Количесвто дубликатов: 0\n"
     ]
    }
   ],
   "source": [
    "print(\"Количесвто дубликатов:\",frame.duplicated().sum())"
   ]
  },
  {
   "cell_type": "code",
   "execution_count": 8,
   "metadata": {
    "id": "WaAmRajARcNm"
   },
   "outputs": [],
   "source": [
    "numerics = ['int16', 'int32', 'int64', 'float16', 'float32', 'float64']\n",
    "objects = ['object']\n",
    "newdf = frame.select_dtypes(include=numerics)\n",
    "newdf_object = frame.select_dtypes(include=objects)"
   ]
  },
  {
   "cell_type": "code",
   "execution_count": 9,
   "metadata": {
    "id": "nbppA_IRRlIb"
   },
   "outputs": [],
   "source": [
    "numeric_columns = newdf.columns[:-1]\n"
   ]
  },
  {
   "cell_type": "code",
   "execution_count": 10,
   "metadata": {
    "colab": {
     "base_uri": "https://localhost:8080/",
     "height": 67
    },
    "id": "qYseMzG5RvFa",
    "outputId": "182f76a0-fe7b-4ea9-d431-b8e432c5a693"
   },
   "outputs": [
    {
     "data": {
      "text/plain": [
       "Index(['CreditScore', 'Age', 'Tenure', 'Balance', 'NumOfProducts', 'HasCrCard',\n",
       "       'IsActiveMember', 'EstimatedSalary'],\n",
       "      dtype='object')"
      ]
     },
     "execution_count": 10,
     "metadata": {},
     "output_type": "execute_result"
    }
   ],
   "source": [
    "numeric_columns"
   ]
  },
  {
   "cell_type": "code",
   "execution_count": 11,
   "metadata": {
    "id": "FBgp5xjCmfRH"
   },
   "outputs": [],
   "source": [
    "frame = pd.get_dummies(frame, drop_first=True)"
   ]
  },
  {
   "cell_type": "markdown",
   "metadata": {},
   "source": [
    "## Обработка пропусков"
   ]
  },
  {
   "cell_type": "markdown",
   "metadata": {
    "id": "0CLbayUZmfRT"
   },
   "source": [
    "Заметим, что в одном из столбцов есть пропуски, есть три варианта решения:\n",
    "1. Удалить объекты с пропущенными значениями, так как количество их не очень велико(порядка 9-10%)\n",
    "2. Заменить пропуски на минимальное значение\n",
    "3. Заменить пропуски на медианное значение  \n",
    "\n",
    "Для достоверности, проверим все три метода и выберем с наибольшим результатом\n"
   ]
  },
  {
   "cell_type": "code",
   "execution_count": 12,
   "metadata": {
    "id": "73UCumSymfRV"
   },
   "outputs": [],
   "source": [
    "frameOut = frame.dropna(subset = [\"Tenure\"], axis = 0)\n",
    "#Так как пропуски у нас только в одном столбце, то функцию можно применить сразу к всему фрейму\n",
    "frameMin = frame.fillna(0) \n",
    "frameMedian = frame.copy()\n",
    "frameMedian['Tenure'] = frameMedian[\"Tenure\"].fillna(frameMedian[\"Tenure\"].median())"
   ]
  },
  {
   "cell_type": "code",
   "execution_count": 13,
   "metadata": {
    "colab": {
     "base_uri": "https://localhost:8080/",
     "height": 33
    },
    "id": "f-8WBO98mfRg",
    "outputId": "a28c5375-1e07-4995-bb44-f3518052501f",
    "scrolled": true
   },
   "outputs": [
    {
     "name": "stdout",
     "output_type": "stream",
     "text": [
      "Количество пропусков в frameOut: 0, frameMin: 0, frameMedian: 0\n"
     ]
    }
   ],
   "source": [
    "frameOut_nan = sum(frameOut.isnull().sum())\n",
    "frameMin_nan = sum(frameMin.isnull().sum())\n",
    "frameMedian_nan = sum(frameMedian.isnull().sum())\n",
    "print(\"Количество пропусков в frameOut: {}, frameMin: {}, frameMedian: {}\".format(frameOut_nan,\n",
    "                                                                                  frameMin_nan,\n",
    "                                                                                  frameMedian_nan\n",
    "                                                                                 ))"
   ]
  },
  {
   "cell_type": "markdown",
   "metadata": {
    "id": "Ny912m73mfRq"
   },
   "source": [
    "#  Исследование задачи"
   ]
  },
  {
   "cell_type": "markdown",
   "metadata": {
    "id": "qTIM_EP-mfRs"
   },
   "source": [
    "Разделим выборки на тренировочные и валидационные. Так как нам нужно разделить 3 выборки, что бы каждый раз не прописывать параметры для разделения напишем  функцию с необходимыми параметрами."
   ]
  },
  {
   "cell_type": "code",
   "execution_count": 14,
   "metadata": {
    "id": "qsf4s5HrmfRu"
   },
   "outputs": [],
   "source": [
    "def split_data(features, target):\n",
    "    (features_train,\n",
    "     features_valid,\n",
    "     target_train,\n",
    "     target_valid) = train_test_split(features,\n",
    "                                      target,\n",
    "                                      test_size = 0.33,\n",
    "                                      random_state = RANDOM)\n",
    "    (features_test,\n",
    "     features_valid,\n",
    "     target_test,\n",
    "     target_valid) = train_test_split(features_valid,\n",
    "                                      target_valid,\n",
    "                                      test_size = 0.5,\n",
    "                                      random_state = RANDOM)\n",
    "    \n",
    "    return (features_train,\n",
    "            features_valid,\n",
    "            features_test,\n",
    "            target_train,\n",
    "            target_valid,\n",
    "            target_test)\n"
   ]
  },
  {
   "cell_type": "code",
   "execution_count": 15,
   "metadata": {
    "id": "PaQ0ec_smfR7"
   },
   "outputs": [],
   "source": [
    "(featuresOut_train,\n",
    " featuresOut_valid,\n",
    " featuresOut_test,\n",
    " targetOut_train,\n",
    " targetOut_valid,\n",
    " targetOut_test) = split_data(frameOut.drop([\"Exited\"], axis = 1),\n",
    "                              frameOut[\"Exited\"])\n",
    "\n",
    "(featuresMin_train,\n",
    " featuresMin_valid,\n",
    " featuresMin_test,\n",
    " targetMin_train,\n",
    " targetMin_valid,\n",
    " targetMin_test) = split_data(frameMin.drop([\"Exited\"], axis = 1),\n",
    "                              frameMin[\"Exited\"])\n",
    "\n",
    "(featuresMedian_train,\n",
    " featuresMedian_valid,\n",
    " featuresMedian_test,\n",
    " targetMedian_train,\n",
    " targetMedian_valid,\n",
    " targetMedian_test) = split_data(frameMedian.drop([\"Exited\"], axis = 1),\n",
    "                              frameMedian[\"Exited\"])\n"
   ]
  },
  {
   "cell_type": "code",
   "execution_count": 16,
   "metadata": {
    "colab": {
     "base_uri": "https://localhost:8080/",
     "height": 83
    },
    "id": "DtSJR78JmfSE",
    "outputId": "6b66f307-d3b5-42e7-f158-b9dca3275782",
    "scrolled": false
   },
   "outputs": [
    {
     "name": "stdout",
     "output_type": "stream",
     "text": [
      "Баланс классов: \n",
      "    frameOut: [0.7962233169129721, 0.20377668308702793], \n",
      "    frameMin: [0.7919402985074627, 0.2080597014925373], \n",
      "    frameMedian: [0.7919402985074627, 0.2080597014925373]\n"
     ]
    }
   ],
   "source": [
    "balance_rate_frameOut = list(targetOut_train.value_counts(normalize=True))\n",
    "balance_rate_frameMin = list(targetMin_train.value_counts(normalize=True))\n",
    "balance_rate_frameMedian = list(targetMedian_train.value_counts(normalize=True))\n",
    "print(\"\"\"Баланс классов: \n",
    "    frameOut: {}, \n",
    "    frameMin: {}, \n",
    "    frameMedian: {}\"\"\".format(balance_rate_frameOut,\n",
    "                              balance_rate_frameMin,\n",
    "                              balance_rate_frameMedian))"
   ]
  },
  {
   "cell_type": "code",
   "execution_count": 17,
   "metadata": {
    "id": "pVfR-iR8mfSQ"
   },
   "outputs": [],
   "source": [
    "scalerOut = StandardScaler()\n",
    "scalerMin = StandardScaler()\n",
    "scalerMedian = StandardScaler()\n",
    "\n",
    "scalerOut.fit(featuresOut_train[numeric_columns])\n",
    "scalerMin.fit(featuresMin_train[numeric_columns])\n",
    "scalerMedian.fit(featuresMedian_train[numeric_columns])\n",
    "\n",
    "featuresOut_train[numeric_columns] = scalerOut.transform(featuresOut_train[numeric_columns])\n",
    "featuresMin_train[numeric_columns] = scalerMin.transform(featuresMin_train[numeric_columns])\n",
    "featuresMedian_train[numeric_columns] = scalerMedian.transform(featuresMedian_train[numeric_columns])\n",
    "\n",
    "featuresOut_valid[numeric_columns] = scalerOut.transform(featuresOut_valid[numeric_columns])\n",
    "featuresMin_valid[numeric_columns] = scalerMin.transform(featuresMin_valid[numeric_columns])\n",
    "featuresMedian_valid[numeric_columns] = scalerMedian.transform(featuresMedian_valid[numeric_columns])\n",
    "\n",
    "featuresOut_test[numeric_columns] = scalerOut.transform(featuresOut_test[numeric_columns])\n",
    "featuresMin_test[numeric_columns] = scalerMin.transform(featuresMin_test[numeric_columns])\n",
    "featuresMedian_test[numeric_columns] = scalerMedian.transform(featuresMedian_test[numeric_columns])"
   ]
  },
  {
   "cell_type": "markdown",
   "metadata": {
    "id": "WCB7QZ86mfSf"
   },
   "source": [
    "Баланс классов во всех трех выборках практически одинаковый 79% отрицательного класса и 21% положительного"
   ]
  },
  {
   "cell_type": "markdown",
   "metadata": {
    "id": "T7nrN0NqmfSt"
   },
   "source": [
    "#  Борьба с дисбалансом"
   ]
  },
  {
   "cell_type": "markdown",
   "metadata": {
    "id": "MIp_4MlVmfSu"
   },
   "source": [
    "У нас три пути решения этой проблемы:\n",
    "1. Upsampling\n",
    "1. Downsampling\n",
    "1. Добавить в модель параметр class_weight\n",
    "\n",
    "Реализуем все 3 способа поочередно"
   ]
  },
  {
   "cell_type": "markdown",
   "metadata": {
    "id": "M07VirULmfSw"
   },
   "source": [
    "## Upsampling"
   ]
  },
  {
   "cell_type": "code",
   "execution_count": 18,
   "metadata": {
    "id": "IT_FKY0hmfTV"
   },
   "outputs": [],
   "source": [
    "def upsampling(feature,target,rate):\n",
    "    feature_one = feature[target == 1]\n",
    "    target_one = target[target == 1]\n",
    "    feature_zero = feature[target == 0]\n",
    "    target_zero = target[target == 0]\n",
    "    \n",
    "    features = pd.concat([feature_one] * round(rate) + [feature_zero] )\n",
    "    targets = pd.concat([target_one] * round(rate) + [target_zero] )\n",
    "    \n",
    "    features,target = shuffle(features,targets,random_state = RANDOM)\n",
    "    \n",
    "    return features,targets"
   ]
  },
  {
   "cell_type": "code",
   "execution_count": 19,
   "metadata": {
    "id": "PoygEusHmfTe"
   },
   "outputs": [],
   "source": [
    "featuresOut_train_upsampling,targetOut_train_upsampling = upsampling(featuresOut_train,\n",
    "                                          targetOut_train,\n",
    "                                          (balance_rate_frameOut[0]/balance_rate_frameOut[1]))\n",
    "featuresMin_train_upsampling,targetMin_train_upsampling = upsampling(featuresMin_train,\n",
    "                                          targetMin_train,\n",
    "                                          (balance_rate_frameMin[0]/balance_rate_frameMin[1]))\n",
    "featuresMedian_train_upsampling,targetMedian_train_upsampling= upsampling(featuresMedian_train,\n",
    "                                          targetMedian_train,\n",
    "                                          (balance_rate_frameMedian[0]/balance_rate_frameMedian[1]))"
   ]
  },
  {
   "cell_type": "markdown",
   "metadata": {},
   "source": [
    "## Downsampling"
   ]
  },
  {
   "cell_type": "code",
   "execution_count": 20,
   "metadata": {
    "id": "X2JQsGGLmfTo"
   },
   "outputs": [],
   "source": [
    "def downsampling(feature,target,rate):\n",
    "    feature_one = feature[target == 1]\n",
    "    target_one = target[target == 1]\n",
    "    feature_zero = feature[target == 0]\n",
    "    target_zero = target[target == 0]\n",
    "    feature_zero_down = feature_zero.sample(frac = 1/round(rate),random_state = RANDOM)\n",
    "    target_zero_down =  target_zero.sample(frac = 1/round(rate),random_state = RANDOM)\n",
    "    features = pd.concat([feature_one]  + [feature_zero_down])\n",
    "    targets = pd.concat([target_one] + [target_zero_down])\n",
    "    \n",
    "    features,target = shuffle(features,targets,random_state = RANDOM)\n",
    "    \n",
    "    return features,targets"
   ]
  },
  {
   "cell_type": "markdown",
   "metadata": {
    "id": "-rErencXmfTy"
   },
   "source": [
    "Для удобства начнем добавлять полученные данные в массив"
   ]
  },
  {
   "cell_type": "code",
   "execution_count": 21,
   "metadata": {
    "id": "WWaZvvXfmfT0"
   },
   "outputs": [],
   "source": [
    "featuresOut_train_downsampling,targetOut_train_downsampling = downsampling(featuresOut_train,\n",
    "                                          targetOut_train,\n",
    "                                          (balance_rate_frameOut[0]/balance_rate_frameOut[1]))\n",
    "featuresMin_train_downsampling,targetMin_train_downsampling = downsampling(featuresMin_train,\n",
    "                                          targetMin_train,\n",
    "                                          (balance_rate_frameMin[0]/balance_rate_frameMin[1]))\n",
    "featuresMedian_train_downsampling,targetMedian_train_downsampling= downsampling(featuresMedian_train,\n",
    "                                          targetMedian_train,\n",
    "                                          (balance_rate_frameMedian[0]/balance_rate_frameMedian[1]))"
   ]
  },
  {
   "cell_type": "markdown",
   "metadata": {},
   "source": [
    "## Новое представление данных"
   ]
  },
  {
   "cell_type": "markdown",
   "metadata": {},
   "source": [
    "Создадим массив, в котором будем хранить все возможные сочетания методов заполнения пропусков и методов выравнивания"
   ]
  },
  {
   "cell_type": "code",
   "execution_count": 22,
   "metadata": {
    "id": "Gm3K4oDSmfUA"
   },
   "outputs": [],
   "source": [
    "train_list = []\n",
    "train_list.append((featuresOut_train_upsampling,targetOut_train_upsampling))\n",
    "train_list.append((featuresMin_train_upsampling,targetMin_train_upsampling))\n",
    "train_list.append((featuresMedian_train_upsampling,targetMedian_train_upsampling))\n",
    "train_list.append((featuresOut_train_downsampling,targetOut_train_downsampling))\n",
    "train_list.append((featuresMin_train_downsampling,targetMin_train_downsampling))\n",
    "train_list.append((featuresMedian_train_downsampling,targetMedian_train_downsampling))\n",
    "train_list.append((featuresOut_train,targetOut_train))\n",
    "train_list.append((featuresMin_train,targetMin_train))\n",
    "train_list.append((featuresMedian_train,targetMedian_train))"
   ]
  },
  {
   "cell_type": "code",
   "execution_count": 23,
   "metadata": {
    "id": "Evx20A4MmfUK"
   },
   "outputs": [],
   "source": [
    "valid_list = []\n",
    "valid_list.append((featuresOut_valid,targetOut_valid))\n",
    "valid_list.append((featuresMin_valid,targetMin_valid))\n",
    "valid_list.append((featuresMedian_valid,targetMedian_valid))\n",
    "valid_list.append((featuresOut_valid,targetOut_valid))\n",
    "valid_list.append((featuresMin_valid,targetMin_valid))\n",
    "valid_list.append((featuresMedian_valid,targetMedian_valid))\n",
    "valid_list.append((featuresOut_valid,targetOut_valid))\n",
    "valid_list.append((featuresMin_valid,targetMin_valid))\n",
    "valid_list.append((featuresMedian_valid,targetMedian_valid))"
   ]
  },
  {
   "cell_type": "code",
   "execution_count": 24,
   "metadata": {},
   "outputs": [],
   "source": [
    "test_list = []\n",
    "test_list.append((featuresOut_test,targetOut_test))\n",
    "test_list.append((featuresMin_test,targetMin_test))\n",
    "test_list.append((featuresMedian_test,targetMedian_test))\n",
    "test_list.append((featuresOut_test,targetOut_test))\n",
    "test_list.append((featuresMin_test,targetMin_test))\n",
    "test_list.append((featuresMedian_test,targetMedian_test))\n",
    "test_list.append((featuresOut_test,targetOut_test))\n",
    "test_list.append((featuresMin_test,targetMin_test))\n",
    "test_list.append((featuresMedian_test,targetMedian_test))"
   ]
  },
  {
   "cell_type": "markdown",
   "metadata": {
    "id": "CFkixHmTmfUU"
   },
   "source": [
    "#  Тестирование модели"
   ]
  },
  {
   "cell_type": "markdown",
   "metadata": {},
   "source": [
    "## Инициализируем функцию оптимизации классификатора\n"
   ]
  },
  {
   "cell_type": "code",
   "execution_count": 25,
   "metadata": {
    "id": "RJnzpHxpvz5c"
   },
   "outputs": [],
   "source": [
    "def best_threshold(target_vector,predictions,model_name):\n",
    "    # Первичное получение данных метрики ROC-кривой\n",
    "    fpr, tpr, thresholds = roc_curve(np.array(target_vector), predictions, pos_label=1)\n",
    "    best_accuracy = 0\n",
    "    best_f1 = 0\n",
    "    best_threshold = -1\n",
    "    best_threshold_f1 = -1\n",
    "    #Найдем площадь под кривой\n",
    "    auc_value = round(auc(fpr,tpr),2)\n",
    "    \n",
    "    #Если площадь будеть меньше 0.5, это означает, что нужно нужно вычесть каждую вероятность из 1\n",
    "    if auc_value < 0.5:\n",
    "        predictions = 1 - predictions\n",
    "        fpr, tpr, thresholds = roc_curve(np.array(target_vector), predictions.data.numpy(), pos_label=1)\n",
    "        auc_value = round(auc(fpr,tpr),2)\n",
    "        \n",
    "    # переберем все пороги в поисках наилучшей точности\n",
    "    for threshold in thresholds:\n",
    "        pre_marker = np.array(predictions > threshold)\n",
    "        accuracy = accuracy_score(target_vector,pre_marker)\n",
    "        if accuracy > best_accuracy:\n",
    "            best_accuracy = accuracy\n",
    "            best_threshold = threshold\n",
    "\n",
    "    for threshold in thresholds:\n",
    "        pre_marker = np.array(predictions > threshold)\n",
    "        f1_threshold = f1_score(target_vector,pre_marker)\n",
    "        if f1_threshold > best_f1:\n",
    "            best_f1 = f1_threshold\n",
    "            best_threshold_f1 = threshold\n",
    "            \n",
    "    #Построим ROC-кривую\n",
    "    fig,ax = plt.subplots(figsize= (10,5))\n",
    "    ax.plot(np.arange(0,1.1,0.1),np.arange(0,1.1,0.1),label = 'BaseLine',ls = '--')\n",
    "    ax.plot(fpr,\n",
    "            tpr,\n",
    "            label = f\"{model_name} (area = {auc_value}, best_accuracy = {best_accuracy}, best_f1 = {best_f1})\")\n",
    "    ax.legend()\n",
    "    ax.set_xlim((0,1))\n",
    "    ax.set_ylim((0,1))\n",
    "    print(\"Best f1: {}, threshold: {}\".format(best_f1,best_threshold_f1))\n",
    "    print(\"Best accuracy: {}, threshold: {}\".format(best_accuracy,best_threshold))\n",
    "    "
   ]
  },
  {
   "cell_type": "code",
   "execution_count": 26,
   "metadata": {
    "id": "HozZAD_UtiLp"
   },
   "outputs": [],
   "source": [
    "def fit_and_compare(train_list,valid_list,parameters,model):\n",
    "    best_score = 0\n",
    "    for index,(train_data,valid_data) in tqdm(enumerate(zip(train_list,valid_list))):\n",
    "\n",
    "        modelOut = model(random_state=RANDOM,class_weight=\"balanced\")\n",
    "        Grid = GridSearchCV(modelOut, parameters,scoring=\"f1\")\n",
    "\n",
    "        Grid.fit(train_data[0],train_data[1])\n",
    "        valid_score = f1_score(valid_data[1],Grid.best_estimator_.predict(valid_data[0]))\n",
    "\n",
    "        print()\n",
    "        print(\"-----------------\")\n",
    "        print(\"Index: \",index)\n",
    "        print(\"Best score:\",Grid.best_score_)\n",
    "        print(\"f1 score (valid):\",valid_score) \n",
    "        print(\"-----------------\")\n",
    "\n",
    "        if best_score < valid_score:\n",
    "            best_score = valid_score\n",
    "            best_model = Grid.best_estimator_\n",
    "            best_index = index\n",
    "    print(\"-----BEST------\")\n",
    "    print(\"Best index: \",best_index)\n",
    "    print(\"Best f1 score (valid):\",best_score) \n",
    "    print(\"---------------------\")\n",
    "    print(Grid.best_params_)\n",
    "    params = Grid.best_params_\n",
    "    return best_score, best_model, best_index,params\n",
    "\n"
   ]
  },
  {
   "cell_type": "markdown",
   "metadata": {},
   "source": [
    "## RandomForest"
   ]
  },
  {
   "cell_type": "code",
   "execution_count": 27,
   "metadata": {
    "colab": {
     "base_uri": "https://localhost:8080/",
     "height": 1000
    },
    "id": "xUs2Xk6J2wK8",
    "outputId": "7d400f82-f29c-44ba-acd3-04ac4b9f2978",
    "scrolled": true
   },
   "outputs": [
    {
     "name": "stderr",
     "output_type": "stream",
     "text": [
      "1it [00:04,  4.16s/it]"
     ]
    },
    {
     "name": "stdout",
     "output_type": "stream",
     "text": [
      "\n",
      "-----------------\n",
      "Index:  0\n",
      "Best score: 0.5656771195050747\n",
      "f1 score (valid): 0.3316274309109519\n",
      "-----------------\n"
     ]
    },
    {
     "name": "stderr",
     "output_type": "stream",
     "text": [
      "2it [00:08,  4.29s/it]"
     ]
    },
    {
     "name": "stdout",
     "output_type": "stream",
     "text": [
      "\n",
      "-----------------\n",
      "Index:  1\n",
      "Best score: 0.5002371718271231\n",
      "f1 score (valid): 0.36704900938477586\n",
      "-----------------\n"
     ]
    },
    {
     "name": "stderr",
     "output_type": "stream",
     "text": [
      "3it [00:13,  4.40s/it]"
     ]
    },
    {
     "name": "stdout",
     "output_type": "stream",
     "text": [
      "\n",
      "-----------------\n",
      "Index:  2\n",
      "Best score: 0.4979686546989554\n",
      "f1 score (valid): 0.36610878661087864\n",
      "-----------------\n"
     ]
    },
    {
     "name": "stderr",
     "output_type": "stream",
     "text": [
      "4it [00:15,  3.61s/it]"
     ]
    },
    {
     "name": "stdout",
     "output_type": "stream",
     "text": [
      "\n",
      "-----------------\n",
      "Index:  3\n",
      "Best score: 0.5718770570475676\n",
      "f1 score (valid): 0.30787589498806683\n",
      "-----------------\n"
     ]
    },
    {
     "name": "stderr",
     "output_type": "stream",
     "text": [
      "5it [00:16,  3.08s/it]"
     ]
    },
    {
     "name": "stdout",
     "output_type": "stream",
     "text": [
      "\n",
      "-----------------\n",
      "Index:  4\n",
      "Best score: 0.5169645390327039\n",
      "f1 score (valid): 0.2944344703770197\n",
      "-----------------\n"
     ]
    },
    {
     "name": "stderr",
     "output_type": "stream",
     "text": [
      "6it [00:18,  2.71s/it]"
     ]
    },
    {
     "name": "stdout",
     "output_type": "stream",
     "text": [
      "\n",
      "-----------------\n",
      "Index:  5\n",
      "Best score: 0.5043410908602991\n",
      "f1 score (valid): 0.2629193109700816\n",
      "-----------------\n"
     ]
    },
    {
     "name": "stderr",
     "output_type": "stream",
     "text": [
      "7it [00:22,  2.94s/it]"
     ]
    },
    {
     "name": "stdout",
     "output_type": "stream",
     "text": [
      "\n",
      "-----------------\n",
      "Index:  6\n",
      "Best score: 0.6093716413694114\n",
      "f1 score (valid): 0.6331168831168831\n",
      "-----------------\n"
     ]
    },
    {
     "name": "stderr",
     "output_type": "stream",
     "text": [
      "8it [00:26,  3.21s/it]"
     ]
    },
    {
     "name": "stdout",
     "output_type": "stream",
     "text": [
      "\n",
      "-----------------\n",
      "Index:  7\n",
      "Best score: 0.6088449207717163\n",
      "f1 score (valid): 0.6308539944903582\n",
      "-----------------\n"
     ]
    },
    {
     "name": "stderr",
     "output_type": "stream",
     "text": [
      "9it [00:30,  3.34s/it]"
     ]
    },
    {
     "name": "stdout",
     "output_type": "stream",
     "text": [
      "\n",
      "-----------------\n",
      "Index:  8\n",
      "Best score: 0.6150994306952736\n",
      "f1 score (valid): 0.6340136054421769\n",
      "-----------------\n",
      "-----BEST------\n",
      "Best index:  8\n",
      "Best f1 score (valid): 0.6340136054421769\n",
      "---------------------\n",
      "{'max_depth': 10, 'n_estimators': 100}\n"
     ]
    },
    {
     "name": "stderr",
     "output_type": "stream",
     "text": [
      "\n"
     ]
    }
   ],
   "source": [
    "(best_score_RandomForest,\n",
    " best_model_RandomForest,\n",
    " best_index_RandomForest,\n",
    " params_RandomForest) = fit_and_compare(train_list,\n",
    "                                            valid_list,\n",
    "                                            {\"n_estimators\":[5,100],\"max_depth\":[1,10]},\n",
    "                                            RandomForestClassifier)"
   ]
  },
  {
   "cell_type": "code",
   "execution_count": 28,
   "metadata": {},
   "outputs": [
    {
     "name": "stdout",
     "output_type": "stream",
     "text": [
      "Best f1 score (test): 0.5816993464052287\n"
     ]
    }
   ],
   "source": [
    "print(\"Best f1 score (test):\",f1_score(test_list[best_index_RandomForest][1],\n",
    "                                       best_model_RandomForest.predict(\n",
    "                                           test_list[best_index_RandomForest][0]))) "
   ]
  },
  {
   "cell_type": "code",
   "execution_count": 29,
   "metadata": {},
   "outputs": [],
   "source": [
    "test_model = RandomForestClassifier(random_state=RANDOM,\n",
    "                                    class_weight=\"balanced\", \n",
    "                                    max_depth = params_RandomForest[\"max_depth\"],\n",
    "                                    n_estimators = params_RandomForest['n_estimators']  )"
   ]
  },
  {
   "cell_type": "code",
   "execution_count": 30,
   "metadata": {},
   "outputs": [],
   "source": [
    "new_train_features = pd.concat([train_list[best_index_RandomForest][0]] + [valid_list[best_index_RandomForest][0]])\n",
    "new_train_target = pd.concat([train_list[best_index_RandomForest][1]] + [valid_list[best_index_RandomForest][1]])"
   ]
  },
  {
   "cell_type": "code",
   "execution_count": 31,
   "metadata": {
    "scrolled": true
   },
   "outputs": [
    {
     "data": {
      "text/plain": [
       "RandomForestClassifier(bootstrap=True, class_weight='balanced',\n",
       "                       criterion='gini', max_depth=10, max_features='auto',\n",
       "                       max_leaf_nodes=None, min_impurity_decrease=0.0,\n",
       "                       min_impurity_split=None, min_samples_leaf=1,\n",
       "                       min_samples_split=2, min_weight_fraction_leaf=0.0,\n",
       "                       n_estimators=100, n_jobs=None, oob_score=False,\n",
       "                       random_state=42, verbose=0, warm_start=False)"
      ]
     },
     "execution_count": 31,
     "metadata": {},
     "output_type": "execute_result"
    }
   ],
   "source": [
    "test_model.fit(new_train_features,new_train_target)"
   ]
  },
  {
   "cell_type": "markdown",
   "metadata": {},
   "source": [
    "### Результаты"
   ]
  },
  {
   "cell_type": "code",
   "execution_count": 32,
   "metadata": {
    "scrolled": true
   },
   "outputs": [
    {
     "name": "stdout",
     "output_type": "stream",
     "text": [
      "Best f1 score (test): 0.5910543130990416\n"
     ]
    }
   ],
   "source": [
    "print(\"Best f1 score (test):\",f1_score(test_list[best_index_RandomForest][1],\n",
    "                                       test_model.predict(\n",
    "                                           test_list[best_index_RandomForest][0]))) "
   ]
  },
  {
   "cell_type": "code",
   "execution_count": 33,
   "metadata": {
    "id": "W3isGy2_Cybc"
   },
   "outputs": [],
   "source": [
    "predictions_RandomForest = best_model_RandomForest.predict_proba(\n",
    "    valid_list[best_index_RandomForest][0])[:,1]"
   ]
  },
  {
   "cell_type": "code",
   "execution_count": 34,
   "metadata": {
    "colab": {
     "base_uri": "https://localhost:8080/",
     "height": 357
    },
    "id": "YUvBD3pCUobF",
    "outputId": "4025b770-ee93-41bf-945f-fbf3a4f68170",
    "scrolled": true
   },
   "outputs": [
    {
     "name": "stderr",
     "output_type": "stream",
     "text": [
      "/opt/conda/lib/python3.7/site-packages/sklearn/metrics/classification.py:1437: UndefinedMetricWarning: F-score is ill-defined and being set to 0.0 due to no predicted samples.\n",
      "  'precision', 'predicted', average, warn_for)\n"
     ]
    },
    {
     "name": "stdout",
     "output_type": "stream",
     "text": [
      "Best f1: 0.6412213740458015, threshold: 0.46067309338373197\n",
      "Best accuracy: 0.8575757575757575, threshold: 0.6822658360812243\n"
     ]
    },
    {
     "data": {
      "image/png": "[encoded data removed]",
      "text/plain": [
       "<Figure size 720x360 with 1 Axes>"
      ]
     },
     "metadata": {
      "needs_background": "light"
     },
     "output_type": "display_data"
    }
   ],
   "source": [
    "best_threshold(valid_list[best_index_RandomForest][1],predictions_RandomForest,\"RandomForest\")"
   ]
  },
  {
   "cell_type": "markdown",
   "metadata": {},
   "source": [
    "## LogisticRegression"
   ]
  },
  {
   "cell_type": "code",
   "execution_count": 35,
   "metadata": {
    "colab": {
     "base_uri": "https://localhost:8080/",
     "height": 1000
    },
    "id": "s8zjbXtJ6wod",
    "outputId": "1199b315-45c4-477a-ff5d-b9f08d983d1f",
    "scrolled": false
   },
   "outputs": [
    {
     "name": "stderr",
     "output_type": "stream",
     "text": [
      "1it [01:12, 72.18s/it]"
     ]
    },
    {
     "name": "stdout",
     "output_type": "stream",
     "text": [
      "\n",
      "-----------------\n",
      "Index:  0\n",
      "Best score: 0.5050651705916763\n",
      "f1 score (valid): 0.3519494204425711\n",
      "-----------------\n"
     ]
    },
    {
     "name": "stderr",
     "output_type": "stream",
     "text": [
      "2it [02:25, 72.43s/it]"
     ]
    },
    {
     "name": "stdout",
     "output_type": "stream",
     "text": [
      "\n",
      "-----------------\n",
      "Index:  1\n",
      "Best score: 0.5026488571395489\n",
      "f1 score (valid): 0.38294168842471715\n",
      "-----------------\n"
     ]
    },
    {
     "name": "stderr",
     "output_type": "stream",
     "text": [
      "3it [03:37, 72.42s/it]"
     ]
    },
    {
     "name": "stdout",
     "output_type": "stream",
     "text": [
      "\n",
      "-----------------\n",
      "Index:  2\n",
      "Best score: 0.500430333302376\n",
      "f1 score (valid): 0.3843478260869565\n",
      "-----------------\n"
     ]
    },
    {
     "name": "stderr",
     "output_type": "stream",
     "text": [
      "4it [03:42, 52.27s/it]"
     ]
    },
    {
     "name": "stdout",
     "output_type": "stream",
     "text": [
      "\n",
      "-----------------\n",
      "Index:  3\n",
      "Best score: 0.5194439010329365\n",
      "f1 score (valid): 0.2935960591133005\n",
      "-----------------\n"
     ]
    },
    {
     "name": "stderr",
     "output_type": "stream",
     "text": [
      "5it [04:41, 54.09s/it]"
     ]
    },
    {
     "name": "stdout",
     "output_type": "stream",
     "text": [
      "\n",
      "-----------------\n",
      "Index:  4\n",
      "Best score: 0.5245244380562488\n",
      "f1 score (valid): 0.2073265783320343\n",
      "-----------------\n"
     ]
    },
    {
     "name": "stderr",
     "output_type": "stream",
     "text": [
      "6it [05:38, 55.05s/it]"
     ]
    },
    {
     "name": "stdout",
     "output_type": "stream",
     "text": [
      "\n",
      "-----------------\n",
      "Index:  5\n",
      "Best score: 0.5253737914986781\n",
      "f1 score (valid): 0.2021772939346812\n",
      "-----------------\n"
     ]
    },
    {
     "name": "stderr",
     "output_type": "stream",
     "text": [
      "7it [06:50, 60.09s/it]"
     ]
    },
    {
     "name": "stdout",
     "output_type": "stream",
     "text": [
      "\n",
      "-----------------\n",
      "Index:  6\n",
      "Best score: 0.4995532484338257\n",
      "f1 score (valid): 0.4912280701754387\n",
      "-----------------\n"
     ]
    },
    {
     "name": "stderr",
     "output_type": "stream",
     "text": [
      "8it [08:02, 63.59s/it]"
     ]
    },
    {
     "name": "stdout",
     "output_type": "stream",
     "text": [
      "\n",
      "-----------------\n",
      "Index:  7\n",
      "Best score: 0.4975008649196032\n",
      "f1 score (valid): 0.503582395087001\n",
      "-----------------\n"
     ]
    },
    {
     "name": "stderr",
     "output_type": "stream",
     "text": [
      "9it [09:14, 61.65s/it]"
     ]
    },
    {
     "name": "stdout",
     "output_type": "stream",
     "text": [
      "\n",
      "-----------------\n",
      "Index:  8\n",
      "Best score: 0.49801446187342696\n",
      "f1 score (valid): 0.5005107252298264\n",
      "-----------------\n",
      "-----BEST------\n",
      "Best index:  7\n",
      "Best f1 score (valid): 0.503582395087001\n",
      "---------------------\n",
      "{'C': 0.6, 'max_iter': 100, 'penalty': 'l1', 'solver': 'liblinear'}\n"
     ]
    },
    {
     "name": "stderr",
     "output_type": "stream",
     "text": [
      "\n"
     ]
    }
   ],
   "source": [
    "(best_score_LogisticRegression,\n",
    " best_model_LogisticRegression,\n",
    " best_index_LogisticRegression,\n",
    " params_LogisticRegression) = fit_and_compare(train_list,\n",
    "                                            valid_list,\n",
    "                                            {\"C\":np.arange(0.5,2,0.1),\n",
    "                                             \"solver\":(\"liblinear\", \"saga\"),\n",
    "                                             \"max_iter\":[100,2000],\"penalty\":(\"l1\", \"l2\")},\n",
    "                                            LogisticRegression)"
   ]
  },
  {
   "cell_type": "markdown",
   "metadata": {},
   "source": [
    "### Результаты"
   ]
  },
  {
   "cell_type": "code",
   "execution_count": 36,
   "metadata": {
    "scrolled": false
   },
   "outputs": [
    {
     "name": "stdout",
     "output_type": "stream",
     "text": [
      "Best f1 score (test): 0.4615384615384615\n"
     ]
    }
   ],
   "source": [
    "print(\"Best f1 score (test):\",f1_score(test_list[best_index_LogisticRegression][1],\n",
    "                                       best_model_LogisticRegression.predict(\n",
    "                                           test_list[best_index_LogisticRegression][0]))) "
   ]
  },
  {
   "cell_type": "code",
   "execution_count": 37,
   "metadata": {},
   "outputs": [
    {
     "name": "stdout",
     "output_type": "stream",
     "text": [
      "Best f1 score (test): 0.4617067833698031\n"
     ]
    }
   ],
   "source": [
    "\n",
    "\n",
    "test_model_LogisticRegression = LogisticRegression(random_state=RANDOM,\n",
    "                                class_weight=\"balanced\", \n",
    "                                C = params_LogisticRegression[\"C\"],\n",
    "                                solver = params_LogisticRegression[\"solver\"],\n",
    "                                max_iter = params_LogisticRegression[\"max_iter\"],\n",
    "                                penalty = params_LogisticRegression[\"penalty\"]\n",
    "                               )\n",
    "\n",
    "new_train_features_LogisticRegression = pd.concat(\n",
    "    [train_list[best_index_LogisticRegression][0]] + [valid_list[best_index_LogisticRegression][0]])\n",
    "\n",
    "new_train_target_LogisticRegression = pd.concat(\n",
    "    [train_list[best_index_LogisticRegression][1]] + [valid_list[best_index_LogisticRegression][1]])\n",
    "\n",
    "test_model_LogisticRegression.fit(new_train_features_LogisticRegression,\n",
    "                                  new_train_target_LogisticRegression)\n",
    "\n",
    "print(\"Best f1 score (test):\",f1_score(test_list[best_index_LogisticRegression][1],\n",
    "                                       test_model_LogisticRegression.predict(\n",
    "                                           test_list[best_index_LogisticRegression][0]))) "
   ]
  },
  {
   "cell_type": "code",
   "execution_count": null,
   "metadata": {},
   "outputs": [],
   "source": []
  },
  {
   "cell_type": "code",
   "execution_count": 38,
   "metadata": {
    "colab": {
     "base_uri": "https://localhost:8080/",
     "height": 357
    },
    "id": "3HRNhIrb-HJR",
    "outputId": "5754e090-daa0-40f9-96c0-7e8683c82ff2",
    "scrolled": true
   },
   "outputs": [
    {
     "name": "stderr",
     "output_type": "stream",
     "text": [
      "/opt/conda/lib/python3.7/site-packages/sklearn/metrics/classification.py:1437: UndefinedMetricWarning: F-score is ill-defined and being set to 0.0 due to no predicted samples.\n",
      "  'precision', 'predicted', average, warn_for)\n"
     ]
    },
    {
     "name": "stdout",
     "output_type": "stream",
     "text": [
      "Best f1: 0.5129943502824859, threshold: 0.5433820435548231\n",
      "Best accuracy: 0.8054545454545454, threshold: 0.6963744166454371\n"
     ]
    },
    {
     "data": {
      "image/png": "[encoded data removed]",
      "text/plain": [
       "<Figure size 720x360 with 1 Axes>"
      ]
     },
     "metadata": {
      "needs_background": "light"
     },
     "output_type": "display_data"
    }
   ],
   "source": [
    "predictions_LogisticRegression = best_model_LogisticRegression.predict_proba(\n",
    "    valid_list[best_index_LogisticRegression][0])[:,1]\n",
    "\n",
    "best_threshold(valid_list[best_index_LogisticRegression][1],\n",
    "               predictions_LogisticRegression,\n",
    "               \"LogisticRegression\")"
   ]
  },
  {
   "cell_type": "markdown",
   "metadata": {},
   "source": [
    "### DecisionTree"
   ]
  },
  {
   "cell_type": "code",
   "execution_count": 39,
   "metadata": {
    "colab": {
     "base_uri": "https://localhost:8080/",
     "height": 1000
    },
    "id": "VowXougm-ucI",
    "outputId": "6c9d00ad-0a9a-4d38-a12b-34ee6a9cfc0d",
    "scrolled": false
   },
   "outputs": [
    {
     "name": "stderr",
     "output_type": "stream",
     "text": [
      "1it [00:01,  1.12s/it]"
     ]
    },
    {
     "name": "stdout",
     "output_type": "stream",
     "text": [
      "\n",
      "-----------------\n",
      "Index:  0\n",
      "Best score: 0.5085328213084853\n",
      "f1 score (valid): 0.27017543859649124\n",
      "-----------------\n"
     ]
    },
    {
     "name": "stderr",
     "output_type": "stream",
     "text": [
      "2it [00:02,  1.20s/it]"
     ]
    },
    {
     "name": "stdout",
     "output_type": "stream",
     "text": [
      "\n",
      "-----------------\n",
      "Index:  1\n",
      "Best score: 0.5260539590465538\n",
      "f1 score (valid): 0.31587561374795414\n",
      "-----------------\n"
     ]
    },
    {
     "name": "stderr",
     "output_type": "stream",
     "text": [
      "3it [00:03,  1.17s/it]"
     ]
    },
    {
     "name": "stdout",
     "output_type": "stream",
     "text": [
      "\n",
      "-----------------\n",
      "Index:  2\n",
      "Best score: 0.5260539590465538\n",
      "f1 score (valid): 0.32140137090632137\n",
      "-----------------\n"
     ]
    },
    {
     "name": "stderr",
     "output_type": "stream",
     "text": [
      "4it [00:03,  1.07it/s]"
     ]
    },
    {
     "name": "stdout",
     "output_type": "stream",
     "text": [
      "\n",
      "-----------------\n",
      "Index:  3\n",
      "Best score: 0.5763815713708678\n",
      "f1 score (valid): 0.222509702457956\n",
      "-----------------\n"
     ]
    },
    {
     "name": "stderr",
     "output_type": "stream",
     "text": [
      "5it [00:04,  1.28it/s]"
     ]
    },
    {
     "name": "stdout",
     "output_type": "stream",
     "text": [
      "\n",
      "-----------------\n",
      "Index:  4\n",
      "Best score: 0.5236268200120249\n",
      "f1 score (valid): 0.24975609756097558\n",
      "-----------------\n"
     ]
    },
    {
     "name": "stderr",
     "output_type": "stream",
     "text": [
      "6it [00:04,  1.45it/s]"
     ]
    },
    {
     "name": "stdout",
     "output_type": "stream",
     "text": [
      "\n",
      "-----------------\n",
      "Index:  5\n",
      "Best score: 0.5112862826040302\n",
      "f1 score (valid): 0.2781875658587987\n",
      "-----------------\n"
     ]
    },
    {
     "name": "stderr",
     "output_type": "stream",
     "text": [
      "7it [00:05,  1.55it/s]"
     ]
    },
    {
     "name": "stdout",
     "output_type": "stream",
     "text": [
      "\n",
      "-----------------\n",
      "Index:  6\n",
      "Best score: 0.502450196418801\n",
      "f1 score (valid): 0.5134474327628362\n",
      "-----------------\n"
     ]
    },
    {
     "name": "stderr",
     "output_type": "stream",
     "text": [
      "8it [00:06,  1.51it/s]"
     ]
    },
    {
     "name": "stdout",
     "output_type": "stream",
     "text": [
      "\n",
      "-----------------\n",
      "Index:  7\n",
      "Best score: 0.5073279654807915\n",
      "f1 score (valid): 0.4979020979020979\n",
      "-----------------\n"
     ]
    },
    {
     "name": "stderr",
     "output_type": "stream",
     "text": [
      "9it [00:06,  1.31it/s]"
     ]
    },
    {
     "name": "stdout",
     "output_type": "stream",
     "text": [
      "\n",
      "-----------------\n",
      "Index:  8\n",
      "Best score: 0.5038373901817095\n",
      "f1 score (valid): 0.49375866851595007\n",
      "-----------------\n",
      "-----BEST------\n",
      "Best index:  6\n",
      "Best f1 score (valid): 0.5134474327628362\n",
      "---------------------\n",
      "{'criterion': 'gini', 'max_depth': 16}\n"
     ]
    },
    {
     "name": "stderr",
     "output_type": "stream",
     "text": [
      "\n"
     ]
    }
   ],
   "source": [
    "(best_score_DecisionTree,\n",
    " best_model_DecisionTree,\n",
    " best_index_DecisionTree,\n",
    " params_DecisionTree) = fit_and_compare(train_list,\n",
    "                                            valid_list,\n",
    "                                            {\"criterion\":(\"gini\", \"entropy\"),\n",
    "                                             \"max_depth\":[2,16]},\n",
    "                                            DecisionTreeClassifier)"
   ]
  },
  {
   "cell_type": "markdown",
   "metadata": {},
   "source": [
    "### Результаты"
   ]
  },
  {
   "cell_type": "code",
   "execution_count": 40,
   "metadata": {},
   "outputs": [
    {
     "name": "stdout",
     "output_type": "stream",
     "text": [
      "Best f1 score (test): 0.5\n"
     ]
    }
   ],
   "source": [
    "print(\"Best f1 score (test):\",f1_score(test_list[best_index_DecisionTree][1],\n",
    "                                       best_model_DecisionTree.predict(\n",
    "                                           test_list[best_index_DecisionTree][0]))) "
   ]
  },
  {
   "cell_type": "code",
   "execution_count": 41,
   "metadata": {},
   "outputs": [
    {
     "name": "stdout",
     "output_type": "stream",
     "text": [
      "Best f1 score (test): 0.4834123222748815\n"
     ]
    }
   ],
   "source": [
    "\n",
    "\n",
    "test_model_DecisionTree = DecisionTreeClassifier(random_state=RANDOM,\n",
    "                                class_weight=\"balanced\", \n",
    "                                criterion = params_DecisionTree[\"criterion\"],\n",
    "                                max_depth = params_DecisionTree[\"max_depth\"],\n",
    "\n",
    "                               )\n",
    "\n",
    "new_train_features_DecisionTree = pd.concat(\n",
    "    [train_list[best_index_DecisionTree][0]] + [valid_list[best_index_DecisionTree][0]])\n",
    "\n",
    "new_train_target_DecisionTree = pd.concat(\n",
    "    [train_list[best_index_DecisionTree][1]] + [valid_list[best_index_DecisionTree][1]])\n",
    "\n",
    "test_model_DecisionTree.fit(new_train_features_DecisionTree,\n",
    "                                  new_train_target_DecisionTree)\n",
    "\n",
    "print(\"Best f1 score (test):\",f1_score(test_list[best_index_DecisionTree][1],\n",
    "                                       test_model_DecisionTree.predict(\n",
    "                                           test_list[best_index_DecisionTree][0]))) "
   ]
  },
  {
   "cell_type": "code",
   "execution_count": null,
   "metadata": {},
   "outputs": [],
   "source": []
  },
  {
   "cell_type": "code",
   "execution_count": 42,
   "metadata": {
    "colab": {
     "base_uri": "https://localhost:8080/",
     "height": 357
    },
    "id": "DGG3CVe5_bax",
    "outputId": "78260706-636b-4750-e65d-5e50eab866fe",
    "scrolled": true
   },
   "outputs": [
    {
     "name": "stdout",
     "output_type": "stream",
     "text": [
      "Best f1: 0.5170556552962298, threshold: 0.5723813317987986\n",
      "Best accuracy: 0.820786142571619, threshold: 0.5723813317987986\n"
     ]
    },
    {
     "name": "stderr",
     "output_type": "stream",
     "text": [
      "/opt/conda/lib/python3.7/site-packages/sklearn/metrics/classification.py:1437: UndefinedMetricWarning: F-score is ill-defined and being set to 0.0 due to no predicted samples.\n",
      "  'precision', 'predicted', average, warn_for)\n"
     ]
    },
    {
     "data": {
      "image/png": "[encoded data removed]",
      "text/plain": [
       "<Figure size 720x360 with 1 Axes>"
      ]
     },
     "metadata": {
      "needs_background": "light"
     },
     "output_type": "display_data"
    }
   ],
   "source": [
    "predictions_DecisionTree = best_model_DecisionTree.predict_proba(\n",
    "    valid_list[best_index_DecisionTree][0])[:,1]\n",
    "\n",
    "best_threshold(valid_list[best_index_DecisionTree][1],\n",
    "               predictions_DecisionTree,\n",
    "               \"DecisionTree\")"
   ]
  },
  {
   "cell_type": "markdown",
   "metadata": {},
   "source": [
    "# Вывод\n"
   ]
  },
  {
   "cell_type": "markdown",
   "metadata": {},
   "source": [
    "- Лучшая модель основана на RandomForest\n",
    "- Лучший индекс: 7 (он означает, что лучше всего показала себя выборка, где пропуски были заполнены 0)\n",
    "- Лучший показатель F1 метрики: 0.6150409530900968\n",
    "- Лучший показатель ROC-AUC: 0.86\n",
    "- Параметры, дающие лучший результат: {'max_depth': 10, 'n_estimators': 100}\n",
    "- Лучше всего выравнивать через class_weight=\"balanced\""
   ]
  }
 ],
 "metadata": {
  "colab": {
   "collapsed_sections": [],
   "name": "churn_prediction.ipynb",
   "provenance": [],
   "toc_visible": true
  },
  "kernelspec": {
   "display_name": "Python 3",
   "language": "python",
   "name": "python3"
  },
  "language_info": {
   "codemirror_mode": {
    "name": "ipython",
    "version": 3
   },
   "file_extension": ".py",
   "mimetype": "text/x-python",
   "name": "python",
   "nbconvert_exporter": "python",
   "pygments_lexer": "ipython3",
   "version": "3.8.3"
  },
  "toc": {
   "base_numbering": 1,
   "nav_menu": {},
   "number_sections": true,
   "sideBar": true,
   "skip_h1_title": false,
   "title_cell": "Содержание",
   "title_sidebar": "Contents",
   "toc_cell": true,
   "toc_position": {
    "height": "calc(100% - 180px)",
    "left": "10px",
    "top": "150px",
    "width": "292.5714416503906px"
   },
   "toc_section_display": true,
   "toc_window_display": true
  }
 },
 "nbformat": 4,
 "nbformat_minor": 1
}
