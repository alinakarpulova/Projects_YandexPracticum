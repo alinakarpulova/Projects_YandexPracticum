{
 "cells": [
  {
   "cell_type": "markdown",
   "metadata": {
    "toc": true
   },
   "source": [
    "<h1>Содержание<span class=\"tocSkip\"></span></h1>\n",
    "<div class=\"toc\"><ul class=\"toc-item\"><li><span><a href=\"#Подготовка-данных\" data-toc-modified-id=\"Подготовка-данных-1\"><span class=\"toc-item-num\">1&nbsp;&nbsp;</span>Подготовка данных</a></span><ul class=\"toc-item\"><li><span><a href=\"#Проверим-дубликаты\" data-toc-modified-id=\"Проверим-дубликаты-1.1\"><span class=\"toc-item-num\">1.1&nbsp;&nbsp;</span>Проверим дубликаты</a></span><ul class=\"toc-item\"><li><span><a href=\"#Вывод\" data-toc-modified-id=\"Вывод-1.1.1\"><span class=\"toc-item-num\">1.1.1&nbsp;&nbsp;</span>Вывод</a></span></li></ul></li><li><span><a href=\"#Проверим-значения\" data-toc-modified-id=\"Проверим-значения-1.2\"><span class=\"toc-item-num\">1.2&nbsp;&nbsp;</span>Проверим значения</a></span><ul class=\"toc-item\"><li><span><a href=\"#Удалим-столбцы:-которые-больше-не-потребуются\" data-toc-modified-id=\"Удалим-столбцы:-которые-больше-не-потребуются-1.2.1\"><span class=\"toc-item-num\">1.2.1&nbsp;&nbsp;</span>Удалим столбцы: которые больше не потребуются</a></span></li><li><span><a href=\"#Результаты-проверки\" data-toc-modified-id=\"Результаты-проверки-1.2.2\"><span class=\"toc-item-num\">1.2.2&nbsp;&nbsp;</span>Результаты проверки</a></span></li></ul></li><li><span><a href=\"#Обработаем-выбросы-и-границы-значений-в-упомянутых-выше-признаках\" data-toc-modified-id=\"Обработаем-выбросы-и-границы-значений-в-упомянутых-выше-признаках-1.3\"><span class=\"toc-item-num\">1.3&nbsp;&nbsp;</span>Обработаем выбросы и границы значений в упомянутых выше признаках</a></span><ul class=\"toc-item\"><li><span><a href=\"#Выводы\" data-toc-modified-id=\"Выводы-1.3.1\"><span class=\"toc-item-num\">1.3.1&nbsp;&nbsp;</span>Выводы</a></span></li></ul></li></ul></li><li><span><a href=\"#Разделим-и-закодируем-выборки\" data-toc-modified-id=\"Разделим-и-закодируем-выборки-2\"><span class=\"toc-item-num\">2&nbsp;&nbsp;</span>Разделим и закодируем выборки</a></span></li><li><span><a href=\"#Обучение-моделей\" data-toc-modified-id=\"Обучение-моделей-3\"><span class=\"toc-item-num\">3&nbsp;&nbsp;</span>Обучение моделей</a></span></li><li><span><a href=\"#Анализ-моделей\" data-toc-modified-id=\"Анализ-моделей-4\"><span class=\"toc-item-num\">4&nbsp;&nbsp;</span>Анализ моделей</a></span></li></ul></div>"
   ]
  },
  {
   "cell_type": "markdown",
   "metadata": {},
   "source": [
    "Сервис по продаже автомобилей с пробегом «Не бит, не крашен» разрабатывает приложение для привлечения новых клиентов. В нём можно быстро узнать рыночную стоимость своего автомобиля. В вашем распоряжении исторические данные: технические характеристики, комплектации и цены автомобилей. Вам нужно построить модель для определения стоимости. \n",
    "\n",
    "Заказчику важны:\n",
    "\n",
    "- качество предсказания;\n",
    "- скорость предсказания;\n",
    "- время обучения."
   ]
  },
  {
   "cell_type": "code",
   "execution_count": 27,
   "metadata": {},
   "outputs": [],
   "source": [
    "import pandas as pd\n",
    "import numpy as np\n",
    "from catboost import CatBoostRegressor, Pool\n",
    "from sklearn.model_selection import train_test_split\n",
    "from sklearn.metrics import mean_squared_error\n",
    "from sklearn.ensemble import RandomForestRegressor\n",
    "from sklearn.model_selection import GridSearchCV\n",
    "import lightgbm as lgb\n",
    "import matplotlib.pyplot as plt\n"
   ]
  },
  {
   "cell_type": "markdown",
   "metadata": {},
   "source": [
    "#  Подготовка данных"
   ]
  },
  {
   "cell_type": "code",
   "execution_count": 26,
   "metadata": {},
   "outputs": [],
   "source": [
    "frame = pd.read_csv(\"/datasets/autos.csv\")"
   ]
  },
  {
   "cell_type": "code",
   "execution_count": 3,
   "metadata": {},
   "outputs": [
    {
     "data": {
      "text/html": [
       "<div>\n",
       "<style scoped>\n",
       "    .dataframe tbody tr th:only-of-type {\n",
       "        vertical-align: middle;\n",
       "    }\n",
       "\n",
       "    .dataframe tbody tr th {\n",
       "        vertical-align: top;\n",
       "    }\n",
       "\n",
       "    .dataframe thead th {\n",
       "        text-align: right;\n",
       "    }\n",
       "</style>\n",
       "<table border=\"1\" class=\"dataframe\">\n",
       "  <thead>\n",
       "    <tr style=\"text-align: right;\">\n",
       "      <th></th>\n",
       "      <th>DateCrawled</th>\n",
       "      <th>Price</th>\n",
       "      <th>VehicleType</th>\n",
       "      <th>RegistrationYear</th>\n",
       "      <th>Gearbox</th>\n",
       "      <th>Power</th>\n",
       "      <th>Model</th>\n",
       "      <th>Kilometer</th>\n",
       "      <th>RegistrationMonth</th>\n",
       "      <th>FuelType</th>\n",
       "      <th>Brand</th>\n",
       "      <th>NotRepaired</th>\n",
       "      <th>DateCreated</th>\n",
       "      <th>NumberOfPictures</th>\n",
       "      <th>PostalCode</th>\n",
       "      <th>LastSeen</th>\n",
       "    </tr>\n",
       "  </thead>\n",
       "  <tbody>\n",
       "    <tr>\n",
       "      <th>0</th>\n",
       "      <td>2016-03-24 11:52:17</td>\n",
       "      <td>480</td>\n",
       "      <td>NaN</td>\n",
       "      <td>1993</td>\n",
       "      <td>manual</td>\n",
       "      <td>0</td>\n",
       "      <td>golf</td>\n",
       "      <td>150000</td>\n",
       "      <td>0</td>\n",
       "      <td>petrol</td>\n",
       "      <td>volkswagen</td>\n",
       "      <td>NaN</td>\n",
       "      <td>2016-03-24 00:00:00</td>\n",
       "      <td>0</td>\n",
       "      <td>70435</td>\n",
       "      <td>2016-04-07 03:16:57</td>\n",
       "    </tr>\n",
       "    <tr>\n",
       "      <th>1</th>\n",
       "      <td>2016-03-24 10:58:45</td>\n",
       "      <td>18300</td>\n",
       "      <td>coupe</td>\n",
       "      <td>2011</td>\n",
       "      <td>manual</td>\n",
       "      <td>190</td>\n",
       "      <td>NaN</td>\n",
       "      <td>125000</td>\n",
       "      <td>5</td>\n",
       "      <td>gasoline</td>\n",
       "      <td>audi</td>\n",
       "      <td>yes</td>\n",
       "      <td>2016-03-24 00:00:00</td>\n",
       "      <td>0</td>\n",
       "      <td>66954</td>\n",
       "      <td>2016-04-07 01:46:50</td>\n",
       "    </tr>\n",
       "    <tr>\n",
       "      <th>2</th>\n",
       "      <td>2016-03-14 12:52:21</td>\n",
       "      <td>9800</td>\n",
       "      <td>suv</td>\n",
       "      <td>2004</td>\n",
       "      <td>auto</td>\n",
       "      <td>163</td>\n",
       "      <td>grand</td>\n",
       "      <td>125000</td>\n",
       "      <td>8</td>\n",
       "      <td>gasoline</td>\n",
       "      <td>jeep</td>\n",
       "      <td>NaN</td>\n",
       "      <td>2016-03-14 00:00:00</td>\n",
       "      <td>0</td>\n",
       "      <td>90480</td>\n",
       "      <td>2016-04-05 12:47:46</td>\n",
       "    </tr>\n",
       "    <tr>\n",
       "      <th>3</th>\n",
       "      <td>2016-03-17 16:54:04</td>\n",
       "      <td>1500</td>\n",
       "      <td>small</td>\n",
       "      <td>2001</td>\n",
       "      <td>manual</td>\n",
       "      <td>75</td>\n",
       "      <td>golf</td>\n",
       "      <td>150000</td>\n",
       "      <td>6</td>\n",
       "      <td>petrol</td>\n",
       "      <td>volkswagen</td>\n",
       "      <td>no</td>\n",
       "      <td>2016-03-17 00:00:00</td>\n",
       "      <td>0</td>\n",
       "      <td>91074</td>\n",
       "      <td>2016-03-17 17:40:17</td>\n",
       "    </tr>\n",
       "    <tr>\n",
       "      <th>4</th>\n",
       "      <td>2016-03-31 17:25:20</td>\n",
       "      <td>3600</td>\n",
       "      <td>small</td>\n",
       "      <td>2008</td>\n",
       "      <td>manual</td>\n",
       "      <td>69</td>\n",
       "      <td>fabia</td>\n",
       "      <td>90000</td>\n",
       "      <td>7</td>\n",
       "      <td>gasoline</td>\n",
       "      <td>skoda</td>\n",
       "      <td>no</td>\n",
       "      <td>2016-03-31 00:00:00</td>\n",
       "      <td>0</td>\n",
       "      <td>60437</td>\n",
       "      <td>2016-04-06 10:17:21</td>\n",
       "    </tr>\n",
       "  </tbody>\n",
       "</table>\n",
       "</div>"
      ],
      "text/plain": [
       "           DateCrawled  Price VehicleType  RegistrationYear Gearbox  Power  \\\n",
       "0  2016-03-24 11:52:17    480         NaN              1993  manual      0   \n",
       "1  2016-03-24 10:58:45  18300       coupe              2011  manual    190   \n",
       "2  2016-03-14 12:52:21   9800         suv              2004    auto    163   \n",
       "3  2016-03-17 16:54:04   1500       small              2001  manual     75   \n",
       "4  2016-03-31 17:25:20   3600       small              2008  manual     69   \n",
       "\n",
       "   Model  Kilometer  RegistrationMonth  FuelType       Brand NotRepaired  \\\n",
       "0   golf     150000                  0    petrol  volkswagen         NaN   \n",
       "1    NaN     125000                  5  gasoline        audi         yes   \n",
       "2  grand     125000                  8  gasoline        jeep         NaN   \n",
       "3   golf     150000                  6    petrol  volkswagen          no   \n",
       "4  fabia      90000                  7  gasoline       skoda          no   \n",
       "\n",
       "           DateCreated  NumberOfPictures  PostalCode             LastSeen  \n",
       "0  2016-03-24 00:00:00                 0       70435  2016-04-07 03:16:57  \n",
       "1  2016-03-24 00:00:00                 0       66954  2016-04-07 01:46:50  \n",
       "2  2016-03-14 00:00:00                 0       90480  2016-04-05 12:47:46  \n",
       "3  2016-03-17 00:00:00                 0       91074  2016-03-17 17:40:17  \n",
       "4  2016-03-31 00:00:00                 0       60437  2016-04-06 10:17:21  "
      ]
     },
     "execution_count": 3,
     "metadata": {},
     "output_type": "execute_result"
    }
   ],
   "source": [
    "frame.head()"
   ]
  },
  {
   "cell_type": "code",
   "execution_count": 4,
   "metadata": {
    "scrolled": false
   },
   "outputs": [
    {
     "name": "stdout",
     "output_type": "stream",
     "text": [
      "<class 'pandas.core.frame.DataFrame'>\n",
      "RangeIndex: 354369 entries, 0 to 354368\n",
      "Data columns (total 16 columns):\n",
      " #   Column             Non-Null Count   Dtype \n",
      "---  ------             --------------   ----- \n",
      " 0   DateCrawled        354369 non-null  object\n",
      " 1   Price              354369 non-null  int64 \n",
      " 2   VehicleType        316879 non-null  object\n",
      " 3   RegistrationYear   354369 non-null  int64 \n",
      " 4   Gearbox            334536 non-null  object\n",
      " 5   Power              354369 non-null  int64 \n",
      " 6   Model              334664 non-null  object\n",
      " 7   Kilometer          354369 non-null  int64 \n",
      " 8   RegistrationMonth  354369 non-null  int64 \n",
      " 9   FuelType           321474 non-null  object\n",
      " 10  Brand              354369 non-null  object\n",
      " 11  NotRepaired        283215 non-null  object\n",
      " 12  DateCreated        354369 non-null  object\n",
      " 13  NumberOfPictures   354369 non-null  int64 \n",
      " 14  PostalCode         354369 non-null  int64 \n",
      " 15  LastSeen           354369 non-null  object\n",
      "dtypes: int64(7), object(9)\n",
      "memory usage: 43.3+ MB\n"
     ]
    }
   ],
   "source": [
    "frame.info()"
   ]
  },
  {
   "cell_type": "code",
   "execution_count": 5,
   "metadata": {},
   "outputs": [],
   "source": [
    "\n",
    "frame[\"VehicleType\"] = frame[\"VehicleType\"].fillna(frame[\"VehicleType\"].mode().values[0])\n",
    "frame[\"Gearbox\"] = frame[\"Gearbox\"].fillna(frame[\"Gearbox\"].mode().values[0])\n",
    "frame[\"Model\"] = frame[\"Model\"].fillna(frame[\"Model\"].mode().values[0])\n",
    "frame[\"FuelType\"] = frame[\"FuelType\"].fillna(frame[\"FuelType\"].mode().values[0])\n",
    "\n",
    "frame[\"NotRepaired\"] = frame[\"NotRepaired\"].fillna(\"no\")"
   ]
  },
  {
   "cell_type": "markdown",
   "metadata": {},
   "source": [
    "При очистке данных от пропусков стоял выбор между полным удалением объектов с пропусками(из за того что мы не могли на основе других параметров объекта достоверно восстановить упущенную информацию) и заполнение их наиболее часто встречающимся значением(так как это все категорийные признаки). По моим подсчетам, удаление объектов с пропусками привело бы к потере более 20% данных, что критично"
   ]
  },
  {
   "cell_type": "markdown",
   "metadata": {},
   "source": [
    "Проверим, что значения категорийных признаков не дублируют друг друга "
   ]
  },
  {
   "cell_type": "code",
   "execution_count": 6,
   "metadata": {
    "scrolled": false
   },
   "outputs": [
    {
     "name": "stdout",
     "output_type": "stream",
     "text": [
      "VehicleType 0\n",
      "Gearbox 0\n",
      "Model 0\n",
      "FuelType 0\n",
      "Brand 0\n",
      "NotRepaired 0\n"
     ]
    }
   ],
   "source": [
    "objects_columns = [\"VehicleType\",\"Gearbox\",\"Model\",\"FuelType\",\"Brand\",\"NotRepaired\"]\n",
    "for column in objects_columns:\n",
    "    print(column, pd.Series(frame[column].unique()).str.lower().duplicated().sum())"
   ]
  },
  {
   "cell_type": "markdown",
   "metadata": {},
   "source": [
    "## Проверим дубликаты "
   ]
  },
  {
   "cell_type": "code",
   "execution_count": 7,
   "metadata": {
    "scrolled": true
   },
   "outputs": [
    {
     "data": {
      "text/plain": [
       "5"
      ]
     },
     "execution_count": 7,
     "metadata": {},
     "output_type": "execute_result"
    }
   ],
   "source": [
    "frame.duplicated().sum()"
   ]
  },
  {
   "cell_type": "code",
   "execution_count": 8,
   "metadata": {
    "scrolled": true
   },
   "outputs": [
    {
     "data": {
      "text/plain": [
       "0"
      ]
     },
     "execution_count": 8,
     "metadata": {},
     "output_type": "execute_result"
    }
   ],
   "source": [
    "frame = frame.drop_duplicates()\n",
    "frame.duplicated().sum()"
   ]
  },
  {
   "cell_type": "markdown",
   "metadata": {},
   "source": [
    "### Вывод"
   ]
  },
  {
   "cell_type": "markdown",
   "metadata": {},
   "source": [
    "дубликатов больше нет"
   ]
  },
  {
   "cell_type": "markdown",
   "metadata": {},
   "source": [
    "## Проверим значения"
   ]
  },
  {
   "cell_type": "code",
   "execution_count": 9,
   "metadata": {
    "scrolled": true
   },
   "outputs": [
    {
     "data": {
      "text/html": [
       "<div>\n",
       "<style scoped>\n",
       "    .dataframe tbody tr th:only-of-type {\n",
       "        vertical-align: middle;\n",
       "    }\n",
       "\n",
       "    .dataframe tbody tr th {\n",
       "        vertical-align: top;\n",
       "    }\n",
       "\n",
       "    .dataframe thead th {\n",
       "        text-align: right;\n",
       "    }\n",
       "</style>\n",
       "<table border=\"1\" class=\"dataframe\">\n",
       "  <thead>\n",
       "    <tr style=\"text-align: right;\">\n",
       "      <th></th>\n",
       "      <th>Price</th>\n",
       "      <th>RegistrationYear</th>\n",
       "      <th>Power</th>\n",
       "      <th>Kilometer</th>\n",
       "      <th>RegistrationMonth</th>\n",
       "      <th>NumberOfPictures</th>\n",
       "      <th>PostalCode</th>\n",
       "    </tr>\n",
       "  </thead>\n",
       "  <tbody>\n",
       "    <tr>\n",
       "      <th>count</th>\n",
       "      <td>354364.000000</td>\n",
       "      <td>354364.000000</td>\n",
       "      <td>354364.000000</td>\n",
       "      <td>354364.000000</td>\n",
       "      <td>354364.000000</td>\n",
       "      <td>354364.0</td>\n",
       "      <td>354364.000000</td>\n",
       "    </tr>\n",
       "    <tr>\n",
       "      <th>mean</th>\n",
       "      <td>4416.655608</td>\n",
       "      <td>2004.234471</td>\n",
       "      <td>110.093723</td>\n",
       "      <td>128211.373051</td>\n",
       "      <td>5.714641</td>\n",
       "      <td>0.0</td>\n",
       "      <td>50508.461698</td>\n",
       "    </tr>\n",
       "    <tr>\n",
       "      <th>std</th>\n",
       "      <td>4514.159690</td>\n",
       "      <td>90.228593</td>\n",
       "      <td>189.851590</td>\n",
       "      <td>37905.136957</td>\n",
       "      <td>3.726433</td>\n",
       "      <td>0.0</td>\n",
       "      <td>25783.124276</td>\n",
       "    </tr>\n",
       "    <tr>\n",
       "      <th>min</th>\n",
       "      <td>0.000000</td>\n",
       "      <td>1000.000000</td>\n",
       "      <td>0.000000</td>\n",
       "      <td>5000.000000</td>\n",
       "      <td>0.000000</td>\n",
       "      <td>0.0</td>\n",
       "      <td>1067.000000</td>\n",
       "    </tr>\n",
       "    <tr>\n",
       "      <th>25%</th>\n",
       "      <td>1050.000000</td>\n",
       "      <td>1999.000000</td>\n",
       "      <td>69.000000</td>\n",
       "      <td>125000.000000</td>\n",
       "      <td>3.000000</td>\n",
       "      <td>0.0</td>\n",
       "      <td>30165.000000</td>\n",
       "    </tr>\n",
       "    <tr>\n",
       "      <th>50%</th>\n",
       "      <td>2700.000000</td>\n",
       "      <td>2003.000000</td>\n",
       "      <td>105.000000</td>\n",
       "      <td>150000.000000</td>\n",
       "      <td>6.000000</td>\n",
       "      <td>0.0</td>\n",
       "      <td>49409.500000</td>\n",
       "    </tr>\n",
       "    <tr>\n",
       "      <th>75%</th>\n",
       "      <td>6400.000000</td>\n",
       "      <td>2008.000000</td>\n",
       "      <td>143.000000</td>\n",
       "      <td>150000.000000</td>\n",
       "      <td>9.000000</td>\n",
       "      <td>0.0</td>\n",
       "      <td>71083.000000</td>\n",
       "    </tr>\n",
       "    <tr>\n",
       "      <th>max</th>\n",
       "      <td>20000.000000</td>\n",
       "      <td>9999.000000</td>\n",
       "      <td>20000.000000</td>\n",
       "      <td>150000.000000</td>\n",
       "      <td>12.000000</td>\n",
       "      <td>0.0</td>\n",
       "      <td>99998.000000</td>\n",
       "    </tr>\n",
       "  </tbody>\n",
       "</table>\n",
       "</div>"
      ],
      "text/plain": [
       "               Price  RegistrationYear          Power      Kilometer  \\\n",
       "count  354364.000000     354364.000000  354364.000000  354364.000000   \n",
       "mean     4416.655608       2004.234471     110.093723  128211.373051   \n",
       "std      4514.159690         90.228593     189.851590   37905.136957   \n",
       "min         0.000000       1000.000000       0.000000    5000.000000   \n",
       "25%      1050.000000       1999.000000      69.000000  125000.000000   \n",
       "50%      2700.000000       2003.000000     105.000000  150000.000000   \n",
       "75%      6400.000000       2008.000000     143.000000  150000.000000   \n",
       "max     20000.000000       9999.000000   20000.000000  150000.000000   \n",
       "\n",
       "       RegistrationMonth  NumberOfPictures     PostalCode  \n",
       "count      354364.000000          354364.0  354364.000000  \n",
       "mean            5.714641               0.0   50508.461698  \n",
       "std             3.726433               0.0   25783.124276  \n",
       "min             0.000000               0.0    1067.000000  \n",
       "25%             3.000000               0.0   30165.000000  \n",
       "50%             6.000000               0.0   49409.500000  \n",
       "75%             9.000000               0.0   71083.000000  \n",
       "max            12.000000               0.0   99998.000000  "
      ]
     },
     "execution_count": 9,
     "metadata": {},
     "output_type": "execute_result"
    }
   ],
   "source": [
    "frame.describe()"
   ]
  },
  {
   "cell_type": "markdown",
   "metadata": {},
   "source": [
    "### Удалим столбцы: которые больше не потребуются"
   ]
  },
  {
   "cell_type": "code",
   "execution_count": 10,
   "metadata": {
    "scrolled": true
   },
   "outputs": [],
   "source": [
    "frame_with_date = frame.copy()\n",
    "frame = frame.drop([\"DateCrawled\",\"DateCreated\",\"LastSeen\",\"NumberOfPictures\",\"PostalCode\"],axis = 1)"
   ]
  },
  {
   "cell_type": "markdown",
   "metadata": {},
   "source": [
    "### Результаты проверки"
   ]
  },
  {
   "cell_type": "markdown",
   "metadata": {},
   "source": [
    "Проанализируем значения числовых признаков перед применения к ним алгоритма очитки выбросов \n",
    "1. Можно заметить, что в столбце RegistrationYear присутствуют аномальные значения, предлагаю установить границы, в котором может находится значение этого столбца. А именно, год регистрации не может быть больше 2020, и не может быть меньше 1930. Все показания выше или ниже этих значений приведем к максимальной или минимальной границе __(признак не нуждается в поиске выбросов)__  \n",
    "\n",
    "1. Можно заметить, что в столбце RegistrationMonth, встречается значение 0, которое корректнее было бы изменить на 1 __(признак не нуждается в поиске выбросов)__  \n",
    "\n",
    "1. Так же в Power присутствуют аномальные значения (20 000 лошадиных сил), ограничим их мощностью БелАЗ(а), т.е. 3500 __(признак нуждается в поиске выбросов)__  \n",
    "\n",
    "1. Столбец Kilometer имеет достаточно реальные значения, поэтому смысла искать там выбросы нет __(признак не нуждается в поиске выбросов)__  \n",
    "\n",
    "1. Значения из столбца Price обладают высоким стандартным отклонениям, что пагубно будет влиять на работу алгоритма  __(признак нуждается в поиске выбросов)__  \n",
    "\n",
    "1. Такие признаки как NumberOfPictures и PostalCode __(признаки не нуждается в поиске выбросов)__ , так как не влияют на реальную стоимость автомобиля (их мы просто удалим)\n",
    "\n"
   ]
  },
  {
   "cell_type": "markdown",
   "metadata": {},
   "source": [
    "## Обработаем выбросы и границы значений в упомянутых выше признаках "
   ]
  },
  {
   "cell_type": "code",
   "execution_count": 11,
   "metadata": {},
   "outputs": [],
   "source": [
    "# RegistrationYear \n",
    "def Balance_RegistrationYear(value):\n",
    "    if value > 2020:\n",
    "        return 2020\n",
    "    elif value < 1930:\n",
    "        return 1930\n",
    "    else:\n",
    "        return value\n",
    "frame[\"RegistrationYear\"] = frame[\"RegistrationYear\"].apply(Balance_RegistrationYear)\n",
    "# RegistrationMonth\n",
    "frame.loc[frame['RegistrationMonth'] == 0, 'RegistrationMonth'] = 1\n",
    "# Power\n",
    "frame.loc[frame['Power'] > 3500, 'Power'] = 3500"
   ]
  },
  {
   "cell_type": "code",
   "execution_count": 12,
   "metadata": {},
   "outputs": [],
   "source": [
    "def remove_ouliers(frame,column):\n",
    "    q25=np.array(frame[column].quantile(0.25))\n",
    "    \n",
    "    q75=np.array(frame[column].quantile(0.75))\n",
    "    first_part=q25-1.5*(q75-q25)\n",
    "    second_part=q75+1.5*(q75-q25)\n",
    "    del_index = []\n",
    "    for index_value, value in zip(frame[column].index,frame[column]):\n",
    "        if second_part <= value or value <= first_part:\n",
    "            del_index.append(index_value)\n",
    "    \n",
    "    print('Количество строк, выбранных для удаления ' + str(column)+\":\",len(del_index))\n",
    "    return del_index"
   ]
  },
  {
   "cell_type": "code",
   "execution_count": 13,
   "metadata": {
    "scrolled": true
   },
   "outputs": [
    {
     "name": "stdout",
     "output_type": "stream",
     "text": [
      "Количество строк, выбранных для удаления Price: 18979\n",
      "Количество строк, выбранных для удаления Power: 5153\n",
      "Было удалено: 24132\n"
     ]
    }
   ],
   "source": [
    "array_num_col = [\"Price\",\"Power\"]\n",
    "count = 0 \n",
    "for column in array_num_col:\n",
    "    index_del = remove_ouliers(frame,column)\n",
    "    count += len(index_del)\n",
    "    frame = frame.drop(index_del,axis = 0)\n",
    "print(\"Было удалено:\", count)"
   ]
  },
  {
   "cell_type": "code",
   "execution_count": 14,
   "metadata": {
    "scrolled": true
   },
   "outputs": [
    {
     "data": {
      "text/html": [
       "<div>\n",
       "<style scoped>\n",
       "    .dataframe tbody tr th:only-of-type {\n",
       "        vertical-align: middle;\n",
       "    }\n",
       "\n",
       "    .dataframe tbody tr th {\n",
       "        vertical-align: top;\n",
       "    }\n",
       "\n",
       "    .dataframe thead th {\n",
       "        text-align: right;\n",
       "    }\n",
       "</style>\n",
       "<table border=\"1\" class=\"dataframe\">\n",
       "  <thead>\n",
       "    <tr style=\"text-align: right;\">\n",
       "      <th></th>\n",
       "      <th>Price</th>\n",
       "      <th>RegistrationYear</th>\n",
       "      <th>Power</th>\n",
       "      <th>Kilometer</th>\n",
       "      <th>RegistrationMonth</th>\n",
       "    </tr>\n",
       "  </thead>\n",
       "  <tbody>\n",
       "    <tr>\n",
       "      <th>Price</th>\n",
       "      <td>1.000000</td>\n",
       "      <td>0.365565</td>\n",
       "      <td>0.433664</td>\n",
       "      <td>-0.279190</td>\n",
       "      <td>0.108351</td>\n",
       "    </tr>\n",
       "    <tr>\n",
       "      <th>RegistrationYear</th>\n",
       "      <td>0.365565</td>\n",
       "      <td>1.000000</td>\n",
       "      <td>0.092088</td>\n",
       "      <td>-0.132255</td>\n",
       "      <td>0.042231</td>\n",
       "    </tr>\n",
       "    <tr>\n",
       "      <th>Power</th>\n",
       "      <td>0.433664</td>\n",
       "      <td>0.092088</td>\n",
       "      <td>1.000000</td>\n",
       "      <td>0.134619</td>\n",
       "      <td>0.125639</td>\n",
       "    </tr>\n",
       "    <tr>\n",
       "      <th>Kilometer</th>\n",
       "      <td>-0.279190</td>\n",
       "      <td>-0.132255</td>\n",
       "      <td>0.134619</td>\n",
       "      <td>1.000000</td>\n",
       "      <td>0.015735</td>\n",
       "    </tr>\n",
       "    <tr>\n",
       "      <th>RegistrationMonth</th>\n",
       "      <td>0.108351</td>\n",
       "      <td>0.042231</td>\n",
       "      <td>0.125639</td>\n",
       "      <td>0.015735</td>\n",
       "      <td>1.000000</td>\n",
       "    </tr>\n",
       "  </tbody>\n",
       "</table>\n",
       "</div>"
      ],
      "text/plain": [
       "                      Price  RegistrationYear     Power  Kilometer  \\\n",
       "Price              1.000000          0.365565  0.433664  -0.279190   \n",
       "RegistrationYear   0.365565          1.000000  0.092088  -0.132255   \n",
       "Power              0.433664          0.092088  1.000000   0.134619   \n",
       "Kilometer         -0.279190         -0.132255  0.134619   1.000000   \n",
       "RegistrationMonth  0.108351          0.042231  0.125639   0.015735   \n",
       "\n",
       "                   RegistrationMonth  \n",
       "Price                       0.108351  \n",
       "RegistrationYear            0.042231  \n",
       "Power                       0.125639  \n",
       "Kilometer                   0.015735  \n",
       "RegistrationMonth           1.000000  "
      ]
     },
     "execution_count": 14,
     "metadata": {},
     "output_type": "execute_result"
    }
   ],
   "source": [
    "frame.corr()"
   ]
  },
  {
   "cell_type": "markdown",
   "metadata": {},
   "source": [
    "### Выводы\n",
    "\n",
    "- Пропуски были только в категорийных признаках, поэтому заполнения выполнял модой \n",
    "- Дубликатов внутри признаков найдено не было\n",
    "- Дубликаты объектов: было найдено 5 штук - удалены\n",
    "- Проверена корреляция: все в рамках разумных пределов, наиболее коррелирующим с целевим признаком является признак отвечающий за мощность \n",
    "- Данные были очищены от выбросов, суммарно было удалено 73 145 объектов, что составляет около 20%. Это достаточно большой процент, поэтому в случае низких результатов модели имеет смысл изменить(увеличить) коэффициент при межквартильном размахе, что уменьшит общий объем объектов идентифицирующих как выбросы (при коэффициенте равном 2 сумма количества удаленных объектов уменьшится ~20 000 (приблизительно 5% от изначальной выборки))"
   ]
  },
  {
   "cell_type": "markdown",
   "metadata": {},
   "source": [
    "# Разделим и закодируем выборки"
   ]
  },
  {
   "cell_type": "code",
   "execution_count": 15,
   "metadata": {},
   "outputs": [],
   "source": [
    "frame_ohe = frame.copy()\n",
    "frame_ohe = pd.get_dummies(frame_ohe)\n",
    "frame_light = frame.copy()\n",
    "frame_light = frame_light.astype({\"VehicleType\":'category',\n",
    "                                  \"Gearbox\":'category',\n",
    "                                  \"Model\":'category',\n",
    "                                  \"FuelType\":'category',\n",
    "                                  \"Brand\":'category',\n",
    "                                  \"NotRepaired\":'category'})"
   ]
  },
  {
   "cell_type": "markdown",
   "metadata": {},
   "source": [
    "Разделим данные на выборки"
   ]
  },
  {
   "cell_type": "code",
   "execution_count": 16,
   "metadata": {},
   "outputs": [],
   "source": [
    "trainX,testX,trainY,testY = train_test_split(frame_ohe.drop(\"Price\",axis = 1),\n",
    "                                             frame_ohe[\"Price\"],\n",
    "                                             test_size = 0.25,\n",
    "                                             random_state = 42)\n",
    "\n",
    "trainX_wo_ohe,testX_wo_ohe,trainY_wo_ohe,testY_wo_ohe = train_test_split(frame.drop(\"Price\",axis = 1),\n",
    "                                             frame[\"Price\"],\n",
    "                                             test_size = 0.25,\n",
    "                                             random_state = 42)\n",
    "(trainX_wo_ohe_light,\n",
    " testX_wo_ohe_light,\n",
    " trainY_wo_ohe_light,\n",
    " testY_wo_ohe_light) = train_test_split(frame_light.drop(\"Price\",axis = 1),\n",
    "                                             frame_light[\"Price\"],\n",
    "                                             test_size = 0.25,\n",
    "                                             random_state = 42)"
   ]
  },
  {
   "cell_type": "markdown",
   "metadata": {},
   "source": [
    "#  Обучение моделей"
   ]
  },
  {
   "cell_type": "code",
   "execution_count": 17,
   "metadata": {
    "scrolled": true
   },
   "outputs": [
    {
     "name": "stdout",
     "output_type": "stream",
     "text": [
      "\n",
      "bestTest = 1445.966066\n",
      "bestIteration = 999\n",
      "\n",
      "0:\tloss: 1445.9660657\tbest: 1445.9660657 (0)\ttotal: 32.4s\tremaining: 4m 51s\n",
      "\n",
      "bestTest = 1426.77088\n",
      "bestIteration = 992\n",
      "\n",
      "1:\tloss: 1426.7708800\tbest: 1426.7708800 (1)\ttotal: 1m 5s\tremaining: 4m 21s\n",
      "\n",
      "bestTest = 1423.815975\n",
      "bestIteration = 995\n",
      "\n",
      "2:\tloss: 1423.8159746\tbest: 1423.8159746 (2)\ttotal: 1m 37s\tremaining: 3m 47s\n",
      "\n",
      "bestTest = 1436.557374\n",
      "bestIteration = 980\n",
      "\n",
      "3:\tloss: 1436.5573740\tbest: 1423.8159746 (2)\ttotal: 2m 9s\tremaining: 3m 14s\n",
      "\n",
      "bestTest = 1445.892891\n",
      "bestIteration = 727\n",
      "\n",
      "4:\tloss: 1445.8928905\tbest: 1423.8159746 (2)\ttotal: 2m 41s\tremaining: 2m 41s\n",
      "\n",
      "bestTest = 1387.40679\n",
      "bestIteration = 993\n",
      "\n",
      "5:\tloss: 1387.4067901\tbest: 1387.4067901 (5)\ttotal: 3m 51s\tremaining: 2m 34s\n",
      "\n",
      "bestTest = 1394.650189\n",
      "bestIteration = 670\n",
      "\n",
      "6:\tloss: 1394.6501885\tbest: 1387.4067901 (5)\ttotal: 5m 2s\tremaining: 2m 9s\n",
      "\n",
      "bestTest = 1417.9342\n",
      "bestIteration = 352\n",
      "\n",
      "7:\tloss: 1417.9341998\tbest: 1387.4067901 (5)\ttotal: 6m 13s\tremaining: 1m 33s\n",
      "\n",
      "bestTest = 1445.073987\n",
      "bestIteration = 205\n",
      "\n",
      "8:\tloss: 1445.0739869\tbest: 1387.4067901 (5)\ttotal: 7m 24s\tremaining: 49.4s\n",
      "\n",
      "bestTest = 1470.509648\n",
      "bestIteration = 76\n",
      "\n",
      "9:\tloss: 1470.5096476\tbest: 1387.4067901 (5)\ttotal: 8m 34s\tremaining: 0us\n",
      "Estimating final quality...\n",
      "CPU times: user 1h 57min 51s, sys: 11min 49s, total: 2h 9min 40s\n",
      "Wall time: 13min 32s\n"
     ]
    }
   ],
   "source": [
    "%%time\n",
    "# catboost\n",
    "catboost = CatBoostRegressor(loss_function='RMSE')\n",
    "parameters_cat = {'depth':[5,10], 'learning_rate':np.arange(0.1,1,0.2)}\n",
    "catboost_grid = catboost.grid_search(parameters_cat,\n",
    "            Pool(trainX_wo_ohe, trainY_wo_ohe, cat_features=[\"VehicleType\",\"Gearbox\",\n",
    "                                                             \"Model\",\"FuelType\",\n",
    "                                                             \"Brand\",\"NotRepaired\"]),\n",
    "            cv=3,\n",
    "            verbose=True,\n",
    "            plot=False)"
   ]
  },
  {
   "cell_type": "code",
   "execution_count": 18,
   "metadata": {},
   "outputs": [
    {
     "data": {
      "text/plain": [
       "{'depth': 10, 'learning_rate': 0.1}"
      ]
     },
     "execution_count": 18,
     "metadata": {},
     "output_type": "execute_result"
    }
   ],
   "source": [
    "catboost_grid[\"params\"]\n"
   ]
  },
  {
   "cell_type": "markdown",
   "metadata": {},
   "source": [
    "Проверим время обучения с найденными параметрами для каждой модели"
   ]
  },
  {
   "cell_type": "code",
   "execution_count": 19,
   "metadata": {},
   "outputs": [
    {
     "name": "stdout",
     "output_type": "stream",
     "text": [
      "0:\tlearn: 3199.3237813\ttotal: 83.7ms\tremaining: 1m 23s\n",
      "100:\tlearn: 1460.6397495\ttotal: 7.55s\tremaining: 1m 7s\n",
      "200:\tlearn: 1395.8414229\ttotal: 14.7s\tremaining: 58.6s\n",
      "300:\tlearn: 1357.1510164\ttotal: 22.4s\tremaining: 52.1s\n",
      "400:\tlearn: 1330.2085113\ttotal: 30.4s\tremaining: 45.4s\n",
      "500:\tlearn: 1303.8544947\ttotal: 38.2s\tremaining: 38.1s\n",
      "600:\tlearn: 1284.2563714\ttotal: 46.3s\tremaining: 30.7s\n",
      "700:\tlearn: 1265.6215843\ttotal: 54.3s\tremaining: 23.2s\n",
      "800:\tlearn: 1248.6235148\ttotal: 1m 2s\tremaining: 15.5s\n",
      "900:\tlearn: 1233.3873270\ttotal: 1m 10s\tremaining: 7.73s\n",
      "999:\tlearn: 1221.0471660\ttotal: 1m 18s\tremaining: 0us\n",
      "CPU times: user 12min 6s, sys: 1min 6s, total: 13min 12s\n",
      "Wall time: 1min 19s\n"
     ]
    },
    {
     "data": {
      "text/plain": [
       "<catboost.core.CatBoostRegressor at 0x7f9b9bc94910>"
      ]
     },
     "execution_count": 19,
     "metadata": {},
     "output_type": "execute_result"
    }
   ],
   "source": [
    "%%time\n",
    "final_cat = CatBoostRegressor(depth=catboost_grid[\"params\"][\"depth\"], \n",
    "                              learning_rate=catboost_grid[\"params\"]['learning_rate'],\n",
    "                              loss_function='RMSE',verbose=100)\n",
    "final_cat.fit(Pool(trainX_wo_ohe,trainY_wo_ohe,\n",
    "                   cat_features=[\"VehicleType\",\"Gearbox\",\"Model\",\"FuelType\",\"Brand\",\"NotRepaired\"]))"
   ]
  },
  {
   "cell_type": "code",
   "execution_count": 20,
   "metadata": {},
   "outputs": [
    {
     "name": "stdout",
     "output_type": "stream",
     "text": [
      "CPU times: user 37min 47s, sys: 10.7 s, total: 37min 58s\n",
      "Wall time: 3min 25s\n"
     ]
    },
    {
     "data": {
      "text/plain": [
       "RandomForestRegressor(n_jobs=-1, random_state=42)"
      ]
     },
     "execution_count": 20,
     "metadata": {},
     "output_type": "execute_result"
    }
   ],
   "source": [
    "%%time\n",
    "# RandomForest\n",
    "RF = RandomForestRegressor(criterion = \"mse\",random_state=42,n_estimators = 100,n_jobs=-1)\n",
    "RF.fit(trainX,trainY)"
   ]
  },
  {
   "cell_type": "code",
   "execution_count": 21,
   "metadata": {
    "scrolled": true
   },
   "outputs": [
    {
     "name": "stdout",
     "output_type": "stream",
     "text": [
      "[100]\ttraining's l2: 2.04998e+06\tvalid_1's l2: 2.18059e+06\n",
      "[200]\ttraining's l2: 1.91936e+06\tvalid_1's l2: 2.10178e+06\n",
      "[300]\ttraining's l2: 1.84345e+06\tvalid_1's l2: 2.06858e+06\n",
      "[400]\ttraining's l2: 1.78335e+06\tvalid_1's l2: 2.04351e+06\n",
      "[500]\ttraining's l2: 1.73625e+06\tvalid_1's l2: 2.02733e+06\n",
      "[600]\ttraining's l2: 1.69256e+06\tvalid_1's l2: 2.01194e+06\n",
      "[700]\ttraining's l2: 1.65886e+06\tvalid_1's l2: 2.00455e+06\n",
      "[800]\ttraining's l2: 1.62604e+06\tvalid_1's l2: 1.99399e+06\n",
      "[900]\ttraining's l2: 1.59629e+06\tvalid_1's l2: 1.9874e+06\n",
      "[1000]\ttraining's l2: 1.56875e+06\tvalid_1's l2: 1.97986e+06\n",
      "CPU times: user 52.9 s, sys: 717 ms, total: 53.7 s\n",
      "Wall time: 4.68 s\n"
     ]
    }
   ],
   "source": [
    "%%time\n",
    "# LightGBM\n",
    "lgb_train = lgb.Dataset(trainX_wo_ohe_light, trainY_wo_ohe_light)\n",
    "lgb_test = lgb.Dataset(testX_wo_ohe_light, testY_wo_ohe_light, reference=lgb_train)\n",
    "parameters_light = {'metric': 'l2', 'max_depth':10,\"random_state\": 42,\"learning_rate\":0.1}\n",
    "light = lgb.train(parameters_light,\n",
    "                lgb_train,\n",
    "                num_boost_round=1000,\n",
    "                valid_sets=[lgb_train, lgb_test],\n",
    "                verbose_eval=100)"
   ]
  },
  {
   "cell_type": "markdown",
   "metadata": {},
   "source": [
    "Посчитаем ошибку для каждой модели и определим время предсказаний"
   ]
  },
  {
   "cell_type": "code",
   "execution_count": 22,
   "metadata": {
    "scrolled": true
   },
   "outputs": [
    {
     "name": "stdout",
     "output_type": "stream",
     "text": [
      "CatBoost: 1410.0596136459287\n",
      "CPU times: user 3.24 s, sys: 153 ms, total: 3.4 s\n",
      "Wall time: 302 ms\n"
     ]
    }
   ],
   "source": [
    "%%time\n",
    "print(\"CatBoost:\",mean_squared_error(testY,final_cat.predict(testX_wo_ohe),squared=False))"
   ]
  },
  {
   "cell_type": "code",
   "execution_count": 23,
   "metadata": {},
   "outputs": [
    {
     "name": "stdout",
     "output_type": "stream",
     "text": [
      "RandomForest: 1448.6789088096418\n",
      "CPU times: user 10.9 s, sys: 2.77 s, total: 13.7 s\n",
      "Wall time: 1.6 s\n"
     ]
    }
   ],
   "source": [
    "%%time\n",
    "print(\"RandomForest:\",mean_squared_error(testY,RF.predict(testX),squared=False))"
   ]
  },
  {
   "cell_type": "code",
   "execution_count": 24,
   "metadata": {},
   "outputs": [
    {
     "name": "stdout",
     "output_type": "stream",
     "text": [
      "LightGBM: 1407.0761519767168\n",
      "CPU times: user 6.41 s, sys: 32.2 ms, total: 6.44 s\n",
      "Wall time: 591 ms\n"
     ]
    }
   ],
   "source": [
    "%%time\n",
    "print(\"LightGBM:\",(mean_squared_error(testY,light.predict(testX_wo_ohe_light),squared=False)))"
   ]
  },
  {
   "cell_type": "markdown",
   "metadata": {},
   "source": [
    "#  Анализ моделей"
   ]
  },
  {
   "cell_type": "markdown",
   "metadata": {},
   "source": [
    "Основываясь на полученные результаты можно сделать вывод, что наименьшую ошибку выдает CatBoost, на тренировку данной модели ушло ~1min 19s, в то же время на обучение рандомного леса ушло всего ~ 3min 25s, а на обучение LightGBM ушло 4.68 s с. Ошибки моделей не сильно отличаются, разница между крайними значениями составляет всего 3. В условии указано, что решающим факторами при выборе модели являются следующие показатели:\n",
    "- Время обучения\n",
    "- Время предсказания\n",
    "- Качество предсказаний\n",
    "\n",
    "Основываясь на данных признаков мы можем из удалить из сравнения RandomForest, так как его время обучения в разы больше.\n",
    "Чтобы определить какая из двух оставшихся моделей нам подойдет больше нужно выбрать что для нас важнее, время обучение или ошибка. И там, и там разрыв между моделями небольшой. LightGBM обучается в несколько раз быстрее. Менее выгодно всего в данном случае смотреться CatBoost, эта модель проигрывает по 2 из 3 параметров:\n",
    "- Время предсказания меньше (302 ms против 591 ms у LightGBM)\n",
    "- Качество предсказаний ниже (1410 против 1407 у LightGBM)\n",
    "- Время обучения больше (1min 19s против 4.68 s у LightGBM)\n",
    "\n",
    "Основываясь на этом, можно сделать вывод, что лучше всего подойдет модель построенная на LightGBM \n"
   ]
  }
 ],
 "metadata": {
  "kernelspec": {
   "display_name": "Python 3",
   "language": "python",
   "name": "python3"
  },
  "language_info": {
   "codemirror_mode": {
    "name": "ipython",
    "version": 3
   },
   "file_extension": ".py",
   "mimetype": "text/x-python",
   "name": "python",
   "nbconvert_exporter": "python",
   "pygments_lexer": "ipython3",
   "version": "3.8.3"
  },
  "toc": {
   "base_numbering": 1,
   "nav_menu": {},
   "number_sections": true,
   "sideBar": true,
   "skip_h1_title": false,
   "title_cell": "Содержание",
   "title_sidebar": "Contents",
   "toc_cell": true,
   "toc_position": {},
   "toc_section_display": true,
   "toc_window_display": true
  }
 },
 "nbformat": 4,
 "nbformat_minor": 2
}
