{
  "cells": [
    {
      "cell_type": "markdown",
      "id": "8398c8e5",
      "metadata": {
        "id": "8398c8e5"
      },
      "source": [
        "# Статистический анализ данных\n",
        "Вы аналитик популярного сервиса аренды самокатов GoFast. Вам передали данные о некоторых пользователях из нескольких городов, а также об их поездках. Проанализируйте данные и проверьте некоторые гипотезы, которые могут помочь бизнесу вырасти.\n",
        "Чтобы совершать поездки по городу, пользователи сервиса GoFast пользуются мобильным приложением. Сервисом можно пользоваться:\n",
        "\n",
        "без подписки\n",
        "* абонентская плата отсутствует;\n",
        "* стоимость одной минуты поездки — 8 рублей;\n",
        "* стоимость старта (начала поездки) — 50 рублей;\n",
        "\n",
        "с подпиской Ultra\n",
        "* абонентская плата — 199 рублей в месяц;\n",
        "* стоимость одной минуты поездки — 6 рублей;\n",
        "* стоимость старта — бесплатно."
      ]
    },
    {
      "cell_type": "code",
      "execution_count": null,
      "id": "72576667",
      "metadata": {
        "id": "72576667"
      },
      "outputs": [],
      "source": [
        "import numpy as np\n",
        "import pandas as pd\n",
        "import matplotlib.pyplot as plt\n",
        "from scipy import stats as st\n",
        "from scipy.stats import binom, poisson, norm\n",
        "from math import sqrt, factorial"
      ]
    },
    {
      "cell_type": "code",
      "execution_count": null,
      "id": "C1GITAqg9tMl",
      "metadata": {
        "id": "C1GITAqg9tMl"
      },
      "outputs": [],
      "source": [
        "# Настройки\n",
        "# Отображение всех колонок таблиц\n",
        "pd.set_option('display.max_columns', None)"
      ]
    },
    {
      "cell_type": "markdown",
      "id": "c42cbe00",
      "metadata": {
        "id": "c42cbe00"
      },
      "source": [
        "# Шаг 1. Загрузка данных"
      ]
    },
    {
      "cell_type": "code",
      "execution_count": null,
      "id": "eff9f206",
      "metadata": {
        "id": "eff9f206"
      },
      "outputs": [],
      "source": [
        "# функция вывода информации о датасете\n",
        "def dataset_info(dataset):\n",
        "    print(dataset.info())\n",
        "    display(dataset.head())"
      ]
    },
    {
      "cell_type": "code",
      "execution_count": null,
      "id": "d393ce88",
      "metadata": {
        "id": "d393ce88"
      },
      "outputs": [],
      "source": [
        "# функция проверки на дубликаты и пустые значения\n",
        "def dataset_isdub_isnull(dataset):\n",
        "    print('Количество явных дубликатов в датасете:', dataset.duplicated().sum())\n",
        "    print('Количество пропусков в датасете:')\n",
        "    print(dataset.isnull().sum())"
      ]
    },
    {
      "cell_type": "code",
      "execution_count": null,
      "id": "c5950ca6",
      "metadata": {
        "id": "c5950ca6"
      },
      "outputs": [],
      "source": [
        "# загружаем датафреймы\n",
        "try:\n",
        "    df_users = pd.read_csv('/datasets/users_go.csv')\n",
        "    df_rides = pd.read_csv('/datasets/rides_go.csv')\n",
        "    df_subs = pd.read_csv('/datasets/subscriptions_go.csv')\n",
        "except:\n",
        "    df_users = pd.read_csv('https://code.s3.yandex.net/datasets/users_go.csv')\n",
        "    df_rides = pd.read_csv('https://code.s3.yandex.net/datasets/rides_go.csv')\n",
        "    df_subs = pd.read_csv('https://code.s3.yandex.net/datasets/subscriptions_go.csv')"
      ]
    },
    {
      "cell_type": "markdown",
      "id": "QpqD-HR8QDnB",
      "metadata": {
        "id": "QpqD-HR8QDnB"
      },
      "source": [
        "### Датафрейм \"Пользователи\""
      ]
    },
    {
      "cell_type": "code",
      "execution_count": null,
      "id": "PtBLayr0PJ26",
      "metadata": {
        "colab": {
          "base_uri": "https://localhost:8080/",
          "height": 432
        },
        "id": "PtBLayr0PJ26",
        "outputId": "40ba5771-7f09-4139-d3be-cd85d5db9811"
      },
      "outputs": [
        {
          "name": "stdout",
          "output_type": "stream",
          "text": [
            "<class 'pandas.core.frame.DataFrame'>\n",
            "RangeIndex: 1565 entries, 0 to 1564\n",
            "Data columns (total 5 columns):\n",
            " #   Column             Non-Null Count  Dtype \n",
            "---  ------             --------------  ----- \n",
            " 0   user_id            1565 non-null   int64 \n",
            " 1   name               1565 non-null   object\n",
            " 2   age                1565 non-null   int64 \n",
            " 3   city               1565 non-null   object\n",
            " 4   subscription_type  1565 non-null   object\n",
            "dtypes: int64(2), object(3)\n",
            "memory usage: 61.3+ KB\n",
            "None\n"
          ]
        },
        {
          "data": {
            "text/html": [
              "<div>\n",
              "<style scoped>\n",
              "    .dataframe tbody tr th:only-of-type {\n",
              "        vertical-align: middle;\n",
              "    }\n",
              "\n",
              "    .dataframe tbody tr th {\n",
              "        vertical-align: top;\n",
              "    }\n",
              "\n",
              "    .dataframe thead th {\n",
              "        text-align: right;\n",
              "    }\n",
              "</style>\n",
              "<table border=\"1\" class=\"dataframe\">\n",
              "  <thead>\n",
              "    <tr style=\"text-align: right;\">\n",
              "      <th></th>\n",
              "      <th>user_id</th>\n",
              "      <th>name</th>\n",
              "      <th>age</th>\n",
              "      <th>city</th>\n",
              "      <th>subscription_type</th>\n",
              "    </tr>\n",
              "  </thead>\n",
              "  <tbody>\n",
              "    <tr>\n",
              "      <th>0</th>\n",
              "      <td>1</td>\n",
              "      <td>Кира</td>\n",
              "      <td>22</td>\n",
              "      <td>Тюмень</td>\n",
              "      <td>ultra</td>\n",
              "    </tr>\n",
              "    <tr>\n",
              "      <th>1</th>\n",
              "      <td>2</td>\n",
              "      <td>Станислав</td>\n",
              "      <td>31</td>\n",
              "      <td>Омск</td>\n",
              "      <td>ultra</td>\n",
              "    </tr>\n",
              "    <tr>\n",
              "      <th>2</th>\n",
              "      <td>3</td>\n",
              "      <td>Алексей</td>\n",
              "      <td>20</td>\n",
              "      <td>Москва</td>\n",
              "      <td>ultra</td>\n",
              "    </tr>\n",
              "    <tr>\n",
              "      <th>3</th>\n",
              "      <td>4</td>\n",
              "      <td>Константин</td>\n",
              "      <td>26</td>\n",
              "      <td>Ростов-на-Дону</td>\n",
              "      <td>ultra</td>\n",
              "    </tr>\n",
              "    <tr>\n",
              "      <th>4</th>\n",
              "      <td>5</td>\n",
              "      <td>Адель</td>\n",
              "      <td>28</td>\n",
              "      <td>Омск</td>\n",
              "      <td>ultra</td>\n",
              "    </tr>\n",
              "  </tbody>\n",
              "</table>\n",
              "</div>"
            ],
            "text/plain": [
              "   user_id        name  age            city subscription_type\n",
              "0        1        Кира   22          Тюмень             ultra\n",
              "1        2   Станислав   31            Омск             ultra\n",
              "2        3     Алексей   20          Москва             ultra\n",
              "3        4  Константин   26  Ростов-на-Дону             ultra\n",
              "4        5       Адель   28            Омск             ultra"
            ]
          },
          "metadata": {},
          "output_type": "display_data"
        }
      ],
      "source": [
        "dataset_info(df_users)"
      ]
    },
    {
      "cell_type": "markdown",
      "id": "h4u2CKRaQL52",
      "metadata": {
        "id": "h4u2CKRaQL52"
      },
      "source": [
        "### Датафрейм \"Поездки\""
      ]
    },
    {
      "cell_type": "code",
      "execution_count": null,
      "id": "nLxBs-U3PLbh",
      "metadata": {
        "colab": {
          "base_uri": "https://localhost:8080/",
          "height": 414
        },
        "id": "nLxBs-U3PLbh",
        "outputId": "b105747c-446d-4381-eb49-db9961e7cf37"
      },
      "outputs": [
        {
          "name": "stdout",
          "output_type": "stream",
          "text": [
            "<class 'pandas.core.frame.DataFrame'>\n",
            "RangeIndex: 18068 entries, 0 to 18067\n",
            "Data columns (total 4 columns):\n",
            " #   Column    Non-Null Count  Dtype  \n",
            "---  ------    --------------  -----  \n",
            " 0   user_id   18068 non-null  int64  \n",
            " 1   distance  18068 non-null  float64\n",
            " 2   duration  18068 non-null  float64\n",
            " 3   date      18068 non-null  object \n",
            "dtypes: float64(2), int64(1), object(1)\n",
            "memory usage: 564.8+ KB\n",
            "None\n"
          ]
        },
        {
          "data": {
            "text/html": [
              "<div>\n",
              "<style scoped>\n",
              "    .dataframe tbody tr th:only-of-type {\n",
              "        vertical-align: middle;\n",
              "    }\n",
              "\n",
              "    .dataframe tbody tr th {\n",
              "        vertical-align: top;\n",
              "    }\n",
              "\n",
              "    .dataframe thead th {\n",
              "        text-align: right;\n",
              "    }\n",
              "</style>\n",
              "<table border=\"1\" class=\"dataframe\">\n",
              "  <thead>\n",
              "    <tr style=\"text-align: right;\">\n",
              "      <th></th>\n",
              "      <th>user_id</th>\n",
              "      <th>distance</th>\n",
              "      <th>duration</th>\n",
              "      <th>date</th>\n",
              "    </tr>\n",
              "  </thead>\n",
              "  <tbody>\n",
              "    <tr>\n",
              "      <th>0</th>\n",
              "      <td>1</td>\n",
              "      <td>4409.919140</td>\n",
              "      <td>25.599769</td>\n",
              "      <td>2021-01-01</td>\n",
              "    </tr>\n",
              "    <tr>\n",
              "      <th>1</th>\n",
              "      <td>1</td>\n",
              "      <td>2617.592153</td>\n",
              "      <td>15.816871</td>\n",
              "      <td>2021-01-18</td>\n",
              "    </tr>\n",
              "    <tr>\n",
              "      <th>2</th>\n",
              "      <td>1</td>\n",
              "      <td>754.159807</td>\n",
              "      <td>6.232113</td>\n",
              "      <td>2021-04-20</td>\n",
              "    </tr>\n",
              "    <tr>\n",
              "      <th>3</th>\n",
              "      <td>1</td>\n",
              "      <td>2694.783254</td>\n",
              "      <td>18.511000</td>\n",
              "      <td>2021-08-11</td>\n",
              "    </tr>\n",
              "    <tr>\n",
              "      <th>4</th>\n",
              "      <td>1</td>\n",
              "      <td>4028.687306</td>\n",
              "      <td>26.265803</td>\n",
              "      <td>2021-08-28</td>\n",
              "    </tr>\n",
              "  </tbody>\n",
              "</table>\n",
              "</div>"
            ],
            "text/plain": [
              "   user_id     distance   duration        date\n",
              "0        1  4409.919140  25.599769  2021-01-01\n",
              "1        1  2617.592153  15.816871  2021-01-18\n",
              "2        1   754.159807   6.232113  2021-04-20\n",
              "3        1  2694.783254  18.511000  2021-08-11\n",
              "4        1  4028.687306  26.265803  2021-08-28"
            ]
          },
          "metadata": {},
          "output_type": "display_data"
        }
      ],
      "source": [
        "dataset_info(df_rides)"
      ]
    },
    {
      "cell_type": "markdown",
      "id": "onR4QBeqQW8o",
      "metadata": {
        "id": "onR4QBeqQW8o"
      },
      "source": [
        "### Датафрейм \"Подписки\""
      ]
    },
    {
      "cell_type": "code",
      "execution_count": null,
      "id": "wJzLMAU0PL87",
      "metadata": {
        "colab": {
          "base_uri": "https://localhost:8080/",
          "height": 320
        },
        "id": "wJzLMAU0PL87",
        "outputId": "81a4fa7c-2c33-4e28-d58e-24c6cf20fea5"
      },
      "outputs": [
        {
          "name": "stdout",
          "output_type": "stream",
          "text": [
            "<class 'pandas.core.frame.DataFrame'>\n",
            "RangeIndex: 2 entries, 0 to 1\n",
            "Data columns (total 4 columns):\n",
            " #   Column             Non-Null Count  Dtype \n",
            "---  ------             --------------  ----- \n",
            " 0   subscription_type  2 non-null      object\n",
            " 1   minute_price       2 non-null      int64 \n",
            " 2   start_ride_price   2 non-null      int64 \n",
            " 3   subscription_fee   2 non-null      int64 \n",
            "dtypes: int64(3), object(1)\n",
            "memory usage: 192.0+ bytes\n",
            "None\n"
          ]
        },
        {
          "data": {
            "text/html": [
              "<div>\n",
              "<style scoped>\n",
              "    .dataframe tbody tr th:only-of-type {\n",
              "        vertical-align: middle;\n",
              "    }\n",
              "\n",
              "    .dataframe tbody tr th {\n",
              "        vertical-align: top;\n",
              "    }\n",
              "\n",
              "    .dataframe thead th {\n",
              "        text-align: right;\n",
              "    }\n",
              "</style>\n",
              "<table border=\"1\" class=\"dataframe\">\n",
              "  <thead>\n",
              "    <tr style=\"text-align: right;\">\n",
              "      <th></th>\n",
              "      <th>subscription_type</th>\n",
              "      <th>minute_price</th>\n",
              "      <th>start_ride_price</th>\n",
              "      <th>subscription_fee</th>\n",
              "    </tr>\n",
              "  </thead>\n",
              "  <tbody>\n",
              "    <tr>\n",
              "      <th>0</th>\n",
              "      <td>free</td>\n",
              "      <td>8</td>\n",
              "      <td>50</td>\n",
              "      <td>0</td>\n",
              "    </tr>\n",
              "    <tr>\n",
              "      <th>1</th>\n",
              "      <td>ultra</td>\n",
              "      <td>6</td>\n",
              "      <td>0</td>\n",
              "      <td>199</td>\n",
              "    </tr>\n",
              "  </tbody>\n",
              "</table>\n",
              "</div>"
            ],
            "text/plain": [
              "  subscription_type  minute_price  start_ride_price  subscription_fee\n",
              "0              free             8                50                 0\n",
              "1             ultra             6                 0               199"
            ]
          },
          "metadata": {},
          "output_type": "display_data"
        }
      ],
      "source": [
        "dataset_info(df_subs)"
      ]
    },
    {
      "cell_type": "markdown",
      "id": "4e2a6c65",
      "metadata": {
        "id": "4e2a6c65"
      },
      "source": [
        "**Промежуточный вывод**\n",
        "\n",
        "Все датафреймы загрузились без ошибок. В данных отсутствуют пропуски.\n",
        "\n",
        "Замечено: в датафрейме \"Поездки\" поле 'date' имеет тип 'object'"
      ]
    },
    {
      "cell_type": "markdown",
      "id": "e95ebca7",
      "metadata": {
        "id": "e95ebca7"
      },
      "source": [
        "# Шаг 2. Предобработка данных"
      ]
    },
    {
      "cell_type": "markdown",
      "id": "LhPcBEIIRvwL",
      "metadata": {
        "id": "LhPcBEIIRvwL"
      },
      "source": [
        "### \"Пользователи\"\n",
        "\n",
        "*   user_id\t- уникальный идентификатор пользователя\n",
        "*   name -\tимя пользователя\n",
        "*   age -\tвозраст\n",
        "*   city -\tгород\n",
        "*   subscription_type -\tтип подписки (free, ultra)"
      ]
    },
    {
      "cell_type": "code",
      "execution_count": null,
      "id": "qlFJkRQlh1wm",
      "metadata": {
        "colab": {
          "base_uri": "https://localhost:8080/"
        },
        "id": "qlFJkRQlh1wm",
        "outputId": "c5020048-3036-4734-d83b-96d23fa69946"
      },
      "outputs": [
        {
          "name": "stdout",
          "output_type": "stream",
          "text": [
            "Количество явных дубликатов в датасете: 31\n",
            "Количество пропусков в датасете:\n",
            "user_id              0\n",
            "name                 0\n",
            "age                  0\n",
            "city                 0\n",
            "subscription_type    0\n",
            "dtype: int64\n"
          ]
        }
      ],
      "source": [
        "# проверка на дубликаты и пропуски\n",
        "dataset_isdub_isnull(df_users)"
      ]
    },
    {
      "cell_type": "code",
      "execution_count": null,
      "id": "PKtoDQAJkX21",
      "metadata": {
        "colab": {
          "base_uri": "https://localhost:8080/"
        },
        "id": "PKtoDQAJkX21",
        "outputId": "c8c8a3a8-8d9f-403e-a39f-27d47a90d878"
      },
      "outputs": [
        {
          "name": "stdout",
          "output_type": "stream",
          "text": [
            "Количество явных дубликатов в датасете: 0\n"
          ]
        }
      ],
      "source": [
        "# удалим дубликаты\n",
        "df_users = df_users.drop_duplicates()\n",
        "print('Количество явных дубликатов в датасете:', df_users.duplicated().sum())"
      ]
    },
    {
      "cell_type": "code",
      "execution_count": null,
      "id": "b1e6QJVCWIuu",
      "metadata": {
        "colab": {
          "base_uri": "https://localhost:8080/"
        },
        "id": "b1e6QJVCWIuu",
        "outputId": "5989c63d-8ef8-4878-abd0-d08d5c379c17"
      },
      "outputs": [
        {
          "name": "stdout",
          "output_type": "stream",
          "text": [
            "Список уникальных наименований населенных пунктов: 8\n",
            "Пятигорск         219\n",
            "Екатеринбург      204\n",
            "Ростов-на-Дону    198\n",
            "Краснодар         193\n",
            "Сочи              189\n",
            "Омск              183\n",
            "Тюмень            180\n",
            "Москва            168\n",
            "Name: city, dtype: int64\n"
          ]
        }
      ],
      "source": [
        "# оценим записи в 'city'\n",
        "print('Список уникальных наименований населенных пунктов:', len(df_users['city'].unique()))\n",
        "print(df_users['city'].value_counts())"
      ]
    },
    {
      "cell_type": "markdown",
      "id": "fSbI0qBXdCl_",
      "metadata": {
        "id": "fSbI0qBXdCl_"
      },
      "source": [
        "По-хорошему, населенные пункты следовало бы тоже выделить в отдельную таблицу.\n",
        "Оставим пока как есть"
      ]
    },
    {
      "cell_type": "markdown",
      "id": "xBtoYu57TIgf",
      "metadata": {
        "id": "xBtoYu57TIgf"
      },
      "source": [
        "### \"Поездки\"\n",
        "\n",
        "*   user_id\t- уникальный идентификатор пользователя\n",
        "*   distance - расстояние, которое пользователь проехал в текущей сессии (в метрах)\n",
        "*   duration -\tпродолжительность сессии (в минутах) — время с того момента, как пользователь нажал кнопку «Начать поездку» до момента, как он нажал кнопку «Завершить поездку»\n",
        "*   date - дата совершения поездки"
      ]
    },
    {
      "cell_type": "code",
      "execution_count": null,
      "id": "SoypFrLgjPOx",
      "metadata": {
        "colab": {
          "base_uri": "https://localhost:8080/"
        },
        "id": "SoypFrLgjPOx",
        "outputId": "554cf135-9253-4e03-d333-103682f09c17"
      },
      "outputs": [
        {
          "name": "stdout",
          "output_type": "stream",
          "text": [
            "Количество явных дубликатов в датасете: 0\n",
            "Количество пропусков в датасете:\n",
            "user_id     0\n",
            "distance    0\n",
            "duration    0\n",
            "date        0\n",
            "dtype: int64\n"
          ]
        }
      ],
      "source": [
        "# проверка на дубликаты и пропуски\n",
        "dataset_isdub_isnull(df_rides)"
      ]
    },
    {
      "cell_type": "code",
      "execution_count": null,
      "id": "XCOKMDfJUMSR",
      "metadata": {
        "colab": {
          "base_uri": "https://localhost:8080/",
          "height": 206
        },
        "id": "XCOKMDfJUMSR",
        "outputId": "ca5b01e4-2976-48e3-8f36-08dc76b66e41"
      },
      "outputs": [
        {
          "data": {
            "text/html": [
              "<div>\n",
              "<style scoped>\n",
              "    .dataframe tbody tr th:only-of-type {\n",
              "        vertical-align: middle;\n",
              "    }\n",
              "\n",
              "    .dataframe tbody tr th {\n",
              "        vertical-align: top;\n",
              "    }\n",
              "\n",
              "    .dataframe thead th {\n",
              "        text-align: right;\n",
              "    }\n",
              "</style>\n",
              "<table border=\"1\" class=\"dataframe\">\n",
              "  <thead>\n",
              "    <tr style=\"text-align: right;\">\n",
              "      <th></th>\n",
              "      <th>user_id</th>\n",
              "      <th>distance</th>\n",
              "      <th>duration</th>\n",
              "      <th>date</th>\n",
              "      <th>month</th>\n",
              "    </tr>\n",
              "  </thead>\n",
              "  <tbody>\n",
              "    <tr>\n",
              "      <th>0</th>\n",
              "      <td>1</td>\n",
              "      <td>4409.919140</td>\n",
              "      <td>25.599769</td>\n",
              "      <td>2021-01-01</td>\n",
              "      <td>1</td>\n",
              "    </tr>\n",
              "    <tr>\n",
              "      <th>1</th>\n",
              "      <td>1</td>\n",
              "      <td>2617.592153</td>\n",
              "      <td>15.816871</td>\n",
              "      <td>2021-01-18</td>\n",
              "      <td>1</td>\n",
              "    </tr>\n",
              "    <tr>\n",
              "      <th>2</th>\n",
              "      <td>1</td>\n",
              "      <td>754.159807</td>\n",
              "      <td>6.232113</td>\n",
              "      <td>2021-04-20</td>\n",
              "      <td>4</td>\n",
              "    </tr>\n",
              "    <tr>\n",
              "      <th>3</th>\n",
              "      <td>1</td>\n",
              "      <td>2694.783254</td>\n",
              "      <td>18.511000</td>\n",
              "      <td>2021-08-11</td>\n",
              "      <td>8</td>\n",
              "    </tr>\n",
              "    <tr>\n",
              "      <th>4</th>\n",
              "      <td>1</td>\n",
              "      <td>4028.687306</td>\n",
              "      <td>26.265803</td>\n",
              "      <td>2021-08-28</td>\n",
              "      <td>8</td>\n",
              "    </tr>\n",
              "  </tbody>\n",
              "</table>\n",
              "</div>"
            ],
            "text/plain": [
              "   user_id     distance   duration       date  month\n",
              "0        1  4409.919140  25.599769 2021-01-01      1\n",
              "1        1  2617.592153  15.816871 2021-01-18      1\n",
              "2        1   754.159807   6.232113 2021-04-20      4\n",
              "3        1  2694.783254  18.511000 2021-08-11      8\n",
              "4        1  4028.687306  26.265803 2021-08-28      8"
            ]
          },
          "execution_count": 13,
          "metadata": {},
          "output_type": "execute_result"
        }
      ],
      "source": [
        "# изменим тип в 'date' на datetime\n",
        "df_rides.date = pd.to_datetime(df_rides.date, format='%Y-%m-%d')\n",
        "\n",
        "# cоздадим новый столбец с номером месяца на основе столбца date\n",
        "df_rides['month'] = df_rides.date.dt.month\n",
        "df_rides.head()"
      ]
    },
    {
      "cell_type": "code",
      "execution_count": null,
      "id": "ed62fc45",
      "metadata": {
        "id": "ed62fc45",
        "outputId": "8cf0c59a-ec42-47f9-efd2-c648fab7bb9c"
      },
      "outputs": [
        {
          "name": "stdout",
          "output_type": "stream",
          "text": [
            "Период дат из датафрейма: c 2021-01-01 00:00:00 по 2021-12-30 00:00:00\n"
          ]
        }
      ],
      "source": [
        "print('Период дат из датафрейма: c', df_rides.date.min(),'по', df_rides.date.max())\n"
      ]
    },
    {
      "cell_type": "markdown",
      "id": "l0tFCttiTbvT",
      "metadata": {
        "id": "l0tFCttiTbvT"
      },
      "source": [
        "### \"Подписки\"\n",
        "\n",
        "*   subscription_type - тип подписки\n",
        "*   minute_price - стоимость одной минуты поездки по данной подписке\n",
        "*   start_ride_price - стоимость начала поездки\n",
        "*   subscription_fee - стоимость ежемесячного платежа"
      ]
    },
    {
      "cell_type": "code",
      "execution_count": null,
      "id": "OIPuDcz4XFGa",
      "metadata": {
        "colab": {
          "base_uri": "https://localhost:8080/"
        },
        "id": "OIPuDcz4XFGa",
        "outputId": "ba67b0e4-f980-49da-c7d0-dfc87e9029bf"
      },
      "outputs": [
        {
          "name": "stdout",
          "output_type": "stream",
          "text": [
            "Список подписок: 2\n",
            "free     835\n",
            "ultra    699\n",
            "Name: subscription_type, dtype: int64\n"
          ]
        }
      ],
      "source": [
        "# оценим записи в 'subscription_type'\n",
        "print('Список подписок:', len(df_users['subscription_type'].unique()))\n",
        "print(df_users['subscription_type'].value_counts())"
      ]
    },
    {
      "cell_type": "markdown",
      "id": "sgNm_sqzlGeY",
      "metadata": {
        "id": "sgNm_sqzlGeY"
      },
      "source": [
        "В таблице всего две строки. дубликатов и пропусков в ней нет"
      ]
    },
    {
      "cell_type": "markdown",
      "id": "9ccbedba",
      "metadata": {
        "id": "9ccbedba"
      },
      "source": [
        "**Промежуточный вывод**\n",
        "\n",
        "Провели предобработку данных.\n",
        "* обнаружили и удалили дубликаты в датафрейме \"Пользователи\"\n",
        "* изменили тип в 'date' на datetime\n",
        "* cоздали новый столбец с номером месяца на основе столбца date"
      ]
    },
    {
      "cell_type": "markdown",
      "id": "212593c7",
      "metadata": {
        "id": "212593c7"
      },
      "source": [
        "# Шаг 3. Исследовательский анализ данных"
      ]
    },
    {
      "cell_type": "markdown",
      "id": "MACkgeqXoX9m",
      "metadata": {
        "id": "MACkgeqXoX9m"
      },
      "source": [
        "### 3.1 Частота встречаемости городов"
      ]
    },
    {
      "cell_type": "code",
      "execution_count": null,
      "id": "dHV1q3Ehg2bc",
      "metadata": {
        "colab": {
          "base_uri": "https://localhost:8080/",
          "height": 648
        },
        "id": "dHV1q3Ehg2bc",
        "outputId": "8f7f2637-23bc-4bd6-f4e2-37e5ab5f3e31"
      },
      "outputs": [
        {
          "data": {
            "image/png": "[encoded data removed]",
            "text/plain": [
              "<Figure size 432x216 with 1 Axes>"
            ]
          },
          "metadata": {
            "needs_background": "light"
          },
          "output_type": "display_data"
        },
        {
          "data": {
            "text/html": [
              "<div>\n",
              "<style scoped>\n",
              "    .dataframe tbody tr th:only-of-type {\n",
              "        vertical-align: middle;\n",
              "    }\n",
              "\n",
              "    .dataframe tbody tr th {\n",
              "        vertical-align: top;\n",
              "    }\n",
              "\n",
              "    .dataframe thead th {\n",
              "        text-align: right;\n",
              "    }\n",
              "</style>\n",
              "<table border=\"1\" class=\"dataframe\">\n",
              "  <thead>\n",
              "    <tr style=\"text-align: right;\">\n",
              "      <th></th>\n",
              "      <th>user_id</th>\n",
              "    </tr>\n",
              "    <tr>\n",
              "      <th>city</th>\n",
              "      <th></th>\n",
              "    </tr>\n",
              "  </thead>\n",
              "  <tbody>\n",
              "    <tr>\n",
              "      <th>Пятигорск</th>\n",
              "      <td>219</td>\n",
              "    </tr>\n",
              "    <tr>\n",
              "      <th>Екатеринбург</th>\n",
              "      <td>204</td>\n",
              "    </tr>\n",
              "    <tr>\n",
              "      <th>Ростов-на-Дону</th>\n",
              "      <td>198</td>\n",
              "    </tr>\n",
              "    <tr>\n",
              "      <th>Краснодар</th>\n",
              "      <td>193</td>\n",
              "    </tr>\n",
              "    <tr>\n",
              "      <th>Сочи</th>\n",
              "      <td>189</td>\n",
              "    </tr>\n",
              "    <tr>\n",
              "      <th>Омск</th>\n",
              "      <td>183</td>\n",
              "    </tr>\n",
              "    <tr>\n",
              "      <th>Тюмень</th>\n",
              "      <td>180</td>\n",
              "    </tr>\n",
              "    <tr>\n",
              "      <th>Москва</th>\n",
              "      <td>168</td>\n",
              "    </tr>\n",
              "  </tbody>\n",
              "</table>\n",
              "</div>"
            ],
            "text/plain": [
              "                user_id\n",
              "city                   \n",
              "Пятигорск           219\n",
              "Екатеринбург        204\n",
              "Ростов-на-Дону      198\n",
              "Краснодар           193\n",
              "Сочи                189\n",
              "Омск                183\n",
              "Тюмень              180\n",
              "Москва              168"
            ]
          },
          "metadata": {},
          "output_type": "display_data"
        }
      ],
      "source": [
        "df_users_city = df_users.pivot_table(index = 'city', values = 'user_id', aggfunc = 'count')\n",
        "df_users_city = df_users_city.sort_values(by='user_id', ascending = True)\n",
        "df_users_city.plot( kind='barh', figsize = (6,3), grid = True )\n",
        "plt.title('Частота встречаемости городов')\n",
        "plt.xlabel('Количество пользователей')\n",
        "plt.ylabel('Города')\n",
        "plt.legend(loc='lower left')\n",
        "plt.show()\n",
        "display(df_users_city.sort_values(by='user_id', ascending = False))"
      ]
    },
    {
      "cell_type": "markdown",
      "id": "5e3b37ae",
      "metadata": {
        "id": "5e3b37ae"
      },
      "source": [
        "**Вывод**\n",
        "\n",
        "* датафреймы содержат данные о пользователях из 8-ми городов\n",
        "* больше всего пользователей из Пятигорска, меньше всего из Москвы"
      ]
    },
    {
      "cell_type": "markdown",
      "id": "ih6xAIqtoiBQ",
      "metadata": {
        "id": "ih6xAIqtoiBQ"
      },
      "source": [
        "### 3.2 Соотношение пользователей с подпиской и без"
      ]
    },
    {
      "cell_type": "code",
      "execution_count": null,
      "id": "3F0paOlUqb4U",
      "metadata": {
        "colab": {
          "base_uri": "https://localhost:8080/",
          "height": 351
        },
        "id": "3F0paOlUqb4U",
        "outputId": "51ed38c7-c07b-4818-e6c1-815f455b47bb"
      },
      "outputs": [
        {
          "data": {
            "image/png": "[encoded data removed]",
            "text/plain": [
              "<Figure size 432x144 with 1 Axes>"
            ]
          },
          "metadata": {
            "needs_background": "light"
          },
          "output_type": "display_data"
        },
        {
          "data": {
            "text/html": [
              "<div>\n",
              "<style scoped>\n",
              "    .dataframe tbody tr th:only-of-type {\n",
              "        vertical-align: middle;\n",
              "    }\n",
              "\n",
              "    .dataframe tbody tr th {\n",
              "        vertical-align: top;\n",
              "    }\n",
              "\n",
              "    .dataframe thead th {\n",
              "        text-align: right;\n",
              "    }\n",
              "</style>\n",
              "<table border=\"1\" class=\"dataframe\">\n",
              "  <thead>\n",
              "    <tr style=\"text-align: right;\">\n",
              "      <th></th>\n",
              "      <th>subscription_type</th>\n",
              "      <th>user_id</th>\n",
              "    </tr>\n",
              "  </thead>\n",
              "  <tbody>\n",
              "    <tr>\n",
              "      <th>0</th>\n",
              "      <td>free</td>\n",
              "      <td>835</td>\n",
              "    </tr>\n",
              "    <tr>\n",
              "      <th>1</th>\n",
              "      <td>ultra</td>\n",
              "      <td>699</td>\n",
              "    </tr>\n",
              "  </tbody>\n",
              "</table>\n",
              "</div>"
            ],
            "text/plain": [
              "  subscription_type  user_id\n",
              "0              free      835\n",
              "1             ultra      699"
            ]
          },
          "metadata": {},
          "output_type": "display_data"
        }
      ],
      "source": [
        "df_users_subs = df_users.pivot_table(index = 'subscription_type', values = 'user_id', aggfunc = 'count').reset_index()\n",
        "df_users_subs.plot(x = 'subscription_type', kind='barh', figsize = (6,2), grid = True )\n",
        "plt.title('Соотношение пользователей с типом подписки')\n",
        "plt.xlabel('Количество пользователей')\n",
        "plt.ylabel('Тип подписки')\n",
        "plt.show()\n",
        "display(df_users_subs)"
      ]
    },
    {
      "cell_type": "markdown",
      "id": "-FYE2vAqC9cz",
      "metadata": {
        "id": "-FYE2vAqC9cz"
      },
      "source": [
        "Пользователей без подписки больше чем больше чем пользователей с подпиской Ultra"
      ]
    },
    {
      "cell_type": "markdown",
      "id": "ZFCQNh2PosdK",
      "metadata": {
        "id": "ZFCQNh2PosdK"
      },
      "source": [
        "### 3.3 Возраст пользователей"
      ]
    },
    {
      "cell_type": "code",
      "execution_count": null,
      "id": "kEUH324d_gMW",
      "metadata": {
        "colab": {
          "base_uri": "https://localhost:8080/",
          "height": 489
        },
        "id": "kEUH324d_gMW",
        "outputId": "7e354d8d-0e74-43cd-fda2-7599f4b6d718"
      },
      "outputs": [
        {
          "data": {
            "image/png": "[encoded data removed]",
            "text/plain": [
              "<Figure size 504x216 with 1 Axes>"
            ]
          },
          "metadata": {
            "needs_background": "light"
          },
          "output_type": "display_data"
        },
        {
          "data": {
            "text/plain": [
              "count    1534.000000\n",
              "mean       24.903520\n",
              "std         4.572367\n",
              "min        12.000000\n",
              "25%        22.000000\n",
              "50%        25.000000\n",
              "75%        28.000000\n",
              "max        43.000000\n",
              "Name: age, dtype: float64"
            ]
          },
          "execution_count": 18,
          "metadata": {},
          "output_type": "execute_result"
        }
      ],
      "source": [
        "df_users['age'].plot(kind = 'hist', grid=True, figsize = (7,3), bins = 30)\n",
        "plt.title('Возраст пользователей')\n",
        "plt.xlabel('возраст')\n",
        "plt.ylabel('количество пользователей')\n",
        "plt.show()\n",
        "df_users['age'].describe()"
      ]
    },
    {
      "cell_type": "markdown",
      "id": "uXKp6r-OBCG0",
      "metadata": {
        "id": "uXKp6r-OBCG0"
      },
      "source": [
        "Выборка имеет нормальное распределение. Медиана и средний возраст почти совпадают: 25 и 24.9 лет соответственно."
      ]
    },
    {
      "cell_type": "markdown",
      "id": "CU0oAiiro4rY",
      "metadata": {
        "id": "CU0oAiiro4rY"
      },
      "source": [
        "### 3.4 Расстояние, которое пользователь преодолел за одну поездку"
      ]
    },
    {
      "cell_type": "code",
      "execution_count": null,
      "id": "fs7HKtCHENqd",
      "metadata": {
        "colab": {
          "base_uri": "https://localhost:8080/",
          "height": 489
        },
        "id": "fs7HKtCHENqd",
        "outputId": "689aed0f-b4cd-416d-f19a-0c41b2b3d1b5"
      },
      "outputs": [
        {
          "data": {
            "image/png": "[encoded data removed]",
            "text/plain": [
              "<Figure size 504x216 with 1 Axes>"
            ]
          },
          "metadata": {
            "needs_background": "light"
          },
          "output_type": "display_data"
        },
        {
          "data": {
            "text/plain": [
              "count    18068.000000\n",
              "mean      3070.659976\n",
              "std       1116.831209\n",
              "min          0.855683\n",
              "25%       2543.226360\n",
              "50%       3133.609994\n",
              "75%       3776.222735\n",
              "max       7211.007745\n",
              "Name: distance, dtype: float64"
            ]
          },
          "execution_count": 19,
          "metadata": {},
          "output_type": "execute_result"
        }
      ],
      "source": [
        "df_rides['distance'].plot(kind = 'hist', grid=True, figsize = (7,3), bins = 30)\n",
        "plt.title('Расстояние одной поездки')\n",
        "plt.xlabel('расстояние, м')\n",
        "plt.ylabel('количество пользователей')\n",
        "plt.show()\n",
        "df_rides['distance'].describe()"
      ]
    },
    {
      "cell_type": "markdown",
      "id": "O6w7tueNFFhN",
      "metadata": {
        "id": "O6w7tueNFFhN"
      },
      "source": [
        "Среднее расстояние большинства поездок чуль больше 3-х километров. Есть небольшой всплеск около поездок на 600м, можно предположить что эти поезки совершали пользователи, что бы добраться до станций метро или других остановок общественно транспорта."
      ]
    },
    {
      "cell_type": "markdown",
      "id": "S_XqBBTqpDzp",
      "metadata": {
        "id": "S_XqBBTqpDzp"
      },
      "source": [
        "### 3.5 Продолжительность поездок"
      ]
    },
    {
      "cell_type": "code",
      "execution_count": null,
      "id": "ZfJwteLqGaF3",
      "metadata": {
        "colab": {
          "base_uri": "https://localhost:8080/",
          "height": 489
        },
        "id": "ZfJwteLqGaF3",
        "outputId": "855163bd-b2cf-4a8e-829d-89f1ba2dc0b4"
      },
      "outputs": [
        {
          "data": {
            "image/png": "[encoded data removed]",
            "text/plain": [
              "<Figure size 504x216 with 1 Axes>"
            ]
          },
          "metadata": {
            "needs_background": "light"
          },
          "output_type": "display_data"
        },
        {
          "data": {
            "text/plain": [
              "count    18068.000000\n",
              "mean        17.805011\n",
              "std          6.091051\n",
              "min          0.500000\n",
              "25%         13.597563\n",
              "50%         17.678395\n",
              "75%         21.724800\n",
              "max         40.823963\n",
              "Name: duration, dtype: float64"
            ]
          },
          "execution_count": 20,
          "metadata": {},
          "output_type": "execute_result"
        }
      ],
      "source": [
        "df_rides['duration'].plot(kind = 'hist', grid=True, figsize = (7,3), bins = 30)\n",
        "plt.title('Продолжительность одной поездки')\n",
        "plt.xlabel('время, мин')\n",
        "plt.ylabel('количество пользователей')\n",
        "plt.show()\n",
        "df_rides['duration'].describe()"
      ]
    },
    {
      "cell_type": "markdown",
      "id": "YxJaKsdDGqVJ",
      "metadata": {
        "id": "YxJaKsdDGqVJ"
      },
      "source": [
        "Выборка также похожа на распределение Гаусса. Среднее время поездки 17.7 мин"
      ]
    },
    {
      "cell_type": "markdown",
      "id": "4ef51331",
      "metadata": {
        "id": "4ef51331"
      },
      "source": [
        "# Шаг 4. Объединение данных"
      ]
    },
    {
      "cell_type": "markdown",
      "id": "w2bi0MKcIVIh",
      "metadata": {
        "id": "w2bi0MKcIVIh"
      },
      "source": [
        "#### 4.1 Объединим данные о пользователях, поездках и подписках в один датафрейм."
      ]
    },
    {
      "cell_type": "code",
      "execution_count": null,
      "id": "6bf288b5",
      "metadata": {
        "colab": {
          "base_uri": "https://localhost:8080/",
          "height": 424
        },
        "id": "6bf288b5",
        "outputId": "133671a0-c14e-4e71-a841-aa3dd1b3bebb"
      },
      "outputs": [
        {
          "data": {
            "text/html": [
              "<div>\n",
              "<style scoped>\n",
              "    .dataframe tbody tr th:only-of-type {\n",
              "        vertical-align: middle;\n",
              "    }\n",
              "\n",
              "    .dataframe tbody tr th {\n",
              "        vertical-align: top;\n",
              "    }\n",
              "\n",
              "    .dataframe thead th {\n",
              "        text-align: right;\n",
              "    }\n",
              "</style>\n",
              "<table border=\"1\" class=\"dataframe\">\n",
              "  <thead>\n",
              "    <tr style=\"text-align: right;\">\n",
              "      <th></th>\n",
              "      <th>user_id</th>\n",
              "      <th>distance</th>\n",
              "      <th>duration</th>\n",
              "      <th>date</th>\n",
              "      <th>month</th>\n",
              "      <th>name</th>\n",
              "      <th>age</th>\n",
              "      <th>city</th>\n",
              "      <th>subscription_type</th>\n",
              "      <th>minute_price</th>\n",
              "      <th>start_ride_price</th>\n",
              "      <th>subscription_fee</th>\n",
              "    </tr>\n",
              "  </thead>\n",
              "  <tbody>\n",
              "    <tr>\n",
              "      <th>0</th>\n",
              "      <td>1</td>\n",
              "      <td>4409.919140</td>\n",
              "      <td>25.599769</td>\n",
              "      <td>2021-01-01</td>\n",
              "      <td>1</td>\n",
              "      <td>Кира</td>\n",
              "      <td>22</td>\n",
              "      <td>Тюмень</td>\n",
              "      <td>ultra</td>\n",
              "      <td>6</td>\n",
              "      <td>0</td>\n",
              "      <td>199</td>\n",
              "    </tr>\n",
              "    <tr>\n",
              "      <th>1</th>\n",
              "      <td>1</td>\n",
              "      <td>2617.592153</td>\n",
              "      <td>15.816871</td>\n",
              "      <td>2021-01-18</td>\n",
              "      <td>1</td>\n",
              "      <td>Кира</td>\n",
              "      <td>22</td>\n",
              "      <td>Тюмень</td>\n",
              "      <td>ultra</td>\n",
              "      <td>6</td>\n",
              "      <td>0</td>\n",
              "      <td>199</td>\n",
              "    </tr>\n",
              "    <tr>\n",
              "      <th>2</th>\n",
              "      <td>1</td>\n",
              "      <td>754.159807</td>\n",
              "      <td>6.232113</td>\n",
              "      <td>2021-04-20</td>\n",
              "      <td>4</td>\n",
              "      <td>Кира</td>\n",
              "      <td>22</td>\n",
              "      <td>Тюмень</td>\n",
              "      <td>ultra</td>\n",
              "      <td>6</td>\n",
              "      <td>0</td>\n",
              "      <td>199</td>\n",
              "    </tr>\n",
              "    <tr>\n",
              "      <th>3</th>\n",
              "      <td>1</td>\n",
              "      <td>2694.783254</td>\n",
              "      <td>18.511000</td>\n",
              "      <td>2021-08-11</td>\n",
              "      <td>8</td>\n",
              "      <td>Кира</td>\n",
              "      <td>22</td>\n",
              "      <td>Тюмень</td>\n",
              "      <td>ultra</td>\n",
              "      <td>6</td>\n",
              "      <td>0</td>\n",
              "      <td>199</td>\n",
              "    </tr>\n",
              "    <tr>\n",
              "      <th>4</th>\n",
              "      <td>1</td>\n",
              "      <td>4028.687306</td>\n",
              "      <td>26.265803</td>\n",
              "      <td>2021-08-28</td>\n",
              "      <td>8</td>\n",
              "      <td>Кира</td>\n",
              "      <td>22</td>\n",
              "      <td>Тюмень</td>\n",
              "      <td>ultra</td>\n",
              "      <td>6</td>\n",
              "      <td>0</td>\n",
              "      <td>199</td>\n",
              "    </tr>\n",
              "    <tr>\n",
              "      <th>...</th>\n",
              "      <td>...</td>\n",
              "      <td>...</td>\n",
              "      <td>...</td>\n",
              "      <td>...</td>\n",
              "      <td>...</td>\n",
              "      <td>...</td>\n",
              "      <td>...</td>\n",
              "      <td>...</td>\n",
              "      <td>...</td>\n",
              "      <td>...</td>\n",
              "      <td>...</td>\n",
              "      <td>...</td>\n",
              "    </tr>\n",
              "    <tr>\n",
              "      <th>18063</th>\n",
              "      <td>1534</td>\n",
              "      <td>3781.098080</td>\n",
              "      <td>19.822962</td>\n",
              "      <td>2021-11-04</td>\n",
              "      <td>11</td>\n",
              "      <td>Альберт</td>\n",
              "      <td>25</td>\n",
              "      <td>Краснодар</td>\n",
              "      <td>free</td>\n",
              "      <td>8</td>\n",
              "      <td>50</td>\n",
              "      <td>0</td>\n",
              "    </tr>\n",
              "    <tr>\n",
              "      <th>18064</th>\n",
              "      <td>1534</td>\n",
              "      <td>2840.423057</td>\n",
              "      <td>21.409799</td>\n",
              "      <td>2021-11-16</td>\n",
              "      <td>11</td>\n",
              "      <td>Альберт</td>\n",
              "      <td>25</td>\n",
              "      <td>Краснодар</td>\n",
              "      <td>free</td>\n",
              "      <td>8</td>\n",
              "      <td>50</td>\n",
              "      <td>0</td>\n",
              "    </tr>\n",
              "    <tr>\n",
              "      <th>18065</th>\n",
              "      <td>1534</td>\n",
              "      <td>3826.185507</td>\n",
              "      <td>18.435051</td>\n",
              "      <td>2021-11-18</td>\n",
              "      <td>11</td>\n",
              "      <td>Альберт</td>\n",
              "      <td>25</td>\n",
              "      <td>Краснодар</td>\n",
              "      <td>free</td>\n",
              "      <td>8</td>\n",
              "      <td>50</td>\n",
              "      <td>0</td>\n",
              "    </tr>\n",
              "    <tr>\n",
              "      <th>18066</th>\n",
              "      <td>1534</td>\n",
              "      <td>2902.308661</td>\n",
              "      <td>16.674362</td>\n",
              "      <td>2021-11-27</td>\n",
              "      <td>11</td>\n",
              "      <td>Альберт</td>\n",
              "      <td>25</td>\n",
              "      <td>Краснодар</td>\n",
              "      <td>free</td>\n",
              "      <td>8</td>\n",
              "      <td>50</td>\n",
              "      <td>0</td>\n",
              "    </tr>\n",
              "    <tr>\n",
              "      <th>18067</th>\n",
              "      <td>1534</td>\n",
              "      <td>2371.711192</td>\n",
              "      <td>15.893917</td>\n",
              "      <td>2021-12-29</td>\n",
              "      <td>12</td>\n",
              "      <td>Альберт</td>\n",
              "      <td>25</td>\n",
              "      <td>Краснодар</td>\n",
              "      <td>free</td>\n",
              "      <td>8</td>\n",
              "      <td>50</td>\n",
              "      <td>0</td>\n",
              "    </tr>\n",
              "  </tbody>\n",
              "</table>\n",
              "<p>18068 rows × 12 columns</p>\n",
              "</div>"
            ],
            "text/plain": [
              "       user_id     distance   duration       date  month     name  age  \\\n",
              "0            1  4409.919140  25.599769 2021-01-01      1     Кира   22   \n",
              "1            1  2617.592153  15.816871 2021-01-18      1     Кира   22   \n",
              "2            1   754.159807   6.232113 2021-04-20      4     Кира   22   \n",
              "3            1  2694.783254  18.511000 2021-08-11      8     Кира   22   \n",
              "4            1  4028.687306  26.265803 2021-08-28      8     Кира   22   \n",
              "...        ...          ...        ...        ...    ...      ...  ...   \n",
              "18063     1534  3781.098080  19.822962 2021-11-04     11  Альберт   25   \n",
              "18064     1534  2840.423057  21.409799 2021-11-16     11  Альберт   25   \n",
              "18065     1534  3826.185507  18.435051 2021-11-18     11  Альберт   25   \n",
              "18066     1534  2902.308661  16.674362 2021-11-27     11  Альберт   25   \n",
              "18067     1534  2371.711192  15.893917 2021-12-29     12  Альберт   25   \n",
              "\n",
              "            city subscription_type  minute_price  start_ride_price  \\\n",
              "0         Тюмень             ultra             6                 0   \n",
              "1         Тюмень             ultra             6                 0   \n",
              "2         Тюмень             ultra             6                 0   \n",
              "3         Тюмень             ultra             6                 0   \n",
              "4         Тюмень             ultra             6                 0   \n",
              "...          ...               ...           ...               ...   \n",
              "18063  Краснодар              free             8                50   \n",
              "18064  Краснодар              free             8                50   \n",
              "18065  Краснодар              free             8                50   \n",
              "18066  Краснодар              free             8                50   \n",
              "18067  Краснодар              free             8                50   \n",
              "\n",
              "       subscription_fee  \n",
              "0                   199  \n",
              "1                   199  \n",
              "2                   199  \n",
              "3                   199  \n",
              "4                   199  \n",
              "...                 ...  \n",
              "18063                 0  \n",
              "18064                 0  \n",
              "18065                 0  \n",
              "18066                 0  \n",
              "18067                 0  \n",
              "\n",
              "[18068 rows x 12 columns]"
            ]
          },
          "metadata": {},
          "output_type": "display_data"
        }
      ],
      "source": [
        "df_mrg = df_rides.copy()\n",
        "df_mrg = df_mrg.merge(df_users, how = 'left', on = 'user_id' )\n",
        "df_mrg = df_mrg.merge(df_subs, how = 'left', on='subscription_type')\n",
        "display(df_mrg)"
      ]
    },
    {
      "cell_type": "markdown",
      "id": "n5SNLuVOeKI-",
      "metadata": {
        "id": "n5SNLuVOeKI-"
      },
      "source": [
        "#### 4.2 Создадим датафреймы из df_mrg, созданного на этапе 4.1:\n",
        "*   c данными о пользователях без подписки\n",
        "*   с данными о пользователях с подпиской."
      ]
    },
    {
      "cell_type": "code",
      "execution_count": null,
      "id": "qIb3lFIrfZmC",
      "metadata": {
        "colab": {
          "base_uri": "https://localhost:8080/",
          "height": 224
        },
        "id": "qIb3lFIrfZmC",
        "outputId": "1f34fea3-a9ef-4fe0-8e7d-7bae0ff87c62"
      },
      "outputs": [
        {
          "data": {
            "text/html": [
              "<div>\n",
              "<style scoped>\n",
              "    .dataframe tbody tr th:only-of-type {\n",
              "        vertical-align: middle;\n",
              "    }\n",
              "\n",
              "    .dataframe tbody tr th {\n",
              "        vertical-align: top;\n",
              "    }\n",
              "\n",
              "    .dataframe thead th {\n",
              "        text-align: right;\n",
              "    }\n",
              "</style>\n",
              "<table border=\"1\" class=\"dataframe\">\n",
              "  <thead>\n",
              "    <tr style=\"text-align: right;\">\n",
              "      <th></th>\n",
              "      <th>user_id</th>\n",
              "      <th>distance</th>\n",
              "      <th>duration</th>\n",
              "      <th>date</th>\n",
              "      <th>month</th>\n",
              "      <th>name</th>\n",
              "      <th>age</th>\n",
              "      <th>city</th>\n",
              "      <th>subscription_type</th>\n",
              "      <th>minute_price</th>\n",
              "      <th>start_ride_price</th>\n",
              "      <th>subscription_fee</th>\n",
              "    </tr>\n",
              "  </thead>\n",
              "  <tbody>\n",
              "    <tr>\n",
              "      <th>6500</th>\n",
              "      <td>700</td>\n",
              "      <td>2515.690719</td>\n",
              "      <td>14.944286</td>\n",
              "      <td>2021-01-02</td>\n",
              "      <td>1</td>\n",
              "      <td>Айдар</td>\n",
              "      <td>22</td>\n",
              "      <td>Омск</td>\n",
              "      <td>free</td>\n",
              "      <td>8</td>\n",
              "      <td>50</td>\n",
              "      <td>0</td>\n",
              "    </tr>\n",
              "    <tr>\n",
              "      <th>6501</th>\n",
              "      <td>700</td>\n",
              "      <td>846.932642</td>\n",
              "      <td>16.234663</td>\n",
              "      <td>2021-02-01</td>\n",
              "      <td>2</td>\n",
              "      <td>Айдар</td>\n",
              "      <td>22</td>\n",
              "      <td>Омск</td>\n",
              "      <td>free</td>\n",
              "      <td>8</td>\n",
              "      <td>50</td>\n",
              "      <td>0</td>\n",
              "    </tr>\n",
              "    <tr>\n",
              "      <th>6502</th>\n",
              "      <td>700</td>\n",
              "      <td>4004.434142</td>\n",
              "      <td>20.016628</td>\n",
              "      <td>2021-02-04</td>\n",
              "      <td>2</td>\n",
              "      <td>Айдар</td>\n",
              "      <td>22</td>\n",
              "      <td>Омск</td>\n",
              "      <td>free</td>\n",
              "      <td>8</td>\n",
              "      <td>50</td>\n",
              "      <td>0</td>\n",
              "    </tr>\n",
              "    <tr>\n",
              "      <th>6503</th>\n",
              "      <td>700</td>\n",
              "      <td>1205.911290</td>\n",
              "      <td>9.782872</td>\n",
              "      <td>2021-02-10</td>\n",
              "      <td>2</td>\n",
              "      <td>Айдар</td>\n",
              "      <td>22</td>\n",
              "      <td>Омск</td>\n",
              "      <td>free</td>\n",
              "      <td>8</td>\n",
              "      <td>50</td>\n",
              "      <td>0</td>\n",
              "    </tr>\n",
              "    <tr>\n",
              "      <th>6504</th>\n",
              "      <td>700</td>\n",
              "      <td>3047.379435</td>\n",
              "      <td>17.427673</td>\n",
              "      <td>2021-02-14</td>\n",
              "      <td>2</td>\n",
              "      <td>Айдар</td>\n",
              "      <td>22</td>\n",
              "      <td>Омск</td>\n",
              "      <td>free</td>\n",
              "      <td>8</td>\n",
              "      <td>50</td>\n",
              "      <td>0</td>\n",
              "    </tr>\n",
              "  </tbody>\n",
              "</table>\n",
              "</div>"
            ],
            "text/plain": [
              "      user_id     distance   duration       date  month   name  age  city  \\\n",
              "6500      700  2515.690719  14.944286 2021-01-02      1  Айдар   22  Омск   \n",
              "6501      700   846.932642  16.234663 2021-02-01      2  Айдар   22  Омск   \n",
              "6502      700  4004.434142  20.016628 2021-02-04      2  Айдар   22  Омск   \n",
              "6503      700  1205.911290   9.782872 2021-02-10      2  Айдар   22  Омск   \n",
              "6504      700  3047.379435  17.427673 2021-02-14      2  Айдар   22  Омск   \n",
              "\n",
              "     subscription_type  minute_price  start_ride_price  subscription_fee  \n",
              "6500              free             8                50                 0  \n",
              "6501              free             8                50                 0  \n",
              "6502              free             8                50                 0  \n",
              "6503              free             8                50                 0  \n",
              "6504              free             8                50                 0  "
            ]
          },
          "metadata": {},
          "output_type": "display_data"
        },
        {
          "name": "stdout",
          "output_type": "stream",
          "text": [
            "Количество строк в датасете df_mrg_free: 11568\n"
          ]
        }
      ],
      "source": [
        "df_mrg_free = df_mrg[df_mrg['subscription_type'] == 'free']\n",
        "display(df_mrg_free.head())\n",
        "print('Количество строк в датасете df_mrg_free:', df_mrg_free.shape[0])"
      ]
    },
    {
      "cell_type": "code",
      "execution_count": null,
      "id": "J33SYe0wh-jh",
      "metadata": {
        "colab": {
          "base_uri": "https://localhost:8080/",
          "height": 224
        },
        "id": "J33SYe0wh-jh",
        "outputId": "939843ff-b623-4e00-c870-00fe58362942"
      },
      "outputs": [
        {
          "data": {
            "text/html": [
              "<div>\n",
              "<style scoped>\n",
              "    .dataframe tbody tr th:only-of-type {\n",
              "        vertical-align: middle;\n",
              "    }\n",
              "\n",
              "    .dataframe tbody tr th {\n",
              "        vertical-align: top;\n",
              "    }\n",
              "\n",
              "    .dataframe thead th {\n",
              "        text-align: right;\n",
              "    }\n",
              "</style>\n",
              "<table border=\"1\" class=\"dataframe\">\n",
              "  <thead>\n",
              "    <tr style=\"text-align: right;\">\n",
              "      <th></th>\n",
              "      <th>user_id</th>\n",
              "      <th>distance</th>\n",
              "      <th>duration</th>\n",
              "      <th>date</th>\n",
              "      <th>month</th>\n",
              "      <th>name</th>\n",
              "      <th>age</th>\n",
              "      <th>city</th>\n",
              "      <th>subscription_type</th>\n",
              "      <th>minute_price</th>\n",
              "      <th>start_ride_price</th>\n",
              "      <th>subscription_fee</th>\n",
              "    </tr>\n",
              "  </thead>\n",
              "  <tbody>\n",
              "    <tr>\n",
              "      <th>0</th>\n",
              "      <td>1</td>\n",
              "      <td>4409.919140</td>\n",
              "      <td>25.599769</td>\n",
              "      <td>2021-01-01</td>\n",
              "      <td>1</td>\n",
              "      <td>Кира</td>\n",
              "      <td>22</td>\n",
              "      <td>Тюмень</td>\n",
              "      <td>ultra</td>\n",
              "      <td>6</td>\n",
              "      <td>0</td>\n",
              "      <td>199</td>\n",
              "    </tr>\n",
              "    <tr>\n",
              "      <th>1</th>\n",
              "      <td>1</td>\n",
              "      <td>2617.592153</td>\n",
              "      <td>15.816871</td>\n",
              "      <td>2021-01-18</td>\n",
              "      <td>1</td>\n",
              "      <td>Кира</td>\n",
              "      <td>22</td>\n",
              "      <td>Тюмень</td>\n",
              "      <td>ultra</td>\n",
              "      <td>6</td>\n",
              "      <td>0</td>\n",
              "      <td>199</td>\n",
              "    </tr>\n",
              "    <tr>\n",
              "      <th>2</th>\n",
              "      <td>1</td>\n",
              "      <td>754.159807</td>\n",
              "      <td>6.232113</td>\n",
              "      <td>2021-04-20</td>\n",
              "      <td>4</td>\n",
              "      <td>Кира</td>\n",
              "      <td>22</td>\n",
              "      <td>Тюмень</td>\n",
              "      <td>ultra</td>\n",
              "      <td>6</td>\n",
              "      <td>0</td>\n",
              "      <td>199</td>\n",
              "    </tr>\n",
              "    <tr>\n",
              "      <th>3</th>\n",
              "      <td>1</td>\n",
              "      <td>2694.783254</td>\n",
              "      <td>18.511000</td>\n",
              "      <td>2021-08-11</td>\n",
              "      <td>8</td>\n",
              "      <td>Кира</td>\n",
              "      <td>22</td>\n",
              "      <td>Тюмень</td>\n",
              "      <td>ultra</td>\n",
              "      <td>6</td>\n",
              "      <td>0</td>\n",
              "      <td>199</td>\n",
              "    </tr>\n",
              "    <tr>\n",
              "      <th>4</th>\n",
              "      <td>1</td>\n",
              "      <td>4028.687306</td>\n",
              "      <td>26.265803</td>\n",
              "      <td>2021-08-28</td>\n",
              "      <td>8</td>\n",
              "      <td>Кира</td>\n",
              "      <td>22</td>\n",
              "      <td>Тюмень</td>\n",
              "      <td>ultra</td>\n",
              "      <td>6</td>\n",
              "      <td>0</td>\n",
              "      <td>199</td>\n",
              "    </tr>\n",
              "  </tbody>\n",
              "</table>\n",
              "</div>"
            ],
            "text/plain": [
              "   user_id     distance   duration       date  month  name  age    city  \\\n",
              "0        1  4409.919140  25.599769 2021-01-01      1  Кира   22  Тюмень   \n",
              "1        1  2617.592153  15.816871 2021-01-18      1  Кира   22  Тюмень   \n",
              "2        1   754.159807   6.232113 2021-04-20      4  Кира   22  Тюмень   \n",
              "3        1  2694.783254  18.511000 2021-08-11      8  Кира   22  Тюмень   \n",
              "4        1  4028.687306  26.265803 2021-08-28      8  Кира   22  Тюмень   \n",
              "\n",
              "  subscription_type  minute_price  start_ride_price  subscription_fee  \n",
              "0             ultra             6                 0               199  \n",
              "1             ultra             6                 0               199  \n",
              "2             ultra             6                 0               199  \n",
              "3             ultra             6                 0               199  \n",
              "4             ultra             6                 0               199  "
            ]
          },
          "metadata": {},
          "output_type": "display_data"
        },
        {
          "name": "stdout",
          "output_type": "stream",
          "text": [
            "Количество строк в датасете df_mrg_ultra: 6500\n"
          ]
        }
      ],
      "source": [
        "df_mrg_ultra = df_mrg[df_mrg['subscription_type'] == 'ultra']\n",
        "display(df_mrg_ultra.head())\n",
        "print('Количество строк в датасете df_mrg_ultra:', df_mrg_ultra.shape[0])"
      ]
    },
    {
      "cell_type": "markdown",
      "id": "DEI8Lo3kgrFw",
      "metadata": {
        "id": "DEI8Lo3kgrFw"
      },
      "source": [
        "#### 4.3 Визуализируем информацию о расстоянии и времени поездок для пользователей обеих категорий."
      ]
    },
    {
      "cell_type": "code",
      "execution_count": null,
      "id": "MlR-ZTTniWF_",
      "metadata": {
        "colab": {
          "base_uri": "https://localhost:8080/",
          "height": 333
        },
        "id": "MlR-ZTTniWF_",
        "outputId": "97909a91-2a13-42c0-f4a0-9a4f7eb41340"
      },
      "outputs": [
        {
          "data": {
            "image/png": "[encoded data removed]",
            "text/plain": [
              "<Figure size 504x216 with 1 Axes>"
            ]
          },
          "metadata": {
            "needs_background": "light"
          },
          "output_type": "display_data"
        }
      ],
      "source": [
        "ax = df_mrg_free['distance'].plot(kind = 'hist', grid=True, figsize = (7,3), bins = 30, label='без подписки')\n",
        "ax = df_mrg_ultra['distance'].plot(kind = 'hist', grid=True, figsize = (7,3), bins = 30, label='с подпиской Ultra')\n",
        "plt.title('Расстояние одной поездки для пользователей с подпиской и без')\n",
        "plt.xlabel('расстояние, м')\n",
        "plt.ylabel('количество пользователей')\n",
        "plt.legend(loc='upper right')\n",
        "plt.show()"
      ]
    },
    {
      "cell_type": "code",
      "execution_count": null,
      "id": "4-ACiKjvjvkH",
      "metadata": {
        "colab": {
          "base_uri": "https://localhost:8080/",
          "height": 333
        },
        "id": "4-ACiKjvjvkH",
        "outputId": "8c961e2f-d77b-4459-d49e-16fc7c05f48f"
      },
      "outputs": [
        {
          "data": {
            "image/png": "[encoded data removed]",
            "text/plain": [
              "<Figure size 504x216 with 1 Axes>"
            ]
          },
          "metadata": {
            "needs_background": "light"
          },
          "output_type": "display_data"
        }
      ],
      "source": [
        "df_mrg_free['duration'].plot(kind = 'hist', grid=True, figsize = (7,3), bins = 30, label='без подписки')\n",
        "df_mrg_ultra['duration'].plot(kind = 'hist', grid=True, figsize = (7,3), bins = 30, label='с подпиской Ultra')\n",
        "plt.title('Продолжительность одной поездки пользователей с подпиской и без')\n",
        "plt.xlabel('время, мин')\n",
        "plt.ylabel('количество пользователей')\n",
        "plt.legend(loc='upper right')\n",
        "plt.show()"
      ]
    },
    {
      "cell_type": "markdown",
      "id": "99fda946",
      "metadata": {
        "id": "99fda946"
      },
      "source": [
        "**Вывод**\n",
        "\n",
        "* Объединили 3 датафрейма в один общий. Создали еще два датафрейма с данными о пользователях с подпиской и без подписки\n",
        "* На ставнительных графиках видим разницу в расстоянии и времени поездок в двух категориях пользователей\n"
      ]
    },
    {
      "cell_type": "markdown",
      "id": "402d620f",
      "metadata": {
        "id": "402d620f"
      },
      "source": [
        "# Шаг 5. Подсчёт выручки"
      ]
    },
    {
      "cell_type": "markdown",
      "id": "8y2X2ZIOpIDo",
      "metadata": {
        "id": "8y2X2ZIOpIDo"
      },
      "source": [
        "#### 5.1\n",
        "Создайте датафрейм с агрегированными данными о поездках на основе датафрейма с объединёнными данными из шага 4: найдите суммарное расстояние, количество поездок и суммарное время для каждого пользователя за каждый месяц."
      ]
    },
    {
      "cell_type": "code",
      "execution_count": null,
      "id": "53049e0a",
      "metadata": {
        "colab": {
          "base_uri": "https://localhost:8080/",
          "height": 424
        },
        "id": "53049e0a",
        "outputId": "396c4b1c-a9f8-4fa4-db05-0c1046d38c83"
      },
      "outputs": [
        {
          "data": {
            "text/html": [
              "<div>\n",
              "<style scoped>\n",
              "    .dataframe tbody tr th:only-of-type {\n",
              "        vertical-align: middle;\n",
              "    }\n",
              "\n",
              "    .dataframe tbody tr th {\n",
              "        vertical-align: top;\n",
              "    }\n",
              "\n",
              "    .dataframe thead th {\n",
              "        text-align: right;\n",
              "    }\n",
              "</style>\n",
              "<table border=\"1\" class=\"dataframe\">\n",
              "  <thead>\n",
              "    <tr style=\"text-align: right;\">\n",
              "      <th></th>\n",
              "      <th>user_id</th>\n",
              "      <th>month</th>\n",
              "      <th>count_distance</th>\n",
              "      <th>sum_distance</th>\n",
              "      <th>sum_duration</th>\n",
              "    </tr>\n",
              "  </thead>\n",
              "  <tbody>\n",
              "    <tr>\n",
              "      <th>0</th>\n",
              "      <td>1</td>\n",
              "      <td>1</td>\n",
              "      <td>2</td>\n",
              "      <td>7027.511294</td>\n",
              "      <td>42</td>\n",
              "    </tr>\n",
              "    <tr>\n",
              "      <th>1</th>\n",
              "      <td>1</td>\n",
              "      <td>4</td>\n",
              "      <td>1</td>\n",
              "      <td>754.159807</td>\n",
              "      <td>7</td>\n",
              "    </tr>\n",
              "    <tr>\n",
              "      <th>2</th>\n",
              "      <td>1</td>\n",
              "      <td>8</td>\n",
              "      <td>2</td>\n",
              "      <td>6723.470560</td>\n",
              "      <td>46</td>\n",
              "    </tr>\n",
              "    <tr>\n",
              "      <th>3</th>\n",
              "      <td>1</td>\n",
              "      <td>10</td>\n",
              "      <td>2</td>\n",
              "      <td>5809.911100</td>\n",
              "      <td>32</td>\n",
              "    </tr>\n",
              "    <tr>\n",
              "      <th>4</th>\n",
              "      <td>1</td>\n",
              "      <td>11</td>\n",
              "      <td>3</td>\n",
              "      <td>7003.499363</td>\n",
              "      <td>56</td>\n",
              "    </tr>\n",
              "    <tr>\n",
              "      <th>...</th>\n",
              "      <td>...</td>\n",
              "      <td>...</td>\n",
              "      <td>...</td>\n",
              "      <td>...</td>\n",
              "      <td>...</td>\n",
              "    </tr>\n",
              "    <tr>\n",
              "      <th>11326</th>\n",
              "      <td>1534</td>\n",
              "      <td>6</td>\n",
              "      <td>2</td>\n",
              "      <td>3409.468534</td>\n",
              "      <td>26</td>\n",
              "    </tr>\n",
              "    <tr>\n",
              "      <th>11327</th>\n",
              "      <td>1534</td>\n",
              "      <td>8</td>\n",
              "      <td>2</td>\n",
              "      <td>7622.453034</td>\n",
              "      <td>48</td>\n",
              "    </tr>\n",
              "    <tr>\n",
              "      <th>11328</th>\n",
              "      <td>1534</td>\n",
              "      <td>9</td>\n",
              "      <td>1</td>\n",
              "      <td>4928.173852</td>\n",
              "      <td>23</td>\n",
              "    </tr>\n",
              "    <tr>\n",
              "      <th>11329</th>\n",
              "      <td>1534</td>\n",
              "      <td>11</td>\n",
              "      <td>4</td>\n",
              "      <td>13350.015305</td>\n",
              "      <td>78</td>\n",
              "    </tr>\n",
              "    <tr>\n",
              "      <th>11330</th>\n",
              "      <td>1534</td>\n",
              "      <td>12</td>\n",
              "      <td>1</td>\n",
              "      <td>2371.711192</td>\n",
              "      <td>16</td>\n",
              "    </tr>\n",
              "  </tbody>\n",
              "</table>\n",
              "<p>11331 rows × 5 columns</p>\n",
              "</div>"
            ],
            "text/plain": [
              "       user_id  month  count_distance  sum_distance  sum_duration\n",
              "0            1      1               2   7027.511294            42\n",
              "1            1      4               1    754.159807             7\n",
              "2            1      8               2   6723.470560            46\n",
              "3            1     10               2   5809.911100            32\n",
              "4            1     11               3   7003.499363            56\n",
              "...        ...    ...             ...           ...           ...\n",
              "11326     1534      6               2   3409.468534            26\n",
              "11327     1534      8               2   7622.453034            48\n",
              "11328     1534      9               1   4928.173852            23\n",
              "11329     1534     11               4  13350.015305            78\n",
              "11330     1534     12               1   2371.711192            16\n",
              "\n",
              "[11331 rows x 5 columns]"
            ]
          },
          "metadata": {},
          "output_type": "display_data"
        }
      ],
      "source": [
        "# округлим время поезки до следующего целого числа\n",
        "df_mrg['duration'] = np.ceil(df_mrg['duration'])\n",
        "df_mrg['duration'] = df_mrg['duration'].astype('int')\n",
        "\n",
        "df_mrg_agg = df_mrg.pivot_table(index= ['user_id', 'month'], values = ['distance', 'duration'], aggfunc = ['count', 'sum'])\n",
        "df_mrg_agg.columns = ['_'.join(col) for col in df_mrg_agg.columns.values]\n",
        "df_mrg_agg = df_mrg_agg.drop(columns=['count_duration'])\n",
        "df_mrg_agg = df_mrg_agg.reset_index()\n",
        "display(df_mrg_agg)"
      ]
    },
    {
      "cell_type": "markdown",
      "id": "eVfJTGEkIUST",
      "metadata": {
        "id": "eVfJTGEkIUST"
      },
      "source": [
        "*   count_distance - количество поездок за месяц\n",
        "*   sum_distance - общая дистанция за месяц\n",
        "*   sum_duration - общая продолжительность поездок за месяц\n",
        "\n"
      ]
    },
    {
      "cell_type": "markdown",
      "id": "3IZefK5qyQz_",
      "metadata": {
        "id": "3IZefK5qyQz_"
      },
      "source": [
        "#### 5.2\n",
        "Добавляем столбец с помесячной выручкой, которую принёс каждый пользователь"
      ]
    },
    {
      "cell_type": "code",
      "execution_count": null,
      "id": "SQlsKEFGyP0A",
      "metadata": {
        "colab": {
          "base_uri": "https://localhost:8080/",
          "height": 424
        },
        "id": "SQlsKEFGyP0A",
        "outputId": "fd85aa4c-38c7-4204-a9da-2e355e99058d"
      },
      "outputs": [
        {
          "data": {
            "text/html": [
              "<div>\n",
              "<style scoped>\n",
              "    .dataframe tbody tr th:only-of-type {\n",
              "        vertical-align: middle;\n",
              "    }\n",
              "\n",
              "    .dataframe tbody tr th {\n",
              "        vertical-align: top;\n",
              "    }\n",
              "\n",
              "    .dataframe thead th {\n",
              "        text-align: right;\n",
              "    }\n",
              "</style>\n",
              "<table border=\"1\" class=\"dataframe\">\n",
              "  <thead>\n",
              "    <tr style=\"text-align: right;\">\n",
              "      <th></th>\n",
              "      <th>user_id</th>\n",
              "      <th>month</th>\n",
              "      <th>count_distance</th>\n",
              "      <th>sum_distance</th>\n",
              "      <th>sum_duration</th>\n",
              "      <th>name</th>\n",
              "      <th>age</th>\n",
              "      <th>city</th>\n",
              "      <th>subscription_type</th>\n",
              "      <th>minute_price</th>\n",
              "      <th>start_ride_price</th>\n",
              "      <th>subscription_fee</th>\n",
              "    </tr>\n",
              "  </thead>\n",
              "  <tbody>\n",
              "    <tr>\n",
              "      <th>0</th>\n",
              "      <td>1</td>\n",
              "      <td>1</td>\n",
              "      <td>2</td>\n",
              "      <td>7027.511294</td>\n",
              "      <td>42</td>\n",
              "      <td>Кира</td>\n",
              "      <td>22</td>\n",
              "      <td>Тюмень</td>\n",
              "      <td>ultra</td>\n",
              "      <td>6</td>\n",
              "      <td>0</td>\n",
              "      <td>199</td>\n",
              "    </tr>\n",
              "    <tr>\n",
              "      <th>1</th>\n",
              "      <td>1</td>\n",
              "      <td>4</td>\n",
              "      <td>1</td>\n",
              "      <td>754.159807</td>\n",
              "      <td>7</td>\n",
              "      <td>Кира</td>\n",
              "      <td>22</td>\n",
              "      <td>Тюмень</td>\n",
              "      <td>ultra</td>\n",
              "      <td>6</td>\n",
              "      <td>0</td>\n",
              "      <td>199</td>\n",
              "    </tr>\n",
              "    <tr>\n",
              "      <th>2</th>\n",
              "      <td>1</td>\n",
              "      <td>8</td>\n",
              "      <td>2</td>\n",
              "      <td>6723.470560</td>\n",
              "      <td>46</td>\n",
              "      <td>Кира</td>\n",
              "      <td>22</td>\n",
              "      <td>Тюмень</td>\n",
              "      <td>ultra</td>\n",
              "      <td>6</td>\n",
              "      <td>0</td>\n",
              "      <td>199</td>\n",
              "    </tr>\n",
              "    <tr>\n",
              "      <th>3</th>\n",
              "      <td>1</td>\n",
              "      <td>10</td>\n",
              "      <td>2</td>\n",
              "      <td>5809.911100</td>\n",
              "      <td>32</td>\n",
              "      <td>Кира</td>\n",
              "      <td>22</td>\n",
              "      <td>Тюмень</td>\n",
              "      <td>ultra</td>\n",
              "      <td>6</td>\n",
              "      <td>0</td>\n",
              "      <td>199</td>\n",
              "    </tr>\n",
              "    <tr>\n",
              "      <th>4</th>\n",
              "      <td>1</td>\n",
              "      <td>11</td>\n",
              "      <td>3</td>\n",
              "      <td>7003.499363</td>\n",
              "      <td>56</td>\n",
              "      <td>Кира</td>\n",
              "      <td>22</td>\n",
              "      <td>Тюмень</td>\n",
              "      <td>ultra</td>\n",
              "      <td>6</td>\n",
              "      <td>0</td>\n",
              "      <td>199</td>\n",
              "    </tr>\n",
              "    <tr>\n",
              "      <th>...</th>\n",
              "      <td>...</td>\n",
              "      <td>...</td>\n",
              "      <td>...</td>\n",
              "      <td>...</td>\n",
              "      <td>...</td>\n",
              "      <td>...</td>\n",
              "      <td>...</td>\n",
              "      <td>...</td>\n",
              "      <td>...</td>\n",
              "      <td>...</td>\n",
              "      <td>...</td>\n",
              "      <td>...</td>\n",
              "    </tr>\n",
              "    <tr>\n",
              "      <th>11326</th>\n",
              "      <td>1534</td>\n",
              "      <td>6</td>\n",
              "      <td>2</td>\n",
              "      <td>3409.468534</td>\n",
              "      <td>26</td>\n",
              "      <td>Альберт</td>\n",
              "      <td>25</td>\n",
              "      <td>Краснодар</td>\n",
              "      <td>free</td>\n",
              "      <td>8</td>\n",
              "      <td>50</td>\n",
              "      <td>0</td>\n",
              "    </tr>\n",
              "    <tr>\n",
              "      <th>11327</th>\n",
              "      <td>1534</td>\n",
              "      <td>8</td>\n",
              "      <td>2</td>\n",
              "      <td>7622.453034</td>\n",
              "      <td>48</td>\n",
              "      <td>Альберт</td>\n",
              "      <td>25</td>\n",
              "      <td>Краснодар</td>\n",
              "      <td>free</td>\n",
              "      <td>8</td>\n",
              "      <td>50</td>\n",
              "      <td>0</td>\n",
              "    </tr>\n",
              "    <tr>\n",
              "      <th>11328</th>\n",
              "      <td>1534</td>\n",
              "      <td>9</td>\n",
              "      <td>1</td>\n",
              "      <td>4928.173852</td>\n",
              "      <td>23</td>\n",
              "      <td>Альберт</td>\n",
              "      <td>25</td>\n",
              "      <td>Краснодар</td>\n",
              "      <td>free</td>\n",
              "      <td>8</td>\n",
              "      <td>50</td>\n",
              "      <td>0</td>\n",
              "    </tr>\n",
              "    <tr>\n",
              "      <th>11329</th>\n",
              "      <td>1534</td>\n",
              "      <td>11</td>\n",
              "      <td>4</td>\n",
              "      <td>13350.015305</td>\n",
              "      <td>78</td>\n",
              "      <td>Альберт</td>\n",
              "      <td>25</td>\n",
              "      <td>Краснодар</td>\n",
              "      <td>free</td>\n",
              "      <td>8</td>\n",
              "      <td>50</td>\n",
              "      <td>0</td>\n",
              "    </tr>\n",
              "    <tr>\n",
              "      <th>11330</th>\n",
              "      <td>1534</td>\n",
              "      <td>12</td>\n",
              "      <td>1</td>\n",
              "      <td>2371.711192</td>\n",
              "      <td>16</td>\n",
              "      <td>Альберт</td>\n",
              "      <td>25</td>\n",
              "      <td>Краснодар</td>\n",
              "      <td>free</td>\n",
              "      <td>8</td>\n",
              "      <td>50</td>\n",
              "      <td>0</td>\n",
              "    </tr>\n",
              "  </tbody>\n",
              "</table>\n",
              "<p>11331 rows × 12 columns</p>\n",
              "</div>"
            ],
            "text/plain": [
              "       user_id  month  count_distance  sum_distance  sum_duration     name  \\\n",
              "0            1      1               2   7027.511294            42     Кира   \n",
              "1            1      4               1    754.159807             7     Кира   \n",
              "2            1      8               2   6723.470560            46     Кира   \n",
              "3            1     10               2   5809.911100            32     Кира   \n",
              "4            1     11               3   7003.499363            56     Кира   \n",
              "...        ...    ...             ...           ...           ...      ...   \n",
              "11326     1534      6               2   3409.468534            26  Альберт   \n",
              "11327     1534      8               2   7622.453034            48  Альберт   \n",
              "11328     1534      9               1   4928.173852            23  Альберт   \n",
              "11329     1534     11               4  13350.015305            78  Альберт   \n",
              "11330     1534     12               1   2371.711192            16  Альберт   \n",
              "\n",
              "       age       city subscription_type  minute_price  start_ride_price  \\\n",
              "0       22     Тюмень             ultra             6                 0   \n",
              "1       22     Тюмень             ultra             6                 0   \n",
              "2       22     Тюмень             ultra             6                 0   \n",
              "3       22     Тюмень             ultra             6                 0   \n",
              "4       22     Тюмень             ultra             6                 0   \n",
              "...    ...        ...               ...           ...               ...   \n",
              "11326   25  Краснодар              free             8                50   \n",
              "11327   25  Краснодар              free             8                50   \n",
              "11328   25  Краснодар              free             8                50   \n",
              "11329   25  Краснодар              free             8                50   \n",
              "11330   25  Краснодар              free             8                50   \n",
              "\n",
              "       subscription_fee  \n",
              "0                   199  \n",
              "1                   199  \n",
              "2                   199  \n",
              "3                   199  \n",
              "4                   199  \n",
              "...                 ...  \n",
              "11326                 0  \n",
              "11327                 0  \n",
              "11328                 0  \n",
              "11329                 0  \n",
              "11330                 0  \n",
              "\n",
              "[11331 rows x 12 columns]"
            ]
          },
          "metadata": {},
          "output_type": "display_data"
        }
      ],
      "source": [
        "df_mrg_agg = df_mrg_agg.merge(df_users, how='left', on='user_id')\n",
        "df_mrg_agg = df_mrg_agg.merge(df_subs, how = 'left', on='subscription_type')\n",
        "display(df_mrg_agg)"
      ]
    },
    {
      "cell_type": "code",
      "execution_count": null,
      "id": "XU7bPRx-XGzE",
      "metadata": {
        "colab": {
          "base_uri": "https://localhost:8080/",
          "height": 424
        },
        "id": "XU7bPRx-XGzE",
        "outputId": "6106f59b-f50b-4a39-b440-8553600607c6"
      },
      "outputs": [
        {
          "data": {
            "text/html": [
              "<div>\n",
              "<style scoped>\n",
              "    .dataframe tbody tr th:only-of-type {\n",
              "        vertical-align: middle;\n",
              "    }\n",
              "\n",
              "    .dataframe tbody tr th {\n",
              "        vertical-align: top;\n",
              "    }\n",
              "\n",
              "    .dataframe thead th {\n",
              "        text-align: right;\n",
              "    }\n",
              "</style>\n",
              "<table border=\"1\" class=\"dataframe\">\n",
              "  <thead>\n",
              "    <tr style=\"text-align: right;\">\n",
              "      <th></th>\n",
              "      <th>user_id</th>\n",
              "      <th>name</th>\n",
              "      <th>month</th>\n",
              "      <th>gain</th>\n",
              "    </tr>\n",
              "  </thead>\n",
              "  <tbody>\n",
              "    <tr>\n",
              "      <th>0</th>\n",
              "      <td>1</td>\n",
              "      <td>Кира</td>\n",
              "      <td>1</td>\n",
              "      <td>451</td>\n",
              "    </tr>\n",
              "    <tr>\n",
              "      <th>1</th>\n",
              "      <td>1</td>\n",
              "      <td>Кира</td>\n",
              "      <td>4</td>\n",
              "      <td>241</td>\n",
              "    </tr>\n",
              "    <tr>\n",
              "      <th>2</th>\n",
              "      <td>1</td>\n",
              "      <td>Кира</td>\n",
              "      <td>8</td>\n",
              "      <td>475</td>\n",
              "    </tr>\n",
              "    <tr>\n",
              "      <th>3</th>\n",
              "      <td>1</td>\n",
              "      <td>Кира</td>\n",
              "      <td>10</td>\n",
              "      <td>391</td>\n",
              "    </tr>\n",
              "    <tr>\n",
              "      <th>4</th>\n",
              "      <td>1</td>\n",
              "      <td>Кира</td>\n",
              "      <td>11</td>\n",
              "      <td>535</td>\n",
              "    </tr>\n",
              "    <tr>\n",
              "      <th>...</th>\n",
              "      <td>...</td>\n",
              "      <td>...</td>\n",
              "      <td>...</td>\n",
              "      <td>...</td>\n",
              "    </tr>\n",
              "    <tr>\n",
              "      <th>11326</th>\n",
              "      <td>1534</td>\n",
              "      <td>Альберт</td>\n",
              "      <td>6</td>\n",
              "      <td>308</td>\n",
              "    </tr>\n",
              "    <tr>\n",
              "      <th>11327</th>\n",
              "      <td>1534</td>\n",
              "      <td>Альберт</td>\n",
              "      <td>8</td>\n",
              "      <td>484</td>\n",
              "    </tr>\n",
              "    <tr>\n",
              "      <th>11328</th>\n",
              "      <td>1534</td>\n",
              "      <td>Альберт</td>\n",
              "      <td>9</td>\n",
              "      <td>234</td>\n",
              "    </tr>\n",
              "    <tr>\n",
              "      <th>11329</th>\n",
              "      <td>1534</td>\n",
              "      <td>Альберт</td>\n",
              "      <td>11</td>\n",
              "      <td>824</td>\n",
              "    </tr>\n",
              "    <tr>\n",
              "      <th>11330</th>\n",
              "      <td>1534</td>\n",
              "      <td>Альберт</td>\n",
              "      <td>12</td>\n",
              "      <td>178</td>\n",
              "    </tr>\n",
              "  </tbody>\n",
              "</table>\n",
              "<p>11331 rows × 4 columns</p>\n",
              "</div>"
            ],
            "text/plain": [
              "       user_id     name  month  gain\n",
              "0            1     Кира      1   451\n",
              "1            1     Кира      4   241\n",
              "2            1     Кира      8   475\n",
              "3            1     Кира     10   391\n",
              "4            1     Кира     11   535\n",
              "...        ...      ...    ...   ...\n",
              "11326     1534  Альберт      6   308\n",
              "11327     1534  Альберт      8   484\n",
              "11328     1534  Альберт      9   234\n",
              "11329     1534  Альберт     11   824\n",
              "11330     1534  Альберт     12   178\n",
              "\n",
              "[11331 rows x 4 columns]"
            ]
          },
          "metadata": {},
          "output_type": "display_data"
        }
      ],
      "source": [
        "# Добавляем столбец с помесячной выручкой, которую принёс каждый пользователь\n",
        "def gain(row):\n",
        "  gain_sum = 0\n",
        "  gain_sum = (row['start_ride_price'] * row['count_distance'] +\n",
        "              row['minute_price'] * row['sum_duration'] +\n",
        "              row['subscription_fee']\n",
        "              )\n",
        "  return gain_sum\n",
        "\n",
        "df_mrg_agg['gain'] = df_mrg_agg.apply(gain, axis=1)\n",
        "display(df_mrg_agg[['user_id', 'name', 'month', 'gain']])"
      ]
    },
    {
      "cell_type": "markdown",
      "id": "41545ac0",
      "metadata": {
        "id": "41545ac0"
      },
      "source": [
        "# Шаг 6. Проверка гипотез"
      ]
    },
    {
      "cell_type": "markdown",
      "id": "paMA_tpzfJDO",
      "metadata": {
        "id": "paMA_tpzfJDO"
      },
      "source": [
        "#### 6.1\n",
        " Важно понять, тратят ли пользователи с подпиской больше времени на поездки? Если да, то пользователи с подпиской могут быть «выгоднее» для компании. Проверьте гипотезу. Используйте исходные данные о продолжительности каждой сессии — отдельно для подписчиков и тех, у кого нет подписки."
      ]
    },
    {
      "cell_type": "markdown",
      "id": "-i1BXE6s0-Aj",
      "metadata": {
        "id": "-i1BXE6s0-Aj"
      },
      "source": [
        "Сравним две выборки, df_mrg_free и df_mrg_ultra и проверим гипотезы:\n",
        "\n",
        "*   Нулевая теория: среднее время поездок пользователей с подпиской и пользователей без подписки равны\n",
        "*   Альтернативная гипотеза: пользователи с подпиской тратят больше времени"
      ]
    },
    {
      "cell_type": "code",
      "execution_count": null,
      "id": "SkagxMm_f5Po",
      "metadata": {
        "colab": {
          "base_uri": "https://localhost:8080/"
        },
        "id": "SkagxMm_f5Po",
        "outputId": "070ea553-a89f-46e6-848d-91d96047d15a"
      },
      "outputs": [
        {
          "name": "stdout",
          "output_type": "stream",
          "text": [
            "p-значение: 1.2804098316645618e-34\n",
            "Отвергаем нулевую гипотезу\n"
          ]
        }
      ],
      "source": [
        "alpha = 0.05 # уровень статистической значимости\n",
        "\n",
        "# так как у нас левосторонняя альтернативная гипотеза используем параметр 'less'\n",
        "results = st.ttest_ind(df_mrg_ultra['duration'], df_mrg_free['duration'], alternative='greater')\n",
        "\n",
        "print('p-значение:', results.pvalue)\n",
        "\n",
        "if results.pvalue < alpha:\n",
        "    print('Отвергаем нулевую гипотезу')\n",
        "else:\n",
        "    print('Не отвергаем нулевую гипотезу')"
      ]
    },
    {
      "cell_type": "markdown",
      "id": "Y72Cqink9Cbl",
      "metadata": {
        "id": "Y72Cqink9Cbl"
      },
      "source": [
        "Гипотеза верна: среднее время поездок пользователей с подпиской больше время поездок пользователей без подписки"
      ]
    },
    {
      "cell_type": "code",
      "execution_count": null,
      "id": "dHNn_X155P8f",
      "metadata": {
        "colab": {
          "base_uri": "https://localhost:8080/"
        },
        "id": "dHNn_X155P8f",
        "outputId": "4c710880-c083-4832-a236-bec57742c350"
      },
      "outputs": [
        {
          "name": "stdout",
          "output_type": "stream",
          "text": [
            "Среднее время поездки пользователей c подпиской: 18.54\n",
            "Среднее время поездки пользователей без подписки: 17.39\n"
          ]
        }
      ],
      "source": [
        "# проверка\n",
        "print('Среднее время поездки пользователей c подпиской:', round(df_mrg_ultra['duration'].mean(),2))\n",
        "print('Среднее время поездки пользователей без подписки:', round(df_mrg_free['duration'].mean(),2))"
      ]
    },
    {
      "cell_type": "markdown",
      "id": "VyqSVIURfXxD",
      "metadata": {
        "id": "VyqSVIURfXxD"
      },
      "source": [
        "#### 6.2\n",
        "Расстояние одной поездки в 3130 метров — оптимальное с точки зрения износа самоката. Можно ли сказать, что расстояние, которое проезжают пользователи с подпиской за одну поездку, не превышает 3130 метров? Проверьте гипотезу и сделайте выводы.\n"
      ]
    },
    {
      "cell_type": "markdown",
      "id": "G8WcE7mF-1Yr",
      "metadata": {
        "id": "G8WcE7mF-1Yr"
      },
      "source": [
        "Проверим гипотезы:\n",
        "\n",
        "\n",
        "\n",
        "*   Нулевая гипотеза: среднее расстояние поездки пользователи с подпиской равна 3130 метрам\n",
        "*   Альтернативная гипотеза: среднее расстояние поездки пользователи с подпиской меньше 3130 метров\n"
      ]
    },
    {
      "cell_type": "code",
      "execution_count": null,
      "id": "XwGj0qiSf5zY",
      "metadata": {
        "colab": {
          "base_uri": "https://localhost:8080/"
        },
        "id": "XwGj0qiSf5zY",
        "outputId": "fa590199-f446-45fd-87c6-a36a3e2b07c8"
      },
      "outputs": [
        {
          "name": "stdout",
          "output_type": "stream",
          "text": [
            "p-значение: 0.08046311521502146\n",
            "Не получилось отвергнуть нулевую гипотезу\n"
          ]
        }
      ],
      "source": [
        "interested_value = 3130 # столько времени должны проводить пользователи на сайте\n",
        "\n",
        "alpha = 0.05 # уровень статистической значимости\n",
        "\n",
        "results = st.ttest_1samp(df_mrg_ultra['distance'], interested_value, alternative='less')\n",
        "\n",
        "print('p-значение:', results.pvalue)\n",
        "\n",
        "if results.pvalue < alpha:\n",
        "    print('Отвергаем нулевую гипотезу')\n",
        "else:\n",
        "    print('Не получилось отвергнуть нулевую гипотезу')\n"
      ]
    },
    {
      "cell_type": "markdown",
      "id": "d1NIi7f9CieP",
      "metadata": {
        "id": "d1NIi7f9CieP"
      },
      "source": [
        "Средняя дистанция поездки пользователи с подпиской действительно меньше 3130 метров"
      ]
    },
    {
      "cell_type": "code",
      "execution_count": null,
      "id": "Zur2hlgE-o8W",
      "metadata": {
        "colab": {
          "base_uri": "https://localhost:8080/"
        },
        "id": "Zur2hlgE-o8W",
        "outputId": "8ef6c1cb-4030-4f33-e821-b604ea4fc115"
      },
      "outputs": [
        {
          "name": "stdout",
          "output_type": "stream",
          "text": [
            "Среднее дистанция поездки пользователей c подпиской: 3115.0\n"
          ]
        }
      ],
      "source": [
        "print('Среднее дистанция поездки пользователей c подпиской:', round(df_mrg_ultra['distance'].mean(),0))"
      ]
    },
    {
      "cell_type": "markdown",
      "id": "26OHc0jdfwZ0",
      "metadata": {
        "id": "26OHc0jdfwZ0"
      },
      "source": [
        "#### 6.3\n",
        "Проверьте гипотезу о том, будет ли помесячная выручка от пользователей с подпиской по месяцам выше, чем выручка от пользователей без подписки. Сделайте вывод."
      ]
    },
    {
      "cell_type": "markdown",
      "id": "EtOnjTLnIuPe",
      "metadata": {
        "id": "EtOnjTLnIuPe"
      },
      "source": [
        "\n",
        "\n",
        "*   Нулевая гипотеза: помесячная выручка от пользователей с подпиской и без равны.\n",
        "*   Альтернативная гипотеза: помесячная выручка от пользователей с подпиской выше чем выручка от пользователей без подписки"
      ]
    },
    {
      "cell_type": "code",
      "execution_count": null,
      "id": "FXsMNkSNf6PU",
      "metadata": {
        "colab": {
          "base_uri": "https://localhost:8080/"
        },
        "id": "FXsMNkSNf6PU",
        "outputId": "4f3c8059-6fe6-4cb9-c45e-649a4366dfde"
      },
      "outputs": [
        {
          "name": "stdout",
          "output_type": "stream",
          "text": [
            "p-значение: 1.8850394384715216e-31\n",
            "Отвергаем нулевую гипотезу\n"
          ]
        }
      ],
      "source": [
        "# создадим две выборки с посчитанной помесячной выручкой\n",
        "df_mrg_agg_ultra = df_mrg_agg[df_mrg_agg['subscription_type'] == 'ultra']\n",
        "df_mrg_agg_free = df_mrg_agg[df_mrg_agg['subscription_type'] == 'free']\n",
        "\n",
        "alpha = 0.05 # уровень статистической значимости\n",
        "\n",
        "results = st.ttest_ind(df_mrg_agg_ultra['gain'], df_mrg_agg_free['gain'], alternative='greater')\n",
        "\n",
        "print('p-значение:', results.pvalue)\n",
        "\n",
        "if results.pvalue < alpha:\n",
        "    print('Отвергаем нулевую гипотезу')\n",
        "else:\n",
        "    print('Нет оснований отвергнуть нулевую гипотезу')"
      ]
    },
    {
      "cell_type": "markdown",
      "id": "cuZEaeKYJXab",
      "metadata": {
        "id": "cuZEaeKYJXab"
      },
      "source": [
        "Полученное значение p-value меньше заданного уровня значимости, поэтому можно отвергнуть нулевую гипотезу. Есть основания говорить, что помесячная выручка от пользователи с подпиской больше."
      ]
    },
    {
      "cell_type": "code",
      "execution_count": null,
      "id": "saHxI0g-KHix",
      "metadata": {
        "colab": {
          "base_uri": "https://localhost:8080/"
        },
        "id": "saHxI0g-KHix",
        "outputId": "bcedfee8-b5a6-4345-82cf-7d5bdbfc3077"
      },
      "outputs": [
        {
          "name": "stdout",
          "output_type": "stream",
          "text": [
            "Средняя помесячная выручка от пользователи с подпиской: 362.79\n",
            "Средняя помесячная выручка от пользователи без подписки: 328.64\n"
          ]
        }
      ],
      "source": [
        "# проверка\n",
        "print('Средняя помесячная выручка от пользователи с подпиской:', round(df_mrg_agg_ultra['gain'].mean(),2))\n",
        "print('Средняя помесячная выручка от пользователи без подписки:', round(df_mrg_agg_free['gain'].mean(),2))"
      ]
    },
    {
      "cell_type": "markdown",
      "id": "lIFzOnvaf1RW",
      "metadata": {
        "id": "lIFzOnvaf1RW"
      },
      "source": [
        "#### 6.4\n",
        "Представьте такую ситуацию: техническая команда сервиса обновила сервера, с которыми взаимодействует мобильное приложение. Она надеется, что из-за этого количество обращений в техподдержку значимо снизилось. Некоторый файл содержит для каждого пользователя данные о количестве обращений до обновления и после него. Какой тест вам понадобился бы для проверки этой гипотезы?"
      ]
    },
    {
      "cell_type": "code",
      "execution_count": null,
      "id": "23ea867b",
      "metadata": {
        "id": "23ea867b"
      },
      "outputs": [],
      "source": []
    },
    {
      "cell_type": "markdown",
      "id": "O1z_B0bALEM5",
      "metadata": {
        "id": "O1z_B0bALEM5"
      },
      "source": [
        "В данном случае правильнее применить тест проверки гипотез о равенстве средних для зависимых (парных) выборок. В  метод scipy.stats.ttest_rel() передать два параметра: наборы данных до обновления и после"
      ]
    },
    {
      "cell_type": "markdown",
      "id": "61213c5e",
      "metadata": {
        "id": "61213c5e"
      },
      "source": [
        "# Шаг 7. Распределения"
      ]
    },
    {
      "cell_type": "markdown",
      "id": "srkJs0VHMraV",
      "metadata": {
        "id": "srkJs0VHMraV"
      },
      "source": [
        "#### 7.1\n",
        "Отделу маркетинга GoFast поставили задачу: нужно провести акцию с раздачей промокодов на один бесплатный месяц подписки, в рамках которой как минимум\n",
        "100 существующих клиентов должны продлить эту подписку. То есть по завершении периода действия подписки пользователь может либо отказаться от неё, либо продлить, совершив соотвествующий платёж.\n",
        "Эта акция уже проводилась ранее и по итогу выяснилось, что после бесплатного пробного периода подписку продлевают 10% пользователей. Выясните, какое минимальное количество промокодов нужно разослать, чтобы вероятность не выполнить план была примерно 5%. Подберите параметры распределения, описывающего эту ситуацию, постройте график распределения и сформулируйте ответ на вопрос о количестве промокодов."
      ]
    },
    {
      "cell_type": "markdown",
      "id": "kxNxHub9Oh4v",
      "metadata": {
        "id": "kxNxHub9Oh4v"
      },
      "source": [
        "Для начала воспользуемся графиком биноминального распределения"
      ]
    },
    {
      "cell_type": "code",
      "execution_count": null,
      "id": "Lr0LUW99_FeW",
      "metadata": {
        "colab": {
          "base_uri": "https://localhost:8080/",
          "height": 447
        },
        "id": "Lr0LUW99_FeW",
        "outputId": "6b2c619c-30a6-41a8-8760-18d8ce525c41"
      },
      "outputs": [
        {
          "data": {
            "text/plain": [
              "<BarContainer object of 1001 artists>"
            ]
          },
          "execution_count": 35,
          "metadata": {},
          "output_type": "execute_result"
        },
        {
          "data": {
            "image/png": "[encoded data removed]",
            "text/plain": [
              "<Figure size 432x288 with 1 Axes>"
            ]
          },
          "metadata": {
            "needs_background": "light"
          },
          "output_type": "display_data"
        }
      ],
      "source": [
        "# определим примерный диапазон значений биномиального распределения графиком\n",
        "n = 1000\n",
        "p = 0.1\n",
        "distr = []\n",
        "\n",
        "for k in range(0, n + 1):\n",
        "    choose = factorial(n) / (factorial(k) * factorial(n - k))\n",
        "    prob = choose * p**k * (1 - p)**(n - k)\n",
        "    distr.append(prob)\n",
        "\n",
        "plt.bar(range(0, n + 1), distr)"
      ]
    },
    {
      "cell_type": "markdown",
      "id": "p-xWCxUFdgwV",
      "metadata": {
        "id": "p-xWCxUFdgwV"
      },
      "source": [
        "В диапазоне (n-500, n+500) определим минимальное количество промокодов чтобы вероятность не выполнить план была не больше 5%"
      ]
    },
    {
      "cell_type": "code",
      "execution_count": null,
      "id": "ifWpFswAZ7wM",
      "metadata": {
        "colab": {
          "base_uri": "https://localhost:8080/"
        },
        "id": "ifWpFswAZ7wM",
        "outputId": "8b7e0acc-57de-4886-fa50-23c37695c5c0"
      },
      "outputs": [
        {
          "name": "stdout",
          "output_type": "stream",
          "text": [
            "Минимальное число промокодов: 1161\n"
          ]
        }
      ],
      "source": [
        "for n in range (500,1500):\n",
        "    if binom.cdf(99, n, p) < 0.05:\n",
        "        print(\"Минимальное число промокодов:\", n)\n",
        "        break"
      ]
    },
    {
      "cell_type": "markdown",
      "id": "JpiLLLr8kb87",
      "metadata": {
        "id": "JpiLLLr8kb87"
      },
      "source": [
        "Для акции раздачи промокодов с целью получения не менее 100 продлений подписок, с вероясностью невыполнения не больше 5% нужно сделать рассылку менее 1161 промокодов"
      ]
    },
    {
      "cell_type": "markdown",
      "id": "SIwikyqlOkoi",
      "metadata": {
        "id": "SIwikyqlOkoi"
      },
      "source": [
        "#### 7.2\n",
        "Отдел маркетинга рассылает клиентам push-уведомления в мобильном приложении. Клиенты могут открыть его или не открывать. Известно, что уведомления открывают около 40% получивших клиентов. Отдел планирует разослать\n",
        "1 млн уведомлений. С помощью аппроксимации постройте примерный график распределения и оцените вероятность того, что уведомление откроют не более 399,5 тыс. пользователей."
      ]
    },
    {
      "cell_type": "markdown",
      "id": "nSL5xhmfm7DG",
      "metadata": {
        "id": "nSL5xhmfm7DG"
      },
      "source": [
        "Аппроксимируем биномиальное распределение нормальным и посчитаем"
      ]
    },
    {
      "cell_type": "code",
      "execution_count": null,
      "id": "95cd1d51",
      "metadata": {
        "colab": {
          "base_uri": "https://localhost:8080/"
        },
        "id": "95cd1d51",
        "outputId": "1c03e4c2-eefc-433c-baa3-501ae129dca2"
      },
      "outputs": [
        {
          "name": "stdout",
          "output_type": "stream",
          "text": [
            "Вероятность что push-уведомления откроют не более 399,5 тыс. пользователей: 0.15\n"
          ]
        }
      ],
      "source": [
        "# задаём параметры биномиального распределения\n",
        "n = 1000000\n",
        "p = 0.4\n",
        "\n",
        "mu = n * p\n",
        "sigma = sqrt(n * p * (1 - p))\n",
        "# задаём нормальное распределение\n",
        "distr = st.norm(mu, sigma)\n",
        "\n",
        "x = 399500\n",
        "\n",
        "# считаем вероятность получить значение, равное x или меньше\n",
        "result = distr.cdf(x)\n",
        "\n",
        "print('Вероятность что push-уведомления откроют не более 399,5 тыс. пользователей:',\n",
        "      round(result, 2))"
      ]
    },
    {
      "cell_type": "markdown",
      "id": "pHPS0zv9PB0W",
      "metadata": {
        "id": "pHPS0zv9PB0W"
      },
      "source": [
        "**Вывод**\n",
        "\n",
        "В условиях акции рассылки 1 млн. push-уведомлений вероятность что откроют их не более 399,5 тыс. пользователей - 15%"
      ]
    },
    {
      "cell_type": "markdown",
      "id": "db1c304a",
      "metadata": {
        "id": "db1c304a"
      },
      "source": [
        "**Общий вывод**\n",
        "\n",
        "При анализе данных нам удалось выяснить:\n",
        "\n",
        "* по предоставленным данным из 8-ми городов, больше всего пользователей из Пятигорска, меньше всего из Москвы.\n",
        "* средний возраст пользователя сервиса - 24.9 лет\n",
        "* Среднее расстояние большинства поездок чуль больше 3-х километров. Есть небольшой всплеск около поездок на 600м, можно предположить что эти поезки совершали пользователи, что бы добраться до станций метро или других остановок общественного транспорта\n",
        "* пользователей сервиса аренды самокатов без подписки больше чем пользователей с подпиской."
      ]
    },
    {
      "cell_type": "code",
      "execution_count": null,
      "id": "764739df",
      "metadata": {
        "id": "764739df",
        "outputId": "4b69d42f-e887-41d0-f079-723d26c0159b"
      },
      "outputs": [
        {
          "data": {
            "image/png": "[encoded data removed]",
            "text/plain": [
              "<Figure size 432x288 with 1 Axes>"
            ]
          },
          "metadata": {},
          "output_type": "display_data"
        }
      ],
      "source": [
        "fig, ax = plt.subplots()\n",
        "ax.pie(df_users_subs['user_id'], labels=df_users_subs['subscription_type'], autopct='%1.1f%%')\n",
        "plt.title('Соотношение пользователей с подпиской и без')\n",
        "plt.show()"
      ]
    },
    {
      "cell_type": "markdown",
      "id": "a78d5c46",
      "metadata": {
        "id": "a78d5c46"
      },
      "source": [
        "* средняя помечная выручка от пользователей с подпиской больше чем от пользователей без подписки"
      ]
    },
    {
      "cell_type": "markdown",
      "id": "f8ab48a5",
      "metadata": {
        "id": "f8ab48a5"
      },
      "source": [
        "В ходе исследования были подтверждены следующие гипотезы:\n",
        "\n",
        "* с вероятностью 5% время поездок пользователей с подпиской больше время поездок пользователей без подписки\n",
        "* средняя дистанция поездки пользователи с подпиской меньше 3130 метров (оптимальное расстояние с точки зрения износа самоката)\n",
        "* помесячная выручка от пользователей с подпиской выше чем выручка от пользователей без подписки\n"
      ]
    },
    {
      "cell_type": "markdown",
      "id": "f26b08e8",
      "metadata": {
        "id": "f26b08e8"
      },
      "source": [
        "Так же, для отдела маркетинга сделали расчеты:\n",
        "* для акции раздачи промокодов с целью получения не менее 100 продлений подписок: с нужно сделать рассылку не менее 1161 промокодов\n",
        "* для акции рассылки 1 млн. push-уведомлений вероятность что откроют их не более 399,5 тыс. пользователей - 15%"
      ]
    }
  ],
  "metadata": {
    "ExecuteTimeLog": [
      {
        "duration": 1143,
        "start_time": "2023-05-28T09:43:48.286Z"
      },
      {
        "duration": 2,
        "start_time": "2023-05-28T09:43:49.431Z"
      },
      {
        "duration": 310,
        "start_time": "2023-05-28T09:43:49.434Z"
      },
      {
        "duration": 17,
        "start_time": "2023-05-28T09:43:49.746Z"
      },
      {
        "duration": 16,
        "start_time": "2023-05-28T09:43:49.765Z"
      },
      {
        "duration": 12,
        "start_time": "2023-05-28T09:43:49.783Z"
      },
      {
        "duration": 9,
        "start_time": "2023-05-28T09:43:49.796Z"
      },
      {
        "duration": 9,
        "start_time": "2023-05-28T09:43:49.807Z"
      },
      {
        "duration": 5,
        "start_time": "2023-05-28T09:43:49.817Z"
      },
      {
        "duration": 6,
        "start_time": "2023-05-28T09:43:49.825Z"
      },
      {
        "duration": 15,
        "start_time": "2023-05-28T09:43:49.833Z"
      },
      {
        "duration": 13,
        "start_time": "2023-05-28T09:43:49.850Z"
      },
      {
        "duration": 170,
        "start_time": "2023-05-28T09:43:49.864Z"
      },
      {
        "duration": 131,
        "start_time": "2023-05-28T09:43:50.035Z"
      },
      {
        "duration": 158,
        "start_time": "2023-05-28T09:43:50.168Z"
      },
      {
        "duration": 161,
        "start_time": "2023-05-28T09:43:50.328Z"
      },
      {
        "duration": 176,
        "start_time": "2023-05-28T09:43:50.490Z"
      },
      {
        "duration": 27,
        "start_time": "2023-05-28T09:43:50.668Z"
      },
      {
        "duration": 21,
        "start_time": "2023-05-28T09:43:50.696Z"
      },
      {
        "duration": 12,
        "start_time": "2023-05-28T09:43:50.718Z"
      },
      {
        "duration": 217,
        "start_time": "2023-05-28T09:43:50.731Z"
      },
      {
        "duration": 203,
        "start_time": "2023-05-28T09:43:50.949Z"
      },
      {
        "duration": 99,
        "start_time": "2023-05-28T09:43:51.154Z"
      },
      {
        "duration": 22,
        "start_time": "2023-05-28T09:43:51.254Z"
      },
      {
        "duration": 191,
        "start_time": "2023-05-28T09:43:51.277Z"
      },
      {
        "duration": 4,
        "start_time": "2023-05-28T09:43:51.470Z"
      },
      {
        "duration": 19,
        "start_time": "2023-05-28T09:43:51.476Z"
      },
      {
        "duration": 5,
        "start_time": "2023-05-28T09:43:51.497Z"
      },
      {
        "duration": 21,
        "start_time": "2023-05-28T09:43:51.506Z"
      },
      {
        "duration": 13,
        "start_time": "2023-05-28T09:43:51.528Z"
      },
      {
        "duration": 16,
        "start_time": "2023-05-28T09:43:51.542Z"
      },
      {
        "duration": 1333,
        "start_time": "2023-05-28T09:43:51.560Z"
      },
      {
        "duration": 74,
        "start_time": "2023-05-28T09:43:52.894Z"
      },
      {
        "duration": 5,
        "start_time": "2023-05-28T09:43:52.969Z"
      },
      {
        "duration": 8,
        "start_time": "2023-05-28T10:27:11.811Z"
      },
      {
        "duration": 5,
        "start_time": "2023-05-28T10:29:28.943Z"
      },
      {
        "duration": 6,
        "start_time": "2023-05-28T10:29:48.127Z"
      },
      {
        "duration": 51,
        "start_time": "2023-05-28T11:26:27.054Z"
      },
      {
        "duration": 1219,
        "start_time": "2023-05-28T11:27:55.400Z"
      },
      {
        "duration": 3,
        "start_time": "2023-05-28T11:27:56.622Z"
      },
      {
        "duration": 191,
        "start_time": "2023-05-28T11:27:58.515Z"
      },
      {
        "duration": 4,
        "start_time": "2023-05-28T11:28:01.889Z"
      },
      {
        "duration": 24,
        "start_time": "2023-05-28T11:28:49.922Z"
      },
      {
        "duration": 29,
        "start_time": "2023-05-28T11:29:18.098Z"
      },
      {
        "duration": 15,
        "start_time": "2023-05-28T11:30:36.517Z"
      },
      {
        "duration": 14,
        "start_time": "2023-05-28T11:36:06.246Z"
      },
      {
        "duration": 7,
        "start_time": "2023-05-28T12:01:42.279Z"
      },
      {
        "duration": 9,
        "start_time": "2023-05-28T12:01:43.216Z"
      },
      {
        "duration": 6,
        "start_time": "2023-05-28T12:01:46.317Z"
      },
      {
        "duration": 189,
        "start_time": "2023-05-28T12:03:12.885Z"
      },
      {
        "duration": 161,
        "start_time": "2023-05-28T12:03:13.077Z"
      },
      {
        "duration": 194,
        "start_time": "2023-05-28T12:03:13.240Z"
      },
      {
        "duration": 215,
        "start_time": "2023-05-28T12:03:13.444Z"
      },
      {
        "duration": 195,
        "start_time": "2023-05-28T12:03:13.662Z"
      },
      {
        "duration": 33,
        "start_time": "2023-05-28T12:03:13.859Z"
      },
      {
        "duration": 17,
        "start_time": "2023-05-28T12:03:13.893Z"
      },
      {
        "duration": 46,
        "start_time": "2023-05-28T12:03:13.911Z"
      },
      {
        "duration": 268,
        "start_time": "2023-05-28T12:03:13.960Z"
      },
      {
        "duration": 259,
        "start_time": "2023-05-28T12:03:14.230Z"
      },
      {
        "duration": 87,
        "start_time": "2023-05-28T12:03:14.490Z"
      },
      {
        "duration": 0,
        "start_time": "2023-05-28T12:03:14.579Z"
      },
      {
        "duration": 0,
        "start_time": "2023-05-28T12:03:14.580Z"
      },
      {
        "duration": 0,
        "start_time": "2023-05-28T12:03:14.581Z"
      },
      {
        "duration": 0,
        "start_time": "2023-05-28T12:03:14.582Z"
      },
      {
        "duration": 0,
        "start_time": "2023-05-28T12:03:14.583Z"
      },
      {
        "duration": 0,
        "start_time": "2023-05-28T12:03:14.584Z"
      },
      {
        "duration": 0,
        "start_time": "2023-05-28T12:03:14.585Z"
      },
      {
        "duration": 0,
        "start_time": "2023-05-28T12:03:14.586Z"
      },
      {
        "duration": 0,
        "start_time": "2023-05-28T12:03:14.587Z"
      },
      {
        "duration": 0,
        "start_time": "2023-05-28T12:03:14.706Z"
      },
      {
        "duration": 0,
        "start_time": "2023-05-28T12:03:14.708Z"
      },
      {
        "duration": 15,
        "start_time": "2023-05-28T12:08:51.779Z"
      },
      {
        "duration": 6,
        "start_time": "2023-05-28T12:08:57.610Z"
      },
      {
        "duration": 11,
        "start_time": "2023-05-28T12:09:29.786Z"
      },
      {
        "duration": 7,
        "start_time": "2023-05-28T12:09:35.499Z"
      },
      {
        "duration": 6,
        "start_time": "2023-05-28T12:10:46.633Z"
      },
      {
        "duration": 7,
        "start_time": "2023-05-28T12:14:07.087Z"
      },
      {
        "duration": 26,
        "start_time": "2023-05-28T12:22:54.275Z"
      },
      {
        "duration": 5,
        "start_time": "2023-05-28T12:22:57.657Z"
      },
      {
        "duration": 8,
        "start_time": "2023-05-28T12:23:01.606Z"
      },
      {
        "duration": 64,
        "start_time": "2023-05-28T12:45:53.594Z"
      },
      {
        "duration": 118,
        "start_time": "2023-05-28T12:46:07.468Z"
      },
      {
        "duration": 113,
        "start_time": "2023-05-28T12:46:23.977Z"
      },
      {
        "duration": 127,
        "start_time": "2023-05-28T12:47:04.418Z"
      },
      {
        "duration": 12,
        "start_time": "2023-05-28T12:47:59.624Z"
      },
      {
        "duration": 301,
        "start_time": "2023-05-28T12:48:13.790Z"
      },
      {
        "duration": 132,
        "start_time": "2023-05-28T12:50:15.220Z"
      },
      {
        "duration": 76,
        "start_time": "2023-05-28T12:50:41.322Z"
      },
      {
        "duration": 21,
        "start_time": "2023-05-28T13:10:31.588Z"
      },
      {
        "duration": 3,
        "start_time": "2023-05-28T13:10:58.004Z"
      },
      {
        "duration": 4,
        "start_time": "2023-05-28T13:10:58.509Z"
      },
      {
        "duration": 63,
        "start_time": "2023-05-28T13:10:59.056Z"
      },
      {
        "duration": 3,
        "start_time": "2023-05-28T13:10:59.398Z"
      },
      {
        "duration": 17,
        "start_time": "2023-05-28T13:11:00.988Z"
      },
      {
        "duration": 18,
        "start_time": "2023-05-28T13:11:02.057Z"
      },
      {
        "duration": 18,
        "start_time": "2023-05-28T13:11:02.760Z"
      },
      {
        "duration": 9,
        "start_time": "2023-05-28T13:11:04.701Z"
      },
      {
        "duration": 10,
        "start_time": "2023-05-28T13:11:05.005Z"
      },
      {
        "duration": 7,
        "start_time": "2023-05-28T13:11:05.757Z"
      },
      {
        "duration": 11,
        "start_time": "2023-05-28T13:11:07.184Z"
      },
      {
        "duration": 24,
        "start_time": "2023-05-28T13:11:07.588Z"
      },
      {
        "duration": 6,
        "start_time": "2023-05-28T13:11:08.324Z"
      },
      {
        "duration": 5,
        "start_time": "2023-05-28T13:11:09.090Z"
      },
      {
        "duration": 183,
        "start_time": "2023-05-28T13:11:12.122Z"
      },
      {
        "duration": 175,
        "start_time": "2023-05-28T13:11:14.900Z"
      },
      {
        "duration": 74,
        "start_time": "2023-05-28T13:11:16.257Z"
      },
      {
        "duration": 223,
        "start_time": "2023-05-28T13:11:17.982Z"
      },
      {
        "duration": 208,
        "start_time": "2023-05-28T13:11:21.786Z"
      },
      {
        "duration": 196,
        "start_time": "2023-05-28T13:11:24.309Z"
      },
      {
        "duration": 33,
        "start_time": "2023-05-28T13:11:27.182Z"
      },
      {
        "duration": 19,
        "start_time": "2023-05-28T13:11:28.877Z"
      },
      {
        "duration": 21,
        "start_time": "2023-05-28T13:11:29.902Z"
      },
      {
        "duration": 361,
        "start_time": "2023-05-28T13:11:32.086Z"
      },
      {
        "duration": 244,
        "start_time": "2023-05-28T13:11:32.458Z"
      },
      {
        "duration": 44,
        "start_time": "2023-05-28T13:11:35.450Z"
      },
      {
        "duration": 6,
        "start_time": "2023-05-28T13:24:26.826Z"
      },
      {
        "duration": 7,
        "start_time": "2023-05-28T13:24:31.119Z"
      },
      {
        "duration": 6,
        "start_time": "2023-05-28T13:28:59.965Z"
      },
      {
        "duration": 83,
        "start_time": "2023-05-28T14:02:51.037Z"
      },
      {
        "duration": 77,
        "start_time": "2023-05-28T14:06:12.708Z"
      },
      {
        "duration": 36,
        "start_time": "2023-05-28T14:09:31.857Z"
      },
      {
        "duration": 208,
        "start_time": "2023-05-28T14:09:33.477Z"
      },
      {
        "duration": 11,
        "start_time": "2023-05-28T14:11:37.392Z"
      },
      {
        "duration": 10,
        "start_time": "2023-05-28T14:11:42.957Z"
      },
      {
        "duration": 5,
        "start_time": "2023-05-28T14:11:46.987Z"
      },
      {
        "duration": 76,
        "start_time": "2023-05-28T14:20:10.905Z"
      },
      {
        "duration": 5,
        "start_time": "2023-05-28T14:23:27.557Z"
      },
      {
        "duration": 6,
        "start_time": "2023-05-28T14:25:13.511Z"
      },
      {
        "duration": 6,
        "start_time": "2023-05-28T14:26:58.353Z"
      },
      {
        "duration": 71,
        "start_time": "2023-05-28T14:37:11.781Z"
      },
      {
        "duration": 1215,
        "start_time": "2023-05-28T15:01:22.311Z"
      },
      {
        "duration": 3,
        "start_time": "2023-05-28T15:01:23.528Z"
      },
      {
        "duration": 76,
        "start_time": "2023-05-28T15:01:23.532Z"
      },
      {
        "duration": 3,
        "start_time": "2023-05-28T15:01:23.610Z"
      },
      {
        "duration": 28,
        "start_time": "2023-05-28T15:01:23.614Z"
      },
      {
        "duration": 17,
        "start_time": "2023-05-28T15:01:23.644Z"
      },
      {
        "duration": 14,
        "start_time": "2023-05-28T15:01:23.663Z"
      },
      {
        "duration": 10,
        "start_time": "2023-05-28T15:01:23.679Z"
      },
      {
        "duration": 8,
        "start_time": "2023-05-28T15:01:23.691Z"
      },
      {
        "duration": 40,
        "start_time": "2023-05-28T15:01:23.702Z"
      },
      {
        "duration": 11,
        "start_time": "2023-05-28T15:01:23.744Z"
      },
      {
        "duration": 17,
        "start_time": "2023-05-28T15:01:23.757Z"
      },
      {
        "duration": 4,
        "start_time": "2023-05-28T15:01:23.775Z"
      },
      {
        "duration": 8,
        "start_time": "2023-05-28T15:01:23.781Z"
      },
      {
        "duration": 235,
        "start_time": "2023-05-28T15:01:23.791Z"
      },
      {
        "duration": 187,
        "start_time": "2023-05-28T15:01:24.028Z"
      },
      {
        "duration": 194,
        "start_time": "2023-05-28T15:01:24.217Z"
      },
      {
        "duration": 191,
        "start_time": "2023-05-28T15:01:24.412Z"
      },
      {
        "duration": 210,
        "start_time": "2023-05-28T15:01:24.604Z"
      },
      {
        "duration": 45,
        "start_time": "2023-05-28T15:01:24.815Z"
      },
      {
        "duration": 17,
        "start_time": "2023-05-28T15:01:24.862Z"
      },
      {
        "duration": 28,
        "start_time": "2023-05-28T15:01:24.881Z"
      },
      {
        "duration": 271,
        "start_time": "2023-05-28T15:01:24.911Z"
      },
      {
        "duration": 259,
        "start_time": "2023-05-28T15:01:25.184Z"
      },
      {
        "duration": 138,
        "start_time": "2023-05-28T15:01:25.445Z"
      },
      {
        "duration": 34,
        "start_time": "2023-05-28T15:01:25.585Z"
      },
      {
        "duration": 232,
        "start_time": "2023-05-28T15:01:25.621Z"
      },
      {
        "duration": 6,
        "start_time": "2023-05-28T15:01:25.856Z"
      },
      {
        "duration": 12,
        "start_time": "2023-05-28T15:01:25.863Z"
      },
      {
        "duration": 7,
        "start_time": "2023-05-28T15:01:25.877Z"
      },
      {
        "duration": 8,
        "start_time": "2023-05-28T15:01:25.886Z"
      },
      {
        "duration": 47,
        "start_time": "2023-05-28T15:01:25.896Z"
      },
      {
        "duration": 5,
        "start_time": "2023-05-28T15:01:25.945Z"
      },
      {
        "duration": 1576,
        "start_time": "2023-05-28T15:01:25.951Z"
      },
      {
        "duration": 91,
        "start_time": "2023-05-28T15:01:27.529Z"
      },
      {
        "duration": 5,
        "start_time": "2023-05-28T15:01:27.622Z"
      },
      {
        "duration": 86,
        "start_time": "2023-05-28T15:01:27.629Z"
      },
      {
        "duration": 1669,
        "start_time": "2023-05-28T18:58:45.942Z"
      },
      {
        "duration": 4,
        "start_time": "2023-05-28T18:58:47.615Z"
      },
      {
        "duration": 15,
        "start_time": "2023-05-28T18:58:49.176Z"
      },
      {
        "duration": 3,
        "start_time": "2023-05-28T18:58:49.810Z"
      },
      {
        "duration": 671,
        "start_time": "2023-05-28T18:58:50.571Z"
      },
      {
        "duration": 37,
        "start_time": "2023-05-28T18:58:56.699Z"
      },
      {
        "duration": 62,
        "start_time": "2023-05-28T18:58:59.699Z"
      },
      {
        "duration": 35,
        "start_time": "2023-05-28T18:59:01.069Z"
      },
      {
        "duration": 8,
        "start_time": "2023-05-28T18:59:03.914Z"
      },
      {
        "duration": 10,
        "start_time": "2023-05-28T18:59:04.313Z"
      },
      {
        "duration": 7,
        "start_time": "2023-05-28T18:59:05.101Z"
      },
      {
        "duration": 19,
        "start_time": "2023-05-28T18:59:06.616Z"
      },
      {
        "duration": 32,
        "start_time": "2023-05-28T18:59:06.983Z"
      },
      {
        "duration": 14,
        "start_time": "2023-05-28T18:59:07.644Z"
      },
      {
        "duration": 11,
        "start_time": "2023-05-28T18:59:08.352Z"
      },
      {
        "duration": 247,
        "start_time": "2023-05-28T18:59:11.305Z"
      },
      {
        "duration": 232,
        "start_time": "2023-05-28T18:59:14.017Z"
      },
      {
        "duration": 280,
        "start_time": "2023-05-28T18:59:15.591Z"
      },
      {
        "duration": 279,
        "start_time": "2023-05-28T18:59:17.107Z"
      },
      {
        "duration": 291,
        "start_time": "2023-05-28T18:59:18.670Z"
      },
      {
        "duration": 68,
        "start_time": "2023-05-28T18:59:20.875Z"
      },
      {
        "duration": 29,
        "start_time": "2023-05-28T18:59:22.283Z"
      },
      {
        "duration": 37,
        "start_time": "2023-05-28T18:59:22.776Z"
      },
      {
        "duration": 373,
        "start_time": "2023-05-28T18:59:23.591Z"
      },
      {
        "duration": 365,
        "start_time": "2023-05-28T18:59:24.019Z"
      },
      {
        "duration": 232,
        "start_time": "2023-05-28T18:59:28.050Z"
      },
      {
        "duration": 57,
        "start_time": "2023-05-28T18:59:29.517Z"
      },
      {
        "duration": 325,
        "start_time": "2023-05-28T18:59:30.009Z"
      },
      {
        "duration": 9,
        "start_time": "2023-05-28T19:00:19.362Z"
      },
      {
        "duration": 10,
        "start_time": "2023-05-28T19:00:25.922Z"
      },
      {
        "duration": 6,
        "start_time": "2023-05-28T19:01:00.307Z"
      },
      {
        "duration": 14,
        "start_time": "2023-05-28T19:01:03.079Z"
      },
      {
        "duration": 21,
        "start_time": "2023-05-28T19:01:05.267Z"
      },
      {
        "duration": 7,
        "start_time": "2023-05-28T19:01:06.899Z"
      },
      {
        "duration": 2546,
        "start_time": "2023-05-28T19:01:10.263Z"
      },
      {
        "duration": 157,
        "start_time": "2023-05-28T19:01:12.811Z"
      },
      {
        "duration": 13,
        "start_time": "2023-05-28T19:01:14.944Z"
      },
      {
        "duration": 7,
        "start_time": "2023-05-28T19:06:04.752Z"
      },
      {
        "duration": 1397,
        "start_time": "2023-05-28T19:06:50.094Z"
      },
      {
        "duration": 4,
        "start_time": "2023-05-28T19:06:51.493Z"
      },
      {
        "duration": 14,
        "start_time": "2023-05-28T19:06:51.499Z"
      },
      {
        "duration": 7,
        "start_time": "2023-05-28T19:06:51.515Z"
      },
      {
        "duration": 127,
        "start_time": "2023-05-28T19:06:51.524Z"
      },
      {
        "duration": 38,
        "start_time": "2023-05-28T19:06:51.654Z"
      },
      {
        "duration": 16,
        "start_time": "2023-05-28T19:06:51.694Z"
      },
      {
        "duration": 45,
        "start_time": "2023-05-28T19:06:51.712Z"
      },
      {
        "duration": 14,
        "start_time": "2023-05-28T19:06:51.769Z"
      },
      {
        "duration": 16,
        "start_time": "2023-05-28T19:06:51.788Z"
      },
      {
        "duration": 33,
        "start_time": "2023-05-28T19:06:51.805Z"
      },
      {
        "duration": 16,
        "start_time": "2023-05-28T19:06:51.841Z"
      },
      {
        "duration": 37,
        "start_time": "2023-05-28T19:06:51.858Z"
      },
      {
        "duration": 5,
        "start_time": "2023-05-28T19:06:51.897Z"
      },
      {
        "duration": 7,
        "start_time": "2023-05-28T19:06:51.904Z"
      },
      {
        "duration": 218,
        "start_time": "2023-05-28T19:06:51.912Z"
      },
      {
        "duration": 191,
        "start_time": "2023-05-28T19:06:52.132Z"
      },
      {
        "duration": 219,
        "start_time": "2023-05-28T19:06:52.324Z"
      },
      {
        "duration": 226,
        "start_time": "2023-05-28T19:06:52.544Z"
      },
      {
        "duration": 240,
        "start_time": "2023-05-28T19:06:52.772Z"
      },
      {
        "duration": 50,
        "start_time": "2023-05-28T19:06:53.013Z"
      },
      {
        "duration": 21,
        "start_time": "2023-05-28T19:06:53.065Z"
      },
      {
        "duration": 22,
        "start_time": "2023-05-28T19:06:53.088Z"
      },
      {
        "duration": 295,
        "start_time": "2023-05-28T19:06:53.111Z"
      },
      {
        "duration": 347,
        "start_time": "2023-05-28T19:06:53.407Z"
      },
      {
        "duration": 136,
        "start_time": "2023-05-28T19:06:53.766Z"
      },
      {
        "duration": 47,
        "start_time": "2023-05-28T19:06:53.904Z"
      },
      {
        "duration": 339,
        "start_time": "2023-05-28T19:06:53.955Z"
      },
      {
        "duration": 15,
        "start_time": "2023-05-28T19:06:54.296Z"
      },
      {
        "duration": 6,
        "start_time": "2023-05-28T19:06:54.313Z"
      },
      {
        "duration": 25,
        "start_time": "2023-05-28T19:06:54.321Z"
      },
      {
        "duration": 7,
        "start_time": "2023-05-28T19:06:54.348Z"
      },
      {
        "duration": 16,
        "start_time": "2023-05-28T19:06:54.359Z"
      },
      {
        "duration": 8,
        "start_time": "2023-05-28T19:06:54.383Z"
      },
      {
        "duration": 2059,
        "start_time": "2023-05-28T19:06:54.398Z"
      },
      {
        "duration": 143,
        "start_time": "2023-05-28T19:06:56.467Z"
      },
      {
        "duration": 6,
        "start_time": "2023-05-28T19:06:56.612Z"
      },
      {
        "duration": 138,
        "start_time": "2023-05-28T19:06:56.628Z"
      },
      {
        "duration": 1485,
        "start_time": "2023-05-28T19:22:37.334Z"
      },
      {
        "duration": 5,
        "start_time": "2023-05-28T19:22:38.821Z"
      },
      {
        "duration": 17,
        "start_time": "2023-05-28T19:22:38.828Z"
      },
      {
        "duration": 9,
        "start_time": "2023-05-28T19:22:38.848Z"
      },
      {
        "duration": 153,
        "start_time": "2023-05-28T19:22:38.861Z"
      },
      {
        "duration": 32,
        "start_time": "2023-05-28T19:22:39.019Z"
      },
      {
        "duration": 23,
        "start_time": "2023-05-28T19:22:39.052Z"
      },
      {
        "duration": 19,
        "start_time": "2023-05-28T19:22:39.077Z"
      },
      {
        "duration": 8,
        "start_time": "2023-05-28T19:22:39.098Z"
      },
      {
        "duration": 12,
        "start_time": "2023-05-28T19:22:39.108Z"
      },
      {
        "duration": 15,
        "start_time": "2023-05-28T19:22:39.134Z"
      },
      {
        "duration": 31,
        "start_time": "2023-05-28T19:22:39.151Z"
      },
      {
        "duration": 32,
        "start_time": "2023-05-28T19:22:39.184Z"
      },
      {
        "duration": 6,
        "start_time": "2023-05-28T19:22:39.228Z"
      },
      {
        "duration": 12,
        "start_time": "2023-05-28T19:22:39.236Z"
      },
      {
        "duration": 271,
        "start_time": "2023-05-28T19:22:39.250Z"
      },
      {
        "duration": 241,
        "start_time": "2023-05-28T19:22:39.523Z"
      },
      {
        "duration": 317,
        "start_time": "2023-05-28T19:22:39.770Z"
      },
      {
        "duration": 313,
        "start_time": "2023-05-28T19:22:40.093Z"
      },
      {
        "duration": 323,
        "start_time": "2023-05-28T19:22:40.412Z"
      },
      {
        "duration": 72,
        "start_time": "2023-05-28T19:22:40.742Z"
      },
      {
        "duration": 36,
        "start_time": "2023-05-28T19:22:40.821Z"
      },
      {
        "duration": 46,
        "start_time": "2023-05-28T19:22:40.864Z"
      },
      {
        "duration": 446,
        "start_time": "2023-05-28T19:22:40.917Z"
      },
      {
        "duration": 337,
        "start_time": "2023-05-28T19:22:41.368Z"
      },
      {
        "duration": 202,
        "start_time": "2023-05-28T19:22:41.719Z"
      },
      {
        "duration": 67,
        "start_time": "2023-05-28T19:22:41.923Z"
      },
      {
        "duration": 324,
        "start_time": "2023-05-28T19:22:41.998Z"
      },
      {
        "duration": 149,
        "start_time": "2023-05-28T19:22:42.324Z"
      },
      {
        "duration": 0,
        "start_time": "2023-05-28T19:22:42.475Z"
      },
      {
        "duration": 0,
        "start_time": "2023-05-28T19:22:42.476Z"
      },
      {
        "duration": 0,
        "start_time": "2023-05-28T19:22:42.478Z"
      },
      {
        "duration": 0,
        "start_time": "2023-05-28T19:22:42.480Z"
      },
      {
        "duration": 0,
        "start_time": "2023-05-28T19:22:42.482Z"
      },
      {
        "duration": 0,
        "start_time": "2023-05-28T19:22:42.483Z"
      },
      {
        "duration": 0,
        "start_time": "2023-05-28T19:22:42.484Z"
      },
      {
        "duration": 0,
        "start_time": "2023-05-28T19:22:42.485Z"
      },
      {
        "duration": 0,
        "start_time": "2023-05-28T19:22:42.492Z"
      },
      {
        "duration": 1128,
        "start_time": "2023-05-28T21:28:38.610Z"
      },
      {
        "duration": 3,
        "start_time": "2023-05-28T21:28:39.740Z"
      },
      {
        "duration": 4,
        "start_time": "2023-05-28T21:28:39.745Z"
      },
      {
        "duration": 11,
        "start_time": "2023-05-28T21:28:39.757Z"
      },
      {
        "duration": 368,
        "start_time": "2023-05-28T21:28:39.772Z"
      },
      {
        "duration": 37,
        "start_time": "2023-05-28T21:28:40.143Z"
      },
      {
        "duration": 28,
        "start_time": "2023-05-28T21:28:40.182Z"
      },
      {
        "duration": 15,
        "start_time": "2023-05-28T21:28:40.213Z"
      },
      {
        "duration": 32,
        "start_time": "2023-05-28T21:28:40.230Z"
      },
      {
        "duration": 18,
        "start_time": "2023-05-28T21:28:40.264Z"
      },
      {
        "duration": 11,
        "start_time": "2023-05-28T21:28:40.288Z"
      },
      {
        "duration": 18,
        "start_time": "2023-05-28T21:28:40.301Z"
      },
      {
        "duration": 38,
        "start_time": "2023-05-28T21:28:40.321Z"
      },
      {
        "duration": 5,
        "start_time": "2023-05-28T21:28:40.363Z"
      },
      {
        "duration": 10,
        "start_time": "2023-05-28T21:28:40.370Z"
      },
      {
        "duration": 197,
        "start_time": "2023-05-28T21:28:40.386Z"
      },
      {
        "duration": 155,
        "start_time": "2023-05-28T21:28:40.584Z"
      },
      {
        "duration": 203,
        "start_time": "2023-05-28T21:28:40.741Z"
      },
      {
        "duration": 232,
        "start_time": "2023-05-28T21:28:40.946Z"
      },
      {
        "duration": 261,
        "start_time": "2023-05-28T21:28:41.180Z"
      },
      {
        "duration": 47,
        "start_time": "2023-05-28T21:28:41.442Z"
      },
      {
        "duration": 19,
        "start_time": "2023-05-28T21:28:41.490Z"
      },
      {
        "duration": 15,
        "start_time": "2023-05-28T21:28:41.511Z"
      },
      {
        "duration": 309,
        "start_time": "2023-05-28T21:28:41.528Z"
      },
      {
        "duration": 262,
        "start_time": "2023-05-28T21:28:41.848Z"
      },
      {
        "duration": 139,
        "start_time": "2023-05-28T21:28:42.112Z"
      },
      {
        "duration": 42,
        "start_time": "2023-05-28T21:28:42.253Z"
      },
      {
        "duration": 228,
        "start_time": "2023-05-28T21:28:42.297Z"
      },
      {
        "duration": 157,
        "start_time": "2023-05-28T21:28:42.527Z"
      },
      {
        "duration": 0,
        "start_time": "2023-05-28T21:28:42.688Z"
      },
      {
        "duration": 0,
        "start_time": "2023-05-28T21:28:42.689Z"
      },
      {
        "duration": 0,
        "start_time": "2023-05-28T21:28:42.691Z"
      },
      {
        "duration": 0,
        "start_time": "2023-05-28T21:28:42.693Z"
      },
      {
        "duration": 0,
        "start_time": "2023-05-28T21:28:42.694Z"
      },
      {
        "duration": 0,
        "start_time": "2023-05-28T21:28:42.696Z"
      },
      {
        "duration": 0,
        "start_time": "2023-05-28T21:28:42.698Z"
      },
      {
        "duration": 0,
        "start_time": "2023-05-28T21:28:42.700Z"
      },
      {
        "duration": 0,
        "start_time": "2023-05-28T21:28:42.701Z"
      },
      {
        "duration": 4,
        "start_time": "2023-05-28T21:48:57.796Z"
      },
      {
        "duration": 3,
        "start_time": "2023-05-28T21:48:59.010Z"
      },
      {
        "duration": 4,
        "start_time": "2023-05-28T21:49:00.099Z"
      },
      {
        "duration": 4,
        "start_time": "2023-05-28T21:49:00.609Z"
      },
      {
        "duration": 93,
        "start_time": "2023-05-28T21:49:01.259Z"
      },
      {
        "duration": 18,
        "start_time": "2023-05-28T21:49:12.466Z"
      },
      {
        "duration": 29,
        "start_time": "2023-05-28T21:49:15.037Z"
      },
      {
        "duration": 21,
        "start_time": "2023-05-28T21:49:16.314Z"
      },
      {
        "duration": 8,
        "start_time": "2023-05-28T21:49:19.918Z"
      },
      {
        "duration": 11,
        "start_time": "2023-05-28T21:49:20.424Z"
      },
      {
        "duration": 8,
        "start_time": "2023-05-28T21:49:21.504Z"
      },
      {
        "duration": 14,
        "start_time": "2023-05-28T21:49:23.592Z"
      },
      {
        "duration": 23,
        "start_time": "2023-05-28T21:49:24.113Z"
      },
      {
        "duration": 6,
        "start_time": "2023-05-28T21:49:25.027Z"
      },
      {
        "duration": 8,
        "start_time": "2023-05-28T21:49:26.195Z"
      },
      {
        "duration": 224,
        "start_time": "2023-05-28T21:49:29.998Z"
      },
      {
        "duration": 167,
        "start_time": "2023-05-28T21:49:33.493Z"
      },
      {
        "duration": 272,
        "start_time": "2023-05-28T21:49:36.017Z"
      },
      {
        "duration": 211,
        "start_time": "2023-05-28T21:49:51.055Z"
      },
      {
        "duration": 304,
        "start_time": "2023-05-28T21:49:54.184Z"
      },
      {
        "duration": 44,
        "start_time": "2023-05-28T21:50:09.896Z"
      },
      {
        "duration": 22,
        "start_time": "2023-05-28T21:50:12.798Z"
      },
      {
        "duration": 28,
        "start_time": "2023-05-28T21:50:13.496Z"
      },
      {
        "duration": 272,
        "start_time": "2023-05-28T21:50:15.658Z"
      },
      {
        "duration": 309,
        "start_time": "2023-05-28T21:50:16.411Z"
      },
      {
        "duration": 53,
        "start_time": "2023-05-28T21:50:22.106Z"
      },
      {
        "duration": 43,
        "start_time": "2023-05-28T21:50:24.292Z"
      },
      {
        "duration": 290,
        "start_time": "2023-05-28T21:50:25.054Z"
      },
      {
        "duration": 92,
        "start_time": "2023-05-28T21:50:35.466Z"
      },
      {
        "duration": 12,
        "start_time": "2023-05-28T21:52:18.284Z"
      },
      {
        "duration": 7,
        "start_time": "2023-05-28T21:53:02.947Z"
      },
      {
        "duration": 8,
        "start_time": "2023-05-28T21:53:07.896Z"
      },
      {
        "duration": 6,
        "start_time": "2023-05-28T21:53:11.396Z"
      },
      {
        "duration": 15,
        "start_time": "2023-05-28T21:53:13.428Z"
      },
      {
        "duration": 7,
        "start_time": "2023-05-28T21:53:14.919Z"
      },
      {
        "duration": 1865,
        "start_time": "2023-05-28T21:53:31.741Z"
      },
      {
        "duration": 191,
        "start_time": "2023-05-28T21:53:33.608Z"
      },
      {
        "duration": 8,
        "start_time": "2023-05-28T21:53:36.112Z"
      },
      {
        "duration": 135,
        "start_time": "2023-05-28T21:53:40.791Z"
      },
      {
        "duration": 1084,
        "start_time": "2023-05-29T15:44:36.496Z"
      },
      {
        "duration": 3,
        "start_time": "2023-05-29T15:44:37.582Z"
      },
      {
        "duration": 8,
        "start_time": "2023-05-29T15:44:37.587Z"
      },
      {
        "duration": 4,
        "start_time": "2023-05-29T15:44:37.597Z"
      },
      {
        "duration": 306,
        "start_time": "2023-05-29T15:44:37.602Z"
      },
      {
        "duration": 24,
        "start_time": "2023-05-29T15:44:37.910Z"
      },
      {
        "duration": 25,
        "start_time": "2023-05-29T15:44:37.937Z"
      },
      {
        "duration": 15,
        "start_time": "2023-05-29T15:44:37.965Z"
      },
      {
        "duration": 9,
        "start_time": "2023-05-29T15:44:37.982Z"
      },
      {
        "duration": 8,
        "start_time": "2023-05-29T15:44:37.994Z"
      },
      {
        "duration": 7,
        "start_time": "2023-05-29T15:44:38.003Z"
      },
      {
        "duration": 50,
        "start_time": "2023-05-29T15:44:38.012Z"
      },
      {
        "duration": 16,
        "start_time": "2023-05-29T15:44:38.064Z"
      },
      {
        "duration": 5,
        "start_time": "2023-05-29T15:44:38.082Z"
      },
      {
        "duration": 5,
        "start_time": "2023-05-29T15:44:38.089Z"
      },
      {
        "duration": 215,
        "start_time": "2023-05-29T15:44:38.096Z"
      },
      {
        "duration": 162,
        "start_time": "2023-05-29T15:44:38.312Z"
      },
      {
        "duration": 188,
        "start_time": "2023-05-29T15:44:38.475Z"
      },
      {
        "duration": 186,
        "start_time": "2023-05-29T15:44:38.665Z"
      },
      {
        "duration": 200,
        "start_time": "2023-05-29T15:44:38.857Z"
      },
      {
        "duration": 34,
        "start_time": "2023-05-29T15:44:39.059Z"
      },
      {
        "duration": 18,
        "start_time": "2023-05-29T15:44:39.095Z"
      },
      {
        "duration": 42,
        "start_time": "2023-05-29T15:44:39.115Z"
      },
      {
        "duration": 264,
        "start_time": "2023-05-29T15:44:39.159Z"
      },
      {
        "duration": 242,
        "start_time": "2023-05-29T15:44:39.425Z"
      },
      {
        "duration": 119,
        "start_time": "2023-05-29T15:44:39.669Z"
      },
      {
        "duration": 25,
        "start_time": "2023-05-29T15:44:39.790Z"
      },
      {
        "duration": 206,
        "start_time": "2023-05-29T15:44:39.818Z"
      },
      {
        "duration": 5,
        "start_time": "2023-05-29T15:44:40.026Z"
      },
      {
        "duration": 22,
        "start_time": "2023-05-29T15:44:40.033Z"
      },
      {
        "duration": 19,
        "start_time": "2023-05-29T15:44:40.057Z"
      },
      {
        "duration": 17,
        "start_time": "2023-05-29T15:44:40.078Z"
      },
      {
        "duration": 9,
        "start_time": "2023-05-29T15:44:40.097Z"
      },
      {
        "duration": 8,
        "start_time": "2023-05-29T15:44:40.107Z"
      },
      {
        "duration": 1550,
        "start_time": "2023-05-29T15:44:40.117Z"
      },
      {
        "duration": 97,
        "start_time": "2023-05-29T15:44:41.668Z"
      },
      {
        "duration": 7,
        "start_time": "2023-05-29T15:44:41.766Z"
      },
      {
        "duration": 90,
        "start_time": "2023-05-29T15:44:41.775Z"
      }
    ],
    "colab": {
      "provenance": [],
      "toc_visible": true
    },
    "kernelspec": {
      "display_name": "Python 3 (ipykernel)",
      "language": "python",
      "name": "python3"
    },
    "language_info": {
      "codemirror_mode": {
        "name": "ipython",
        "version": 3
      },
      "file_extension": ".py",
      "mimetype": "text/x-python",
      "name": "python",
      "nbconvert_exporter": "python",
      "pygments_lexer": "ipython3",
      "version": "3.9.5"
    },
    "toc": {
      "base_numbering": 1,
      "nav_menu": {},
      "number_sections": true,
      "sideBar": true,
      "skip_h1_title": true,
      "title_cell": "Table of Contents",
      "title_sidebar": "Contents",
      "toc_cell": false,
      "toc_position": {},
      "toc_section_display": true,
      "toc_window_display": true
    }
  },
  "nbformat": 4,
  "nbformat_minor": 5
}